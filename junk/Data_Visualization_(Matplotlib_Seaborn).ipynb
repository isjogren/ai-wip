{
  "cells": [
    {
      "cell_type": "markdown",
      "metadata": {
        "id": "view-in-github",
        "colab_type": "text"
      },
      "source": [
        "<a href=\"https://colab.research.google.com/github/isjogren/ai-wip/blob/main/junk/Data_Visualization_(Matplotlib_Seaborn).ipynb\" target=\"_parent\"><img src=\"https://colab.research.google.com/assets/colab-badge.svg\" alt=\"Open In Colab\"/></a>"
      ]
    },
    {
      "cell_type": "markdown",
      "metadata": {
        "id": "n7yww1Acxdba"
      },
      "source": [
        "# Python Data Visualization (Matplotlib/Seaborn)"
      ]
    },
    {
      "cell_type": "code",
      "execution_count": null,
      "metadata": {
        "id": "VTmY7DeDxdbb"
      },
      "outputs": [],
      "source": [
        "import pandas as pd\n",
        "import matplotlib.pyplot as plt"
      ]
    },
    {
      "cell_type": "markdown",
      "metadata": {
        "id": "pfQneEa_xdbc"
      },
      "source": [
        "### Dataset: Heart Disease"
      ]
    },
    {
      "cell_type": "code",
      "execution_count": null,
      "metadata": {
        "id": "aI9SAcKyxdbc"
      },
      "outputs": [],
      "source": [
        "df = pd.read_csv(\"heart-disease.csv\")\n",
        "\n",
        "df.head()"
      ]
    },
    {
      "cell_type": "markdown",
      "metadata": {
        "id": "qclwAFWtxdbd"
      },
      "source": [
        "---"
      ]
    },
    {
      "cell_type": "markdown",
      "metadata": {
        "id": "wR3lPLqFxdbd"
      },
      "source": [
        "# Matplotlib"
      ]
    },
    {
      "cell_type": "markdown",
      "metadata": {
        "id": "QE5QlRcpxdbd"
      },
      "source": [
        "## Figures and Axes"
      ]
    },
    {
      "cell_type": "code",
      "execution_count": null,
      "metadata": {
        "id": "jqMJ-R1xxdbd"
      },
      "outputs": [],
      "source": [
        "# subplots() returns a figure and axis\n",
        "\n",
        "fig, ax = plt.subplots()"
      ]
    },
    {
      "cell_type": "markdown",
      "metadata": {
        "id": "bQOK40sExdbd"
      },
      "source": [
        "---"
      ]
    },
    {
      "cell_type": "markdown",
      "metadata": {
        "id": "XYZkTpJVxdbd"
      },
      "source": [
        "# Line Plot"
      ]
    },
    {
      "cell_type": "code",
      "execution_count": null,
      "metadata": {
        "id": "AzndGLpFxdbe"
      },
      "outputs": [],
      "source": [
        "# Defaults to row index on x-axis\n",
        "\n",
        "fig, ax = plt.subplots()\n",
        "\n",
        "ax.plot(df[\"max_hr\"]);"
      ]
    },
    {
      "cell_type": "markdown",
      "metadata": {
        "id": "4vz9o-awxdbe"
      },
      "source": [
        "## Create multiple plots"
      ]
    },
    {
      "cell_type": "markdown",
      "metadata": {
        "id": "KdbtlvOfxdbe"
      },
      "source": [
        "### Separate rows"
      ]
    },
    {
      "cell_type": "code",
      "execution_count": null,
      "metadata": {
        "id": "CnYj3sGUxdbe"
      },
      "outputs": [],
      "source": [
        "# Render plots in separate axes;   subplots(n_rows, n_cols)\n",
        "# 2 rows\n",
        "\n",
        "fig, axes = plt.subplots(2)\n",
        "\n",
        "axes[0].plot(df[\"max_hr\"])\n",
        "axes[1].plot(df[\"age\"]);"
      ]
    },
    {
      "cell_type": "markdown",
      "metadata": {
        "id": "AgoFDj46xdbe"
      },
      "source": [
        "### Separate columns"
      ]
    },
    {
      "cell_type": "code",
      "execution_count": null,
      "metadata": {
        "id": "7Qv88gFOxdbe"
      },
      "outputs": [],
      "source": [
        "# Render plots in separate axes;   subplots(n_rows, n_cols)\n",
        "# 1 row, 2 columns\n",
        "\n",
        "fig, axes = plt.subplots(1,2)\n",
        "\n",
        "\n",
        "axes[0].plot(df[\"max_hr\"])\n",
        "axes[1].plot(df[\"age\"]);"
      ]
    },
    {
      "cell_type": "markdown",
      "metadata": {
        "id": "0QWClQRzxdbe"
      },
      "source": [
        "## Set the figsize"
      ]
    },
    {
      "cell_type": "code",
      "execution_count": null,
      "metadata": {
        "id": "Raf8ylLvxdbf"
      },
      "outputs": [],
      "source": [
        "# Set the size of the figure  (figsize=(w, h))\n",
        "fig, axes = plt.subplots(1,2, figsize=(15, 5))\n",
        "\n",
        "\n",
        "axes[0].plot(df[\"max_hr\"])\n",
        "axes[1].plot(df[\"age\"]);"
      ]
    },
    {
      "cell_type": "markdown",
      "metadata": {
        "id": "gDXZiyoNxdbf"
      },
      "source": [
        "## Set properties"
      ]
    },
    {
      "cell_type": "code",
      "execution_count": null,
      "metadata": {
        "id": "JkRfn1Ocxdbf"
      },
      "outputs": [],
      "source": [
        "fig, ax = plt.subplots()\n",
        "\n",
        "ax.plot(df[\"max_hr\"]);\n",
        "\n",
        "# A more flexible way of setting properties\n",
        "ax.set_title(\"Line Plot\")\n",
        "ax.set_xlabel(\"Row Index\")\n",
        "ax.set_ylabel(\"Max HR\");"
      ]
    },
    {
      "cell_type": "code",
      "execution_count": null,
      "metadata": {
        "id": "TZDp81e1xdbf"
      },
      "outputs": [],
      "source": [
        "fig, ax = plt.subplots()\n",
        "\n",
        "ax.plot(df[\"max_hr\"]);\n",
        "\n",
        "# A more convenient way of setting properties\n",
        "ax.set(title=\"Line Plot\", xlabel=\"Row Index\", ylabel=\"Max HR\");"
      ]
    },
    {
      "cell_type": "markdown",
      "metadata": {
        "id": "oMZCawMlxdbf"
      },
      "source": [
        "---"
      ]
    },
    {
      "cell_type": "markdown",
      "metadata": {
        "id": "Kt37Ld_7xdbf"
      },
      "source": [
        "# Histogram"
      ]
    },
    {
      "cell_type": "code",
      "execution_count": null,
      "metadata": {
        "id": "ymiJmjryxdbf"
      },
      "outputs": [],
      "source": [
        "fig, ax = plt.subplots()\n",
        "\n",
        "ax.hist(df['age'], color='green', edgecolor='black')\n",
        "\n",
        "ax.set(xlabel=\"Age\", title=\"Histogram\");"
      ]
    },
    {
      "cell_type": "markdown",
      "metadata": {
        "id": "EOVF4uUGxdbf"
      },
      "source": [
        "### Set the number of bins to display"
      ]
    },
    {
      "cell_type": "code",
      "execution_count": null,
      "metadata": {
        "id": "THlaZHwJxdbg"
      },
      "outputs": [],
      "source": [
        "fig, ax = plt.subplots()\n",
        "\n",
        "ax.hist(df['age'], color = 'green', edgecolor='black', bins = 30)\n",
        "\n",
        "ax.set(xlabel=\"Age\", title=\"Histogram\");"
      ]
    },
    {
      "cell_type": "markdown",
      "metadata": {
        "id": "eedC46Eexdbg"
      },
      "source": [
        "---"
      ]
    },
    {
      "cell_type": "markdown",
      "metadata": {
        "id": "-lXG3nS_xdbg"
      },
      "source": [
        "# Scatter Plot"
      ]
    },
    {
      "cell_type": "code",
      "execution_count": null,
      "metadata": {
        "id": "3noG9dWZxdbg"
      },
      "outputs": [],
      "source": [
        "fig, ax = plt.subplots()\n",
        "\n",
        "#              (x-axis,       y-axis,      alpha,    size,     color)\n",
        "ax.scatter(x=df['age'], y=df['max_hr'], alpha=.3, s = 100, c = \"black\")\n",
        "\n",
        "# Set the properties\n",
        "ax.set(title=\"Heart Disease\", xlabel='Age', ylabel=\"Max HR\");"
      ]
    },
    {
      "cell_type": "markdown",
      "metadata": {
        "id": "WJNQsUlWxdbg"
      },
      "source": [
        "### Auto-set the colors based on class (target) membership\n",
        "The target variable must be an integer."
      ]
    },
    {
      "cell_type": "code",
      "execution_count": null,
      "metadata": {
        "id": "786vwXoYxdbg"
      },
      "outputs": [],
      "source": [
        "fig, ax = plt.subplots()\n",
        "\n",
        "\n",
        "ax.scatter(df['age'], df['max_hr'], alpha=.3, s = 200, c = df[\"heart_disease\"])\n",
        "\n",
        "ax.set(title=\"Heart Disease\", xlabel='Age', ylabel=\"Max HR\");"
      ]
    },
    {
      "cell_type": "markdown",
      "metadata": {
        "id": "QpbKH7ZNxdbg"
      },
      "source": [
        "### Set the marker (shape)"
      ]
    },
    {
      "cell_type": "code",
      "execution_count": null,
      "metadata": {
        "id": "iRZRUBWBxdbg"
      },
      "outputs": [],
      "source": [
        "fig, ax = plt.subplots()\n",
        "\n",
        "# sample markers: \"o\"(default), \"v\", \"^\", x\", \"P\", \"d\", \".\"\n",
        "ax.scatter(df['age'], df['max_hr'], alpha=.3, s = 200, c = df[\"heart_disease\"], marker=\"o\")\n",
        "\n",
        "ax.set(title=\"Heart Disease\", xlabel='Age', ylabel=\"Max HR\");"
      ]
    },
    {
      "cell_type": "markdown",
      "metadata": {
        "id": "2PuIeUCQxdbh"
      },
      "source": [
        "---"
      ]
    },
    {
      "cell_type": "markdown",
      "metadata": {
        "id": "ytoUX2XJxdbh"
      },
      "source": [
        "---"
      ]
    },
    {
      "cell_type": "markdown",
      "metadata": {
        "id": "7mNQXKhNxdbh"
      },
      "source": [
        "# Seaborn"
      ]
    },
    {
      "cell_type": "code",
      "execution_count": null,
      "metadata": {
        "id": "cnHAI7Nrxdbh"
      },
      "outputs": [],
      "source": [
        "import seaborn as sns"
      ]
    },
    {
      "cell_type": "markdown",
      "metadata": {
        "id": "mX543Psqxdbh"
      },
      "source": [
        "---"
      ]
    },
    {
      "cell_type": "markdown",
      "metadata": {
        "id": "l-s3dK7hxdbh"
      },
      "source": [
        "# Line Plot"
      ]
    },
    {
      "cell_type": "code",
      "execution_count": null,
      "metadata": {
        "id": "acNwB9gvxdbi"
      },
      "outputs": [],
      "source": [
        "sns.lineplot(data=df, x=\"age\", y=\"max_hr\");"
      ]
    },
    {
      "cell_type": "markdown",
      "metadata": {
        "id": "0rPrcaoNxdbi"
      },
      "source": [
        "## Style by categorical feature"
      ]
    },
    {
      "cell_type": "code",
      "execution_count": null,
      "metadata": {
        "id": "AbHepx6hxdbi"
      },
      "outputs": [],
      "source": [
        "sns.lineplot(data=df, x=\"age\", y=\"max_hr\",\n",
        "                      hue=\"sex\", style=\"sex\");"
      ]
    },
    {
      "cell_type": "markdown",
      "metadata": {
        "id": "gTJ-YyEHxdbj"
      },
      "source": [
        "# Relation Plot\n",
        "Allows line plot grouping within an additional categorical variable."
      ]
    },
    {
      "cell_type": "code",
      "execution_count": null,
      "metadata": {
        "id": "XmgplGtXxdbj"
      },
      "outputs": [],
      "source": [
        "sns.relplot(data=df, x=\"age\", y=\"max_hr\",\n",
        "                     hue=\"sex\", style=\"sex\",\n",
        "                     kind=\"line\", col=\"heart_disease\");"
      ]
    },
    {
      "cell_type": "markdown",
      "metadata": {
        "id": "_mnK9S7Cxdbj"
      },
      "source": [
        "---"
      ]
    },
    {
      "cell_type": "markdown",
      "metadata": {
        "id": "nSlNo5q1xdbj"
      },
      "source": [
        "# Box Plot"
      ]
    },
    {
      "cell_type": "code",
      "execution_count": null,
      "metadata": {
        "id": "NP-TdDlIxdbj"
      },
      "outputs": [],
      "source": [
        "fig, ax = plt.subplots()\n",
        "\n",
        "                        # x is a Categorical variable\n",
        "sns.boxplot(data=df, x = \"sex\", y=\"max_hr\", palette=\"Set1\")\n",
        "\n",
        "ax.set_title(\"Box Plot\");"
      ]
    },
    {
      "cell_type": "markdown",
      "metadata": {
        "id": "sLwH0sb0xdbj"
      },
      "source": [
        "---"
      ]
    },
    {
      "cell_type": "markdown",
      "metadata": {
        "id": "trAH5Zk-xdbj"
      },
      "source": [
        "# Joint Plot"
      ]
    },
    {
      "cell_type": "code",
      "execution_count": null,
      "metadata": {
        "id": "ZM935xqRxdbj"
      },
      "outputs": [],
      "source": [
        "sns.jointplot(data=df, x=\"age\", y=\"max_hr\", kind=\"reg\");"
      ]
    },
    {
      "cell_type": "markdown",
      "metadata": {
        "id": "lRf6Bk_5xdbj"
      },
      "source": [
        "---"
      ]
    },
    {
      "cell_type": "markdown",
      "metadata": {
        "id": "M98uCsPWxdbj"
      },
      "source": [
        "# Pair Plot\n",
        "\n",
        "Pairwise feature comparisons"
      ]
    },
    {
      "cell_type": "code",
      "execution_count": null,
      "metadata": {
        "id": "S1vWiM4oxdbk"
      },
      "outputs": [],
      "source": [
        "df2 = df[['age', 'rest_bp', 'chol', 'max_hr', 'st_depr', \"heart_disease\"]]"
      ]
    },
    {
      "cell_type": "code",
      "execution_count": null,
      "metadata": {
        "id": "KBSIgYNnxdbk"
      },
      "outputs": [],
      "source": [
        "sns.pairplot(data=df, hue=\"heart_disease\");"
      ]
    },
    {
      "cell_type": "markdown",
      "metadata": {
        "id": "cdXfHGf8xdbk"
      },
      "source": [
        "---"
      ]
    },
    {
      "cell_type": "markdown",
      "metadata": {
        "id": "w61XN_7ixdbk"
      },
      "source": [
        "# Heatmap"
      ]
    },
    {
      "cell_type": "markdown",
      "metadata": {
        "id": "Qk1-6Z29xdbk"
      },
      "source": [
        "### View correlation matrix"
      ]
    },
    {
      "cell_type": "code",
      "execution_count": null,
      "metadata": {
        "id": "rPtPZfEaxdbk"
      },
      "outputs": [],
      "source": [
        "df2.corr()"
      ]
    },
    {
      "cell_type": "code",
      "execution_count": null,
      "metadata": {
        "id": "1oBhwzGdxdbk"
      },
      "outputs": [],
      "source": [
        "sns.heatmap(df2.corr(), cmap=\"Blues\", annot=True);"
      ]
    }
  ],
  "metadata": {
    "kernelspec": {
      "display_name": "Python 3 (ipykernel)",
      "language": "python",
      "name": "python3"
    },
    "language_info": {
      "codemirror_mode": {
        "name": "ipython",
        "version": 3
      },
      "file_extension": ".py",
      "mimetype": "text/x-python",
      "name": "python",
      "nbconvert_exporter": "python",
      "pygments_lexer": "ipython3",
      "version": "3.9.7"
    },
    "colab": {
      "provenance": [],
      "include_colab_link": true
    }
  },
  "nbformat": 4,
  "nbformat_minor": 0
}