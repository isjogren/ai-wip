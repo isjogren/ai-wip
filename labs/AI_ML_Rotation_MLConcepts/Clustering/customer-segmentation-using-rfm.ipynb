{
 "cells": [
  {
   "cell_type": "markdown",
   "id": "33ca641b",
   "metadata": {
    "papermill": {
     "duration": 0.017959,
     "end_time": "2021-12-26T17:29:36.590916",
     "exception": false,
     "start_time": "2021-12-26T17:29:36.572957",
     "status": "completed"
    },
    "tags": []
   },
   "source": [
    "# **What is RFM Analysis?**\n",
    "RFM analysis is a technique used to categorize customers according to their purchasing behaviour.\n",
    "\n",
    "# **How This Calculate?**\n",
    "\n",
    "**Recency:** This is the date when the customer made the last purchase. \n",
    "It is calculated by subtracting the customer's last shopping date from the analysis date.\n",
    "\n",
    "**Frequency:** This is the total number of purchases of the customer. In a different way, it gives the frequency of purchases made by the customer.\n",
    "\n",
    "**Monetary:** It is the total monetary value spent by the customer.\n",
    "\n",
    "# **The Business Problem**\n",
    "An e-commerce company wants to segment its customers and determine marketing strategies according to these segments.\n",
    "For example, it is desirable to organize different campaigns to retain customers who are very profitable for the company, and different campaigns for new customers.\n",
    "\n",
    "# **Data Set**\n",
    "The Online Retail II data set includes the sales of an online retail store based in the UK between dec1/12/2009 and 09/12/2011. The product catalog of this company includes souvenirs. The vast majority of the company's customers are corporate customers.\n",
    "\n",
    "# **Variables**\n",
    "**InvoiceNo:** Invoice number. A unique number for each transaction. If it starts with C which means cancelled operations.\n",
    "\n",
    "**StockCode:** Product code. A unique number for each product.\n",
    "\n",
    "**Description:** Product name.\n",
    "\n",
    "**Quantity:** It refers to how many of the products in the invoices have been sold.\n",
    "\n",
    "**InvoiceDate:** Invoice date.\n",
    "\n",
    "**UnitPrice:** Product price (pound)\n",
    "\n",
    "**CustomerID:** Unique customer number.\n",
    "\n",
    "**Country:** The name of the country where the customer lives.\n"
   ]
  },
  {
   "cell_type": "code",
   "execution_count": 1,
   "id": "9409a746",
   "metadata": {
    "_cell_guid": "b1076dfc-b9ad-4769-8c92-a6c4dae69d19",
    "_uuid": "8f2839f25d086af736a60e9eeb907d3b93b6e0e5",
    "execution": {
     "iopub.execute_input": "2021-12-26T17:29:36.636022Z",
     "iopub.status.busy": "2021-12-26T17:29:36.632262Z",
     "iopub.status.idle": "2021-12-26T17:29:37.618931Z",
     "shell.execute_reply": "2021-12-26T17:29:37.619769Z"
    },
    "papermill": {
     "duration": 1.012284,
     "end_time": "2021-12-26T17:29:37.620162",
     "exception": false,
     "start_time": "2021-12-26T17:29:36.607878",
     "status": "completed"
    },
    "tags": []
   },
   "outputs": [
    {
     "name": "stdout",
     "output_type": "stream",
     "text": [
      "/kaggle/input/online-retail-ii-data-set-from-ml-repository/Year 2010-2011.csv\n",
      "/kaggle/input/online-retail-ii-data-set-from-ml-repository/Year 2009-2010.csv\n",
      "/kaggle/input/online-retail-ii-data-set-from-ml-repository/online_retail_II.xlsx\n"
     ]
    }
   ],
   "source": [
    "#Import libraries\n",
    "import datetime as dt\n",
    "import numpy as np\n",
    "import pandas as pd\n",
    "import matplotlib.pyplot as plt\n",
    "import seaborn as sns\n",
    "import warnings # Uyarılar\n",
    "warnings.filterwarnings(\"ignore\")\n",
    "\n",
    "\n",
    "import os\n",
    "for dirname, _, filenames in os.walk('/kaggle/input'):\n",
    "    for filename in filenames:\n",
    "        print(os.path.join(dirname, filename))"
   ]
  },
  {
   "cell_type": "code",
   "execution_count": 2,
   "id": "4e244ef2",
   "metadata": {
    "execution": {
     "iopub.execute_input": "2021-12-26T17:29:37.662303Z",
     "iopub.status.busy": "2021-12-26T17:29:37.661567Z",
     "iopub.status.idle": "2021-12-26T17:29:48.902963Z",
     "shell.execute_reply": "2021-12-26T17:29:48.902207Z"
    },
    "papermill": {
     "duration": 11.264737,
     "end_time": "2021-12-26T17:29:48.903159",
     "exception": false,
     "start_time": "2021-12-26T17:29:37.638422",
     "status": "completed"
    },
    "tags": []
   },
   "outputs": [
    {
     "name": "stdout",
     "output_type": "stream",
     "text": [
      "Collecting openpyxl\r\n",
      "  Downloading openpyxl-3.0.9-py2.py3-none-any.whl (242 kB)\r\n",
      "     |████████████████████████████████| 242 kB 919 kB/s            \r\n",
      "\u001b[?25hCollecting et-xmlfile\r\n",
      "  Downloading et_xmlfile-1.1.0-py3-none-any.whl (4.7 kB)\r\n",
      "Installing collected packages: et-xmlfile, openpyxl\r\n",
      "Successfully installed et-xmlfile-1.1.0 openpyxl-3.0.9\r\n",
      "\u001b[33mWARNING: Running pip as the 'root' user can result in broken permissions and conflicting behaviour with the system package manager. It is recommended to use a virtual environment instead: https://pip.pypa.io/warnings/venv\u001b[0m\r\n"
     ]
    }
   ],
   "source": [
    "!pip install openpyxl"
   ]
  },
  {
   "cell_type": "code",
   "execution_count": 3,
   "id": "94d8c94f",
   "metadata": {
    "execution": {
     "iopub.execute_input": "2021-12-26T17:29:48.951780Z",
     "iopub.status.busy": "2021-12-26T17:29:48.948269Z",
     "iopub.status.idle": "2021-12-26T17:31:17.833765Z",
     "shell.execute_reply": "2021-12-26T17:31:17.834335Z"
    },
    "papermill": {
     "duration": 88.910452,
     "end_time": "2021-12-26T17:31:17.834564",
     "exception": false,
     "start_time": "2021-12-26T17:29:48.924112",
     "status": "completed"
    },
    "tags": []
   },
   "outputs": [
    {
     "data": {
      "text/html": [
       "<div>\n",
       "<style scoped>\n",
       "    .dataframe tbody tr th:only-of-type {\n",
       "        vertical-align: middle;\n",
       "    }\n",
       "\n",
       "    .dataframe tbody tr th {\n",
       "        vertical-align: top;\n",
       "    }\n",
       "\n",
       "    .dataframe thead th {\n",
       "        text-align: right;\n",
       "    }\n",
       "</style>\n",
       "<table border=\"1\" class=\"dataframe\">\n",
       "  <thead>\n",
       "    <tr style=\"text-align: right;\">\n",
       "      <th></th>\n",
       "      <th>Invoice</th>\n",
       "      <th>StockCode</th>\n",
       "      <th>Description</th>\n",
       "      <th>Quantity</th>\n",
       "      <th>InvoiceDate</th>\n",
       "      <th>Price</th>\n",
       "      <th>Customer ID</th>\n",
       "      <th>Country</th>\n",
       "    </tr>\n",
       "  </thead>\n",
       "  <tbody>\n",
       "    <tr>\n",
       "      <th>0</th>\n",
       "      <td>536365</td>\n",
       "      <td>85123A</td>\n",
       "      <td>WHITE HANGING HEART T-LIGHT HOLDER</td>\n",
       "      <td>6</td>\n",
       "      <td>2010-12-01 08:26:00</td>\n",
       "      <td>2.55</td>\n",
       "      <td>17850.0</td>\n",
       "      <td>United Kingdom</td>\n",
       "    </tr>\n",
       "    <tr>\n",
       "      <th>1</th>\n",
       "      <td>536365</td>\n",
       "      <td>71053</td>\n",
       "      <td>WHITE METAL LANTERN</td>\n",
       "      <td>6</td>\n",
       "      <td>2010-12-01 08:26:00</td>\n",
       "      <td>3.39</td>\n",
       "      <td>17850.0</td>\n",
       "      <td>United Kingdom</td>\n",
       "    </tr>\n",
       "    <tr>\n",
       "      <th>2</th>\n",
       "      <td>536365</td>\n",
       "      <td>84406B</td>\n",
       "      <td>CREAM CUPID HEARTS COAT HANGER</td>\n",
       "      <td>8</td>\n",
       "      <td>2010-12-01 08:26:00</td>\n",
       "      <td>2.75</td>\n",
       "      <td>17850.0</td>\n",
       "      <td>United Kingdom</td>\n",
       "    </tr>\n",
       "    <tr>\n",
       "      <th>3</th>\n",
       "      <td>536365</td>\n",
       "      <td>84029G</td>\n",
       "      <td>KNITTED UNION FLAG HOT WATER BOTTLE</td>\n",
       "      <td>6</td>\n",
       "      <td>2010-12-01 08:26:00</td>\n",
       "      <td>3.39</td>\n",
       "      <td>17850.0</td>\n",
       "      <td>United Kingdom</td>\n",
       "    </tr>\n",
       "    <tr>\n",
       "      <th>4</th>\n",
       "      <td>536365</td>\n",
       "      <td>84029E</td>\n",
       "      <td>RED WOOLLY HOTTIE WHITE HEART.</td>\n",
       "      <td>6</td>\n",
       "      <td>2010-12-01 08:26:00</td>\n",
       "      <td>3.39</td>\n",
       "      <td>17850.0</td>\n",
       "      <td>United Kingdom</td>\n",
       "    </tr>\n",
       "  </tbody>\n",
       "</table>\n",
       "</div>"
      ],
      "text/plain": [
       "  Invoice StockCode                          Description  Quantity  \\\n",
       "0  536365    85123A   WHITE HANGING HEART T-LIGHT HOLDER         6   \n",
       "1  536365     71053                  WHITE METAL LANTERN         6   \n",
       "2  536365    84406B       CREAM CUPID HEARTS COAT HANGER         8   \n",
       "3  536365    84029G  KNITTED UNION FLAG HOT WATER BOTTLE         6   \n",
       "4  536365    84029E       RED WOOLLY HOTTIE WHITE HEART.         6   \n",
       "\n",
       "          InvoiceDate  Price  Customer ID         Country  \n",
       "0 2010-12-01 08:26:00   2.55      17850.0  United Kingdom  \n",
       "1 2010-12-01 08:26:00   3.39      17850.0  United Kingdom  \n",
       "2 2010-12-01 08:26:00   2.75      17850.0  United Kingdom  \n",
       "3 2010-12-01 08:26:00   3.39      17850.0  United Kingdom  \n",
       "4 2010-12-01 08:26:00   3.39      17850.0  United Kingdom  "
      ]
     },
     "execution_count": 3,
     "metadata": {},
     "output_type": "execute_result"
    }
   ],
   "source": [
    "#Reading and copy of data\n",
    "online_retail = pd.read_excel('../input/online-retail-ii-data-set-from-ml-repository/online_retail_II.xlsx', sheet_name=\"Year 2010-2011\")\n",
    "df = online_retail.copy()\n",
    "df.head()"
   ]
  },
  {
   "cell_type": "markdown",
   "id": "cb839f07",
   "metadata": {
    "papermill": {
     "duration": 0.020642,
     "end_time": "2021-12-26T17:31:17.877667",
     "exception": false,
     "start_time": "2021-12-26T17:31:17.857025",
     "status": "completed"
    },
    "tags": []
   },
   "source": [
    "# **Data Preparation and Preprocessing**"
   ]
  },
  {
   "cell_type": "code",
   "execution_count": 4,
   "id": "fcc5efb4",
   "metadata": {
    "execution": {
     "iopub.execute_input": "2021-12-26T17:31:17.944771Z",
     "iopub.status.busy": "2021-12-26T17:31:17.943782Z",
     "iopub.status.idle": "2021-12-26T17:31:18.023780Z",
     "shell.execute_reply": "2021-12-26T17:31:18.022807Z"
    },
    "papermill": {
     "duration": 0.125496,
     "end_time": "2021-12-26T17:31:18.024004",
     "exception": false,
     "start_time": "2021-12-26T17:31:17.898508",
     "status": "completed"
    },
    "tags": []
   },
   "outputs": [
    {
     "name": "stdout",
     "output_type": "stream",
     "text": [
      "################ Shape ####################\n",
      "(541910, 8)\n",
      "############### Columns ###################\n",
      "Index(['Invoice', 'StockCode', 'Description', 'Quantity', 'InvoiceDate',\n",
      "       'Price', 'Customer ID', 'Country'],\n",
      "      dtype='object')\n",
      "############### Types #####################\n",
      "Invoice                object\n",
      "StockCode              object\n",
      "Description            object\n",
      "Quantity                int64\n",
      "InvoiceDate    datetime64[ns]\n",
      "Price                 float64\n",
      "Customer ID           float64\n",
      "Country                object\n",
      "dtype: object\n",
      "############### Head ######################\n",
      "  Invoice StockCode                          Description  Quantity  \\\n",
      "0  536365    85123A   WHITE HANGING HEART T-LIGHT HOLDER         6   \n",
      "1  536365     71053                  WHITE METAL LANTERN         6   \n",
      "2  536365    84406B       CREAM CUPID HEARTS COAT HANGER         8   \n",
      "3  536365    84029G  KNITTED UNION FLAG HOT WATER BOTTLE         6   \n",
      "4  536365    84029E       RED WOOLLY HOTTIE WHITE HEART.         6   \n",
      "\n",
      "          InvoiceDate  Price  Customer ID         Country  \n",
      "0 2010-12-01 08:26:00   2.55      17850.0  United Kingdom  \n",
      "1 2010-12-01 08:26:00   3.39      17850.0  United Kingdom  \n",
      "2 2010-12-01 08:26:00   2.75      17850.0  United Kingdom  \n",
      "3 2010-12-01 08:26:00   3.39      17850.0  United Kingdom  \n",
      "4 2010-12-01 08:26:00   3.39      17850.0  United Kingdom  \n",
      "############### Tail ######################\n",
      "       Invoice StockCode                      Description  Quantity  \\\n",
      "541905  581587     22899     CHILDREN'S APRON DOLLY GIRL          6   \n",
      "541906  581587     23254    CHILDRENS CUTLERY DOLLY GIRL          4   \n",
      "541907  581587     23255  CHILDRENS CUTLERY CIRCUS PARADE         4   \n",
      "541908  581587     22138    BAKING SET 9 PIECE RETROSPOT          3   \n",
      "541909  581587      POST                          POSTAGE         1   \n",
      "\n",
      "               InvoiceDate  Price  Customer ID Country  \n",
      "541905 2011-12-09 12:50:00   2.10      12680.0  France  \n",
      "541906 2011-12-09 12:50:00   4.15      12680.0  France  \n",
      "541907 2011-12-09 12:50:00   4.15      12680.0  France  \n",
      "541908 2011-12-09 12:50:00   4.95      12680.0  France  \n",
      "541909 2011-12-09 12:50:00  18.00      12680.0  France  \n",
      "############### Describe ###################\n",
      "                count          mean          std       min       25%  \\\n",
      "Quantity     541910.0      9.552234   218.080957 -80995.00      1.00   \n",
      "Price        541910.0      4.611138    96.759765 -11062.06      1.25   \n",
      "Customer ID  406830.0  15287.684160  1713.603074  12346.00  13953.00   \n",
      "\n",
      "                  50%       75%      max  \n",
      "Quantity         3.00     10.00  80995.0  \n",
      "Price            2.08      4.13  38970.0  \n",
      "Customer ID  15152.00  16791.00  18287.0  \n"
     ]
    }
   ],
   "source": [
    "def check_df(dataframe):\n",
    "    print(\"################ Shape ####################\")\n",
    "    print(dataframe.shape)\n",
    "    print(\"############### Columns ###################\")\n",
    "    print(dataframe.columns)\n",
    "    print(\"############### Types #####################\")\n",
    "    print(dataframe.dtypes)\n",
    "    print(\"############### Head ######################\")\n",
    "    print(dataframe.head())\n",
    "    print(\"############### Tail ######################\")\n",
    "    print(dataframe.tail())\n",
    "    print(\"############### Describe ###################\")\n",
    "    print(dataframe.describe().T)\n",
    "\n",
    "check_df(df)"
   ]
  },
  {
   "cell_type": "markdown",
   "id": "ce85e03a",
   "metadata": {
    "papermill": {
     "duration": 0.021146,
     "end_time": "2021-12-26T17:31:18.068498",
     "exception": false,
     "start_time": "2021-12-26T17:31:18.047352",
     "status": "completed"
    },
    "tags": []
   },
   "source": [
    "# **Answering Some Questions About Data**"
   ]
  },
  {
   "cell_type": "code",
   "execution_count": 5,
   "id": "2690fb98",
   "metadata": {
    "execution": {
     "iopub.execute_input": "2021-12-26T17:31:18.119863Z",
     "iopub.status.busy": "2021-12-26T17:31:18.118699Z",
     "iopub.status.idle": "2021-12-26T17:31:18.373488Z",
     "shell.execute_reply": "2021-12-26T17:31:18.372813Z"
    },
    "papermill": {
     "duration": 0.283391,
     "end_time": "2021-12-26T17:31:18.373682",
     "exception": false,
     "start_time": "2021-12-26T17:31:18.090291",
     "status": "completed"
    },
    "tags": []
   },
   "outputs": [
    {
     "data": {
      "text/plain": [
       "Invoice             0\n",
       "StockCode           0\n",
       "Description      1454\n",
       "Quantity            0\n",
       "InvoiceDate         0\n",
       "Price               0\n",
       "Customer ID    135080\n",
       "Country             0\n",
       "dtype: int64"
      ]
     },
     "execution_count": 5,
     "metadata": {},
     "output_type": "execute_result"
    }
   ],
   "source": [
    "#Are there any missing observations in the dataset?\n",
    "df.isnull().sum()"
   ]
  },
  {
   "cell_type": "code",
   "execution_count": 6,
   "id": "4a3ec5fd",
   "metadata": {
    "execution": {
     "iopub.execute_input": "2021-12-26T17:31:18.426177Z",
     "iopub.status.busy": "2021-12-26T17:31:18.425238Z",
     "iopub.status.idle": "2021-12-26T17:31:18.725727Z",
     "shell.execute_reply": "2021-12-26T17:31:18.725122Z"
    },
    "papermill": {
     "duration": 0.330134,
     "end_time": "2021-12-26T17:31:18.725881",
     "exception": false,
     "start_time": "2021-12-26T17:31:18.395747",
     "status": "completed"
    },
    "tags": []
   },
   "outputs": [],
   "source": [
    "#Remove the missing observations from the dataset\n",
    "df.dropna(inplace=True)"
   ]
  },
  {
   "cell_type": "code",
   "execution_count": 7,
   "id": "a5079e1f",
   "metadata": {
    "execution": {
     "iopub.execute_input": "2021-12-26T17:31:18.802254Z",
     "iopub.status.busy": "2021-12-26T17:31:18.801572Z",
     "iopub.status.idle": "2021-12-26T17:31:18.837631Z",
     "shell.execute_reply": "2021-12-26T17:31:18.836962Z"
    },
    "papermill": {
     "duration": 0.089368,
     "end_time": "2021-12-26T17:31:18.837775",
     "exception": false,
     "start_time": "2021-12-26T17:31:18.748407",
     "status": "completed"
    },
    "tags": []
   },
   "outputs": [
    {
     "data": {
      "text/plain": [
       "3896"
      ]
     },
     "execution_count": 7,
     "metadata": {},
     "output_type": "execute_result"
    }
   ],
   "source": [
    "#How many unique items in the dataset?\n",
    "df[\"Description\"].nunique()"
   ]
  },
  {
   "cell_type": "code",
   "execution_count": 8,
   "id": "fc8cfd1a",
   "metadata": {
    "execution": {
     "iopub.execute_input": "2021-12-26T17:31:18.936948Z",
     "iopub.status.busy": "2021-12-26T17:31:18.936256Z",
     "iopub.status.idle": "2021-12-26T17:31:18.946372Z",
     "shell.execute_reply": "2021-12-26T17:31:18.945757Z"
    },
    "papermill": {
     "duration": 0.086337,
     "end_time": "2021-12-26T17:31:18.946552",
     "exception": false,
     "start_time": "2021-12-26T17:31:18.860215",
     "status": "completed"
    },
    "tags": []
   },
   "outputs": [
    {
     "data": {
      "text/plain": [
       "WHITE HANGING HEART T-LIGHT HOLDER    2070\n",
       "REGENCY CAKESTAND 3 TIER              1905\n",
       "JUMBO BAG RED RETROSPOT               1662\n",
       "ASSORTED COLOUR BIRD ORNAMENT         1418\n",
       "PARTY BUNTING                         1416\n",
       "                                      ... \n",
       "ANTIQUE RASPBERRY FLOWER EARRINGS        1\n",
       "WALL ART,ONLY ONE PERSON                 1\n",
       "GOLD/AMBER DROP EARRINGS W LEAF          1\n",
       "INCENSE BAZAAR PEACH                     1\n",
       "PINK BAROQUE FLOCK CANDLE HOLDER         1\n",
       "Name: Description, Length: 3896, dtype: int64"
      ]
     },
     "execution_count": 8,
     "metadata": {},
     "output_type": "execute_result"
    }
   ],
   "source": [
    "#How many product in the dataset?\n",
    "df[\"Description\"].value_counts()"
   ]
  },
  {
   "cell_type": "code",
   "execution_count": 9,
   "id": "457040a4",
   "metadata": {
    "execution": {
     "iopub.execute_input": "2021-12-26T17:31:19.003547Z",
     "iopub.status.busy": "2021-12-26T17:31:19.002514Z",
     "iopub.status.idle": "2021-12-26T17:31:19.093896Z",
     "shell.execute_reply": "2021-12-26T17:31:19.093284Z"
    },
    "papermill": {
     "duration": 0.12111,
     "end_time": "2021-12-26T17:31:19.094071",
     "exception": false,
     "start_time": "2021-12-26T17:31:18.972961",
     "status": "completed"
    },
    "tags": []
   },
   "outputs": [
    {
     "data": {
      "text/html": [
       "<div>\n",
       "<style scoped>\n",
       "    .dataframe tbody tr th:only-of-type {\n",
       "        vertical-align: middle;\n",
       "    }\n",
       "\n",
       "    .dataframe tbody tr th {\n",
       "        vertical-align: top;\n",
       "    }\n",
       "\n",
       "    .dataframe thead th {\n",
       "        text-align: right;\n",
       "    }\n",
       "</style>\n",
       "<table border=\"1\" class=\"dataframe\">\n",
       "  <thead>\n",
       "    <tr style=\"text-align: right;\">\n",
       "      <th></th>\n",
       "      <th>Quantity</th>\n",
       "    </tr>\n",
       "    <tr>\n",
       "      <th>Description</th>\n",
       "      <th></th>\n",
       "    </tr>\n",
       "  </thead>\n",
       "  <tbody>\n",
       "    <tr>\n",
       "      <th>WORLD WAR 2 GLIDERS ASSTD DESIGNS</th>\n",
       "      <td>53215</td>\n",
       "    </tr>\n",
       "    <tr>\n",
       "      <th>JUMBO BAG RED RETROSPOT</th>\n",
       "      <td>45066</td>\n",
       "    </tr>\n",
       "    <tr>\n",
       "      <th>ASSORTED COLOUR BIRD ORNAMENT</th>\n",
       "      <td>35314</td>\n",
       "    </tr>\n",
       "    <tr>\n",
       "      <th>WHITE HANGING HEART T-LIGHT HOLDER</th>\n",
       "      <td>34147</td>\n",
       "    </tr>\n",
       "    <tr>\n",
       "      <th>PACK OF 72 RETROSPOT CAKE CASES</th>\n",
       "      <td>33409</td>\n",
       "    </tr>\n",
       "  </tbody>\n",
       "</table>\n",
       "</div>"
      ],
      "text/plain": [
       "                                    Quantity\n",
       "Description                                 \n",
       "WORLD WAR 2 GLIDERS ASSTD DESIGNS      53215\n",
       "JUMBO BAG RED RETROSPOT                45066\n",
       "ASSORTED COLOUR BIRD ORNAMENT          35314\n",
       "WHITE HANGING HEART T-LIGHT HOLDER     34147\n",
       "PACK OF 72 RETROSPOT CAKE CASES        33409"
      ]
     },
     "execution_count": 9,
     "metadata": {},
     "output_type": "execute_result"
    }
   ],
   "source": [
    "#Rank the 5 most ordered products from most to least\n",
    "df.groupby(\"Description\").agg({\"Quantity\":\"sum\"}).sort_values(\"Quantity\", ascending=False).head(5)"
   ]
  },
  {
   "cell_type": "code",
   "execution_count": 10,
   "id": "0118ce0d",
   "metadata": {
    "execution": {
     "iopub.execute_input": "2021-12-26T17:31:19.196133Z",
     "iopub.status.busy": "2021-12-26T17:31:19.195464Z",
     "iopub.status.idle": "2021-12-26T17:31:19.882527Z",
     "shell.execute_reply": "2021-12-26T17:31:19.881897Z"
    },
    "papermill": {
     "duration": 0.763392,
     "end_time": "2021-12-26T17:31:19.882719",
     "exception": false,
     "start_time": "2021-12-26T17:31:19.119327",
     "status": "completed"
    },
    "tags": []
   },
   "outputs": [],
   "source": [
    "#Remove the canceled transactions from the dataset\n",
    "df = df[~df[\"Invoice\"].str.contains(\"C\", na=False)]"
   ]
  },
  {
   "cell_type": "code",
   "execution_count": 11,
   "id": "63a331eb",
   "metadata": {
    "execution": {
     "iopub.execute_input": "2021-12-26T17:31:19.936623Z",
     "iopub.status.busy": "2021-12-26T17:31:19.935621Z",
     "iopub.status.idle": "2021-12-26T17:31:19.944137Z",
     "shell.execute_reply": "2021-12-26T17:31:19.944753Z"
    },
    "papermill": {
     "duration": 0.037556,
     "end_time": "2021-12-26T17:31:19.944960",
     "exception": false,
     "start_time": "2021-12-26T17:31:19.907404",
     "status": "completed"
    },
    "tags": []
   },
   "outputs": [],
   "source": [
    "#The total amount of each invoice and we create that column just multiply 'Price' and 'Quantity'\n",
    "df[\"TotalPrice\"] = df[\"Quantity\"] * df[\"Price\"]"
   ]
  },
  {
   "cell_type": "markdown",
   "id": "4b599fca",
   "metadata": {
    "papermill": {
     "duration": 0.02386,
     "end_time": "2021-12-26T17:31:19.992916",
     "exception": false,
     "start_time": "2021-12-26T17:31:19.969056",
     "status": "completed"
    },
    "tags": []
   },
   "source": [
    "# **Calculating of RFM Metrics**"
   ]
  },
  {
   "cell_type": "code",
   "execution_count": 12,
   "id": "14bd59ba",
   "metadata": {
    "execution": {
     "iopub.execute_input": "2021-12-26T17:31:20.046372Z",
     "iopub.status.busy": "2021-12-26T17:31:20.045335Z",
     "iopub.status.idle": "2021-12-26T17:31:21.226913Z",
     "shell.execute_reply": "2021-12-26T17:31:21.226195Z"
    },
    "papermill": {
     "duration": 1.209555,
     "end_time": "2021-12-26T17:31:21.227080",
     "exception": false,
     "start_time": "2021-12-26T17:31:20.017525",
     "status": "completed"
    },
    "tags": []
   },
   "outputs": [
    {
     "data": {
      "text/html": [
       "<div>\n",
       "<style scoped>\n",
       "    .dataframe tbody tr th:only-of-type {\n",
       "        vertical-align: middle;\n",
       "    }\n",
       "\n",
       "    .dataframe tbody tr th {\n",
       "        vertical-align: top;\n",
       "    }\n",
       "\n",
       "    .dataframe thead th {\n",
       "        text-align: right;\n",
       "    }\n",
       "</style>\n",
       "<table border=\"1\" class=\"dataframe\">\n",
       "  <thead>\n",
       "    <tr style=\"text-align: right;\">\n",
       "      <th></th>\n",
       "      <th>count</th>\n",
       "      <th>mean</th>\n",
       "      <th>std</th>\n",
       "      <th>min</th>\n",
       "      <th>25%</th>\n",
       "      <th>50%</th>\n",
       "      <th>75%</th>\n",
       "      <th>max</th>\n",
       "    </tr>\n",
       "  </thead>\n",
       "  <tbody>\n",
       "    <tr>\n",
       "      <th>Recency</th>\n",
       "      <td>4338.0</td>\n",
       "      <td>93.059474</td>\n",
       "      <td>100.012264</td>\n",
       "      <td>1.00</td>\n",
       "      <td>18.000</td>\n",
       "      <td>51.000</td>\n",
       "      <td>142.75</td>\n",
       "      <td>374.00</td>\n",
       "    </tr>\n",
       "    <tr>\n",
       "      <th>Frequency</th>\n",
       "      <td>4338.0</td>\n",
       "      <td>4.272706</td>\n",
       "      <td>7.706221</td>\n",
       "      <td>1.00</td>\n",
       "      <td>1.000</td>\n",
       "      <td>2.000</td>\n",
       "      <td>5.00</td>\n",
       "      <td>210.00</td>\n",
       "    </tr>\n",
       "    <tr>\n",
       "      <th>Monetary</th>\n",
       "      <td>4338.0</td>\n",
       "      <td>2054.270609</td>\n",
       "      <td>8989.229895</td>\n",
       "      <td>3.75</td>\n",
       "      <td>307.415</td>\n",
       "      <td>674.485</td>\n",
       "      <td>1661.74</td>\n",
       "      <td>280206.02</td>\n",
       "    </tr>\n",
       "  </tbody>\n",
       "</table>\n",
       "</div>"
      ],
      "text/plain": [
       "            count         mean          std   min      25%      50%      75%  \\\n",
       "Recency    4338.0    93.059474   100.012264  1.00   18.000   51.000   142.75   \n",
       "Frequency  4338.0     4.272706     7.706221  1.00    1.000    2.000     5.00   \n",
       "Monetary   4338.0  2054.270609  8989.229895  3.75  307.415  674.485  1661.74   \n",
       "\n",
       "                 max  \n",
       "Recency       374.00  \n",
       "Frequency     210.00  \n",
       "Monetary   280206.02  "
      ]
     },
     "execution_count": 12,
     "metadata": {},
     "output_type": "execute_result"
    }
   ],
   "source": [
    "#Determining the analysis date for the recency \n",
    "df[\"InvoiceDate\"].max()\n",
    "today_date = dt.datetime(2011, 12, 11)\n",
    "rfm = df.groupby('Customer ID').agg({'InvoiceDate': lambda date: (today_date - date.max()).days,\n",
    "                                     'Invoice': lambda num: num.nunique(),\n",
    "                                     'TotalPrice': lambda TotalPrice: TotalPrice.sum()})\n",
    "rfm.columns=[\"Recency\",\"Frequency\",\"Monetary\"]\n",
    "rfm = rfm[rfm[\"Monetary\"] > 0]\n",
    "rfm.describe().T"
   ]
  },
  {
   "cell_type": "markdown",
   "id": "784d4ab7",
   "metadata": {
    "papermill": {
     "duration": 0.024294,
     "end_time": "2021-12-26T17:31:21.277510",
     "exception": false,
     "start_time": "2021-12-26T17:31:21.253216",
     "status": "completed"
    },
    "tags": []
   },
   "source": [
    "# **Converting RFM Scores to Single Variable**\n"
   ]
  },
  {
   "cell_type": "code",
   "execution_count": 13,
   "id": "b494b49b",
   "metadata": {
    "execution": {
     "iopub.execute_input": "2021-12-26T17:31:21.335583Z",
     "iopub.status.busy": "2021-12-26T17:31:21.334487Z",
     "iopub.status.idle": "2021-12-26T17:31:21.359324Z",
     "shell.execute_reply": "2021-12-26T17:31:21.359913Z"
    },
    "papermill": {
     "duration": 0.057913,
     "end_time": "2021-12-26T17:31:21.360108",
     "exception": false,
     "start_time": "2021-12-26T17:31:21.302195",
     "status": "completed"
    },
    "tags": []
   },
   "outputs": [
    {
     "data": {
      "text/html": [
       "<div>\n",
       "<style scoped>\n",
       "    .dataframe tbody tr th:only-of-type {\n",
       "        vertical-align: middle;\n",
       "    }\n",
       "\n",
       "    .dataframe tbody tr th {\n",
       "        vertical-align: top;\n",
       "    }\n",
       "\n",
       "    .dataframe thead th {\n",
       "        text-align: right;\n",
       "    }\n",
       "</style>\n",
       "<table border=\"1\" class=\"dataframe\">\n",
       "  <thead>\n",
       "    <tr style=\"text-align: right;\">\n",
       "      <th></th>\n",
       "      <th>Recency</th>\n",
       "      <th>Frequency</th>\n",
       "      <th>Monetary</th>\n",
       "      <th>recency_score</th>\n",
       "      <th>frequency_score</th>\n",
       "      <th>monetary_score</th>\n",
       "    </tr>\n",
       "    <tr>\n",
       "      <th>Customer ID</th>\n",
       "      <th></th>\n",
       "      <th></th>\n",
       "      <th></th>\n",
       "      <th></th>\n",
       "      <th></th>\n",
       "      <th></th>\n",
       "    </tr>\n",
       "  </thead>\n",
       "  <tbody>\n",
       "    <tr>\n",
       "      <th>12346.0</th>\n",
       "      <td>326</td>\n",
       "      <td>1</td>\n",
       "      <td>77183.60</td>\n",
       "      <td>1</td>\n",
       "      <td>1</td>\n",
       "      <td>5</td>\n",
       "    </tr>\n",
       "    <tr>\n",
       "      <th>12347.0</th>\n",
       "      <td>3</td>\n",
       "      <td>7</td>\n",
       "      <td>4310.00</td>\n",
       "      <td>5</td>\n",
       "      <td>5</td>\n",
       "      <td>5</td>\n",
       "    </tr>\n",
       "    <tr>\n",
       "      <th>12348.0</th>\n",
       "      <td>76</td>\n",
       "      <td>4</td>\n",
       "      <td>1797.24</td>\n",
       "      <td>2</td>\n",
       "      <td>4</td>\n",
       "      <td>4</td>\n",
       "    </tr>\n",
       "    <tr>\n",
       "      <th>12349.0</th>\n",
       "      <td>19</td>\n",
       "      <td>1</td>\n",
       "      <td>1757.55</td>\n",
       "      <td>4</td>\n",
       "      <td>1</td>\n",
       "      <td>4</td>\n",
       "    </tr>\n",
       "    <tr>\n",
       "      <th>12350.0</th>\n",
       "      <td>311</td>\n",
       "      <td>1</td>\n",
       "      <td>334.40</td>\n",
       "      <td>1</td>\n",
       "      <td>1</td>\n",
       "      <td>2</td>\n",
       "    </tr>\n",
       "  </tbody>\n",
       "</table>\n",
       "</div>"
      ],
      "text/plain": [
       "             Recency  Frequency  Monetary recency_score frequency_score  \\\n",
       "Customer ID                                                               \n",
       "12346.0          326          1  77183.60             1               1   \n",
       "12347.0            3          7   4310.00             5               5   \n",
       "12348.0           76          4   1797.24             2               4   \n",
       "12349.0           19          1   1757.55             4               1   \n",
       "12350.0          311          1    334.40             1               1   \n",
       "\n",
       "            monetary_score  \n",
       "Customer ID                 \n",
       "12346.0                  5  \n",
       "12347.0                  5  \n",
       "12348.0                  4  \n",
       "12349.0                  4  \n",
       "12350.0                  2  "
      ]
     },
     "execution_count": 13,
     "metadata": {},
     "output_type": "execute_result"
    }
   ],
   "source": [
    "#Date from customer's last purchase.The nearest date gets 5 and the furthest date gets 1.\n",
    "rfm[\"recency_score\"] = pd.qcut(rfm['Recency'], 5, labels=[5, 4, 3, 2, 1])\n",
    "# Total number of purchases.The least frequency gets 1 and the maximum frequency gets 5.\n",
    "rfm[\"frequency_score\"] = pd.qcut(rfm[\"Frequency\"].rank(method=\"first\"), 5, labels=[1, 2, 3, 4, 5])\n",
    "#Total spend by the customer.The least money gets 1, the most money gets 5.\n",
    "rfm[\"monetary_score\"]= pd.qcut(rfm[\"Monetary\"],5,labels=[1,2,3,4,5])\n",
    "rfm.head()"
   ]
  },
  {
   "cell_type": "code",
   "execution_count": 14,
   "id": "7fee31eb",
   "metadata": {
    "execution": {
     "iopub.execute_input": "2021-12-26T17:31:21.414947Z",
     "iopub.status.busy": "2021-12-26T17:31:21.413943Z",
     "iopub.status.idle": "2021-12-26T17:31:21.421776Z",
     "shell.execute_reply": "2021-12-26T17:31:21.422308Z"
    },
    "papermill": {
     "duration": 0.037502,
     "end_time": "2021-12-26T17:31:21.422507",
     "exception": false,
     "start_time": "2021-12-26T17:31:21.385005",
     "status": "completed"
    },
    "tags": []
   },
   "outputs": [],
   "source": [
    "#RFM - The value of 2 different variables that were formed was recorded as a RFM_SCORE\n",
    "rfm[\"RFM_SCORE\"] = (rfm[\"recency_score\"].astype(str) + rfm[\"frequency_score\"].astype(str))"
   ]
  },
  {
   "cell_type": "markdown",
   "id": "b7dd4881",
   "metadata": {
    "papermill": {
     "duration": 0.024837,
     "end_time": "2021-12-26T17:31:21.472632",
     "exception": false,
     "start_time": "2021-12-26T17:31:21.447795",
     "status": "completed"
    },
    "tags": []
   },
   "source": [
    "# **Segmenting Customers Using RFM Score**"
   ]
  },
  {
   "cell_type": "code",
   "execution_count": 15,
   "id": "5c93b8c3",
   "metadata": {
    "execution": {
     "iopub.execute_input": "2021-12-26T17:31:21.527166Z",
     "iopub.status.busy": "2021-12-26T17:31:21.526195Z",
     "iopub.status.idle": "2021-12-26T17:31:21.630237Z",
     "shell.execute_reply": "2021-12-26T17:31:21.629704Z"
    },
    "papermill": {
     "duration": 0.132731,
     "end_time": "2021-12-26T17:31:21.630393",
     "exception": false,
     "start_time": "2021-12-26T17:31:21.497662",
     "status": "completed"
    },
    "tags": []
   },
   "outputs": [
    {
     "data": {
      "text/html": [
       "<div>\n",
       "<style scoped>\n",
       "    .dataframe tbody tr th:only-of-type {\n",
       "        vertical-align: middle;\n",
       "    }\n",
       "\n",
       "    .dataframe tbody tr th {\n",
       "        vertical-align: top;\n",
       "    }\n",
       "\n",
       "    .dataframe thead th {\n",
       "        text-align: right;\n",
       "    }\n",
       "</style>\n",
       "<table border=\"1\" class=\"dataframe\">\n",
       "  <thead>\n",
       "    <tr style=\"text-align: right;\">\n",
       "      <th></th>\n",
       "      <th>Recency</th>\n",
       "      <th>Frequency</th>\n",
       "      <th>Monetary</th>\n",
       "      <th>recency_score</th>\n",
       "      <th>frequency_score</th>\n",
       "      <th>monetary_score</th>\n",
       "      <th>RFM_SCORE</th>\n",
       "      <th>segment</th>\n",
       "    </tr>\n",
       "    <tr>\n",
       "      <th>Customer ID</th>\n",
       "      <th></th>\n",
       "      <th></th>\n",
       "      <th></th>\n",
       "      <th></th>\n",
       "      <th></th>\n",
       "      <th></th>\n",
       "      <th></th>\n",
       "      <th></th>\n",
       "    </tr>\n",
       "  </thead>\n",
       "  <tbody>\n",
       "    <tr>\n",
       "      <th>12346.0</th>\n",
       "      <td>326</td>\n",
       "      <td>1</td>\n",
       "      <td>77183.60</td>\n",
       "      <td>1</td>\n",
       "      <td>1</td>\n",
       "      <td>5</td>\n",
       "      <td>11</td>\n",
       "      <td>hibernating</td>\n",
       "    </tr>\n",
       "    <tr>\n",
       "      <th>12347.0</th>\n",
       "      <td>3</td>\n",
       "      <td>7</td>\n",
       "      <td>4310.00</td>\n",
       "      <td>5</td>\n",
       "      <td>5</td>\n",
       "      <td>5</td>\n",
       "      <td>55</td>\n",
       "      <td>champions</td>\n",
       "    </tr>\n",
       "    <tr>\n",
       "      <th>12348.0</th>\n",
       "      <td>76</td>\n",
       "      <td>4</td>\n",
       "      <td>1797.24</td>\n",
       "      <td>2</td>\n",
       "      <td>4</td>\n",
       "      <td>4</td>\n",
       "      <td>24</td>\n",
       "      <td>at_Risk</td>\n",
       "    </tr>\n",
       "    <tr>\n",
       "      <th>12349.0</th>\n",
       "      <td>19</td>\n",
       "      <td>1</td>\n",
       "      <td>1757.55</td>\n",
       "      <td>4</td>\n",
       "      <td>1</td>\n",
       "      <td>4</td>\n",
       "      <td>41</td>\n",
       "      <td>promising</td>\n",
       "    </tr>\n",
       "    <tr>\n",
       "      <th>12350.0</th>\n",
       "      <td>311</td>\n",
       "      <td>1</td>\n",
       "      <td>334.40</td>\n",
       "      <td>1</td>\n",
       "      <td>1</td>\n",
       "      <td>2</td>\n",
       "      <td>11</td>\n",
       "      <td>hibernating</td>\n",
       "    </tr>\n",
       "  </tbody>\n",
       "</table>\n",
       "</div>"
      ],
      "text/plain": [
       "             Recency  Frequency  Monetary recency_score frequency_score  \\\n",
       "Customer ID                                                               \n",
       "12346.0          326          1  77183.60             1               1   \n",
       "12347.0            3          7   4310.00             5               5   \n",
       "12348.0           76          4   1797.24             2               4   \n",
       "12349.0           19          1   1757.55             4               1   \n",
       "12350.0          311          1    334.40             1               1   \n",
       "\n",
       "            monetary_score RFM_SCORE      segment  \n",
       "Customer ID                                        \n",
       "12346.0                  5        11  hibernating  \n",
       "12347.0                  5        55    champions  \n",
       "12348.0                  4        24      at_Risk  \n",
       "12349.0                  4        41    promising  \n",
       "12350.0                  2        11  hibernating  "
      ]
     },
     "execution_count": 15,
     "metadata": {},
     "output_type": "execute_result"
    }
   ],
   "source": [
    "seg_map = {\n",
    "    r'[1-2][1-2]': 'hibernating',\n",
    "    r'[1-2][3-4]': 'at_Risk',\n",
    "    r'[1-2]5': 'cant_loose',\n",
    "    r'3[1-2]': 'about_to_sleep',\n",
    "    r'33': 'need_attention',\n",
    "    r'[3-4][4-5]': 'loyal_customers',\n",
    "    r'41': 'promising',\n",
    "    r'51': 'new_customers',\n",
    "    r'[4-5][2-3]': 'potential_loyalists',\n",
    "    r'5[4-5]': 'champions'\n",
    "}\n",
    "rfm['segment'] = rfm['RFM_SCORE'].replace(seg_map, regex=True)\n",
    "rfm.head()"
   ]
  },
  {
   "cell_type": "markdown",
   "id": "69b0b405",
   "metadata": {
    "papermill": {
     "duration": 0.025694,
     "end_time": "2021-12-26T17:31:21.682006",
     "exception": false,
     "start_time": "2021-12-26T17:31:21.656312",
     "status": "completed"
    },
    "tags": []
   },
   "source": [
    "# **Interpretation of Descriptive Statistics of Segments**"
   ]
  },
  {
   "cell_type": "code",
   "execution_count": 16,
   "id": "86abb1bd",
   "metadata": {
    "execution": {
     "iopub.execute_input": "2021-12-26T17:31:21.739986Z",
     "iopub.status.busy": "2021-12-26T17:31:21.736069Z",
     "iopub.status.idle": "2021-12-26T17:31:21.777423Z",
     "shell.execute_reply": "2021-12-26T17:31:21.777937Z"
    },
    "papermill": {
     "duration": 0.070292,
     "end_time": "2021-12-26T17:31:21.778131",
     "exception": false,
     "start_time": "2021-12-26T17:31:21.707839",
     "status": "completed"
    },
    "tags": []
   },
   "outputs": [
    {
     "data": {
      "text/html": [
       "<div>\n",
       "<style scoped>\n",
       "    .dataframe tbody tr th:only-of-type {\n",
       "        vertical-align: middle;\n",
       "    }\n",
       "\n",
       "    .dataframe tbody tr th {\n",
       "        vertical-align: top;\n",
       "    }\n",
       "\n",
       "    .dataframe thead tr th {\n",
       "        text-align: left;\n",
       "    }\n",
       "\n",
       "    .dataframe thead tr:last-of-type th {\n",
       "        text-align: right;\n",
       "    }\n",
       "</style>\n",
       "<table border=\"1\" class=\"dataframe\">\n",
       "  <thead>\n",
       "    <tr>\n",
       "      <th></th>\n",
       "      <th colspan=\"3\" halign=\"left\">Recency</th>\n",
       "      <th colspan=\"3\" halign=\"left\">Frequency</th>\n",
       "      <th colspan=\"3\" halign=\"left\">Monetary</th>\n",
       "    </tr>\n",
       "    <tr>\n",
       "      <th></th>\n",
       "      <th>mean</th>\n",
       "      <th>count</th>\n",
       "      <th>max</th>\n",
       "      <th>mean</th>\n",
       "      <th>count</th>\n",
       "      <th>max</th>\n",
       "      <th>mean</th>\n",
       "      <th>count</th>\n",
       "      <th>max</th>\n",
       "    </tr>\n",
       "    <tr>\n",
       "      <th>segment</th>\n",
       "      <th></th>\n",
       "      <th></th>\n",
       "      <th></th>\n",
       "      <th></th>\n",
       "      <th></th>\n",
       "      <th></th>\n",
       "      <th></th>\n",
       "      <th></th>\n",
       "      <th></th>\n",
       "    </tr>\n",
       "  </thead>\n",
       "  <tbody>\n",
       "    <tr>\n",
       "      <th>about_to_sleep</th>\n",
       "      <td>53.0</td>\n",
       "      <td>352</td>\n",
       "      <td>72</td>\n",
       "      <td>1.0</td>\n",
       "      <td>352</td>\n",
       "      <td>2</td>\n",
       "      <td>472.0</td>\n",
       "      <td>352</td>\n",
       "      <td>6208.0</td>\n",
       "    </tr>\n",
       "    <tr>\n",
       "      <th>at_Risk</th>\n",
       "      <td>154.0</td>\n",
       "      <td>593</td>\n",
       "      <td>374</td>\n",
       "      <td>3.0</td>\n",
       "      <td>593</td>\n",
       "      <td>6</td>\n",
       "      <td>1085.0</td>\n",
       "      <td>593</td>\n",
       "      <td>44534.0</td>\n",
       "    </tr>\n",
       "    <tr>\n",
       "      <th>cant_loose</th>\n",
       "      <td>133.0</td>\n",
       "      <td>63</td>\n",
       "      <td>373</td>\n",
       "      <td>8.0</td>\n",
       "      <td>63</td>\n",
       "      <td>34</td>\n",
       "      <td>2796.0</td>\n",
       "      <td>63</td>\n",
       "      <td>10254.0</td>\n",
       "    </tr>\n",
       "    <tr>\n",
       "      <th>champions</th>\n",
       "      <td>6.0</td>\n",
       "      <td>633</td>\n",
       "      <td>13</td>\n",
       "      <td>12.0</td>\n",
       "      <td>633</td>\n",
       "      <td>210</td>\n",
       "      <td>6858.0</td>\n",
       "      <td>633</td>\n",
       "      <td>280206.0</td>\n",
       "    </tr>\n",
       "    <tr>\n",
       "      <th>hibernating</th>\n",
       "      <td>218.0</td>\n",
       "      <td>1071</td>\n",
       "      <td>374</td>\n",
       "      <td>1.0</td>\n",
       "      <td>1071</td>\n",
       "      <td>2</td>\n",
       "      <td>489.0</td>\n",
       "      <td>1071</td>\n",
       "      <td>77184.0</td>\n",
       "    </tr>\n",
       "    <tr>\n",
       "      <th>loyal_customers</th>\n",
       "      <td>34.0</td>\n",
       "      <td>819</td>\n",
       "      <td>72</td>\n",
       "      <td>6.0</td>\n",
       "      <td>819</td>\n",
       "      <td>63</td>\n",
       "      <td>2864.0</td>\n",
       "      <td>819</td>\n",
       "      <td>124915.0</td>\n",
       "    </tr>\n",
       "    <tr>\n",
       "      <th>need_attention</th>\n",
       "      <td>52.0</td>\n",
       "      <td>187</td>\n",
       "      <td>72</td>\n",
       "      <td>2.0</td>\n",
       "      <td>187</td>\n",
       "      <td>3</td>\n",
       "      <td>898.0</td>\n",
       "      <td>187</td>\n",
       "      <td>12602.0</td>\n",
       "    </tr>\n",
       "    <tr>\n",
       "      <th>new_customers</th>\n",
       "      <td>7.0</td>\n",
       "      <td>42</td>\n",
       "      <td>13</td>\n",
       "      <td>1.0</td>\n",
       "      <td>42</td>\n",
       "      <td>1</td>\n",
       "      <td>388.0</td>\n",
       "      <td>42</td>\n",
       "      <td>3861.0</td>\n",
       "    </tr>\n",
       "    <tr>\n",
       "      <th>potential_loyalists</th>\n",
       "      <td>17.0</td>\n",
       "      <td>484</td>\n",
       "      <td>33</td>\n",
       "      <td>2.0</td>\n",
       "      <td>484</td>\n",
       "      <td>3</td>\n",
       "      <td>1041.0</td>\n",
       "      <td>484</td>\n",
       "      <td>168472.0</td>\n",
       "    </tr>\n",
       "    <tr>\n",
       "      <th>promising</th>\n",
       "      <td>24.0</td>\n",
       "      <td>94</td>\n",
       "      <td>33</td>\n",
       "      <td>1.0</td>\n",
       "      <td>94</td>\n",
       "      <td>1</td>\n",
       "      <td>294.0</td>\n",
       "      <td>94</td>\n",
       "      <td>1758.0</td>\n",
       "    </tr>\n",
       "  </tbody>\n",
       "</table>\n",
       "</div>"
      ],
      "text/plain": [
       "                    Recency            Frequency            Monetary        \\\n",
       "                       mean count  max      mean count  max     mean count   \n",
       "segment                                                                      \n",
       "about_to_sleep         53.0   352   72       1.0   352    2    472.0   352   \n",
       "at_Risk               154.0   593  374       3.0   593    6   1085.0   593   \n",
       "cant_loose            133.0    63  373       8.0    63   34   2796.0    63   \n",
       "champions               6.0   633   13      12.0   633  210   6858.0   633   \n",
       "hibernating           218.0  1071  374       1.0  1071    2    489.0  1071   \n",
       "loyal_customers        34.0   819   72       6.0   819   63   2864.0   819   \n",
       "need_attention         52.0   187   72       2.0   187    3    898.0   187   \n",
       "new_customers           7.0    42   13       1.0    42    1    388.0    42   \n",
       "potential_loyalists    17.0   484   33       2.0   484    3   1041.0   484   \n",
       "promising              24.0    94   33       1.0    94    1    294.0    94   \n",
       "\n",
       "                               \n",
       "                          max  \n",
       "segment                        \n",
       "about_to_sleep         6208.0  \n",
       "at_Risk               44534.0  \n",
       "cant_loose            10254.0  \n",
       "champions            280206.0  \n",
       "hibernating           77184.0  \n",
       "loyal_customers      124915.0  \n",
       "need_attention        12602.0  \n",
       "new_customers          3861.0  \n",
       "potential_loyalists  168472.0  \n",
       "promising              1758.0  "
      ]
     },
     "execution_count": 16,
     "metadata": {},
     "output_type": "execute_result"
    }
   ],
   "source": [
    "rfm[[\"segment\", \"Recency\",\"Frequency\",\"Monetary\"]].groupby(\"segment\").agg([\"mean\",\"count\",\"max\"]).round()"
   ]
  },
  {
   "cell_type": "markdown",
   "id": "76c03566",
   "metadata": {
    "papermill": {
     "duration": 0.026657,
     "end_time": "2021-12-26T17:31:21.831431",
     "exception": false,
     "start_time": "2021-12-26T17:31:21.804774",
     "status": "completed"
    },
    "tags": []
   },
   "source": [
    "# **Reviews About the Segments**"
   ]
  },
  {
   "cell_type": "markdown",
   "id": "374521da",
   "metadata": {
    "papermill": {
     "duration": 0.026026,
     "end_time": "2021-12-26T17:31:21.883899",
     "exception": false,
     "start_time": "2021-12-26T17:31:21.857873",
     "status": "completed"
    },
    "tags": []
   },
   "source": [
    "**Cant Loose**\n",
    "\n",
    "* There are 63 people in this segment.\n",
    "* Shopping was done on average 133 days ago.\n",
    "* The frequency of shopping is 8, the total number of purchases is 63.\n",
    "* A total of £102,54 has been spent.\n",
    "\n",
    "**Action:** Even if the last purchase was made 133 days, the total number of purchases is high. It is a group of customers who do not come for a long time, but also make a lot of purchases when they come. We can analyze the process by sending surveys to these customers, and we can be changed by sharing personalized campaigns by e-mail."
   ]
  },
  {
   "cell_type": "markdown",
   "id": "6e8c2bc5",
   "metadata": {
    "papermill": {
     "duration": 0.025882,
     "end_time": "2021-12-26T17:31:21.936154",
     "exception": false,
     "start_time": "2021-12-26T17:31:21.910272",
     "status": "completed"
    },
    "tags": []
   },
   "source": [
    "**Need Attention**\n",
    "\n",
    "* There are 187 people in this segment.\n",
    "* Shopping was done on average 52 days ago.\n",
    "* The frequency of shopping is 2, the total number of purchases is 3.\n",
    "* A total of £12,602 has been spent.\n",
    "\n",
    "**Action:** These customers need to be reminded of the brand.So, short-term discounts can be made to remind these customers of our brand and allow them to shop again.\n"
   ]
  }
 ],
 "metadata": {
  "kernelspec": {
   "display_name": "Python 3",
   "language": "python",
   "name": "python3"
  },
  "language_info": {
   "codemirror_mode": {
    "name": "ipython",
    "version": 3
   },
   "file_extension": ".py",
   "mimetype": "text/x-python",
   "name": "python",
   "nbconvert_exporter": "python",
   "pygments_lexer": "ipython3",
   "version": "3.7.12"
  },
  "papermill": {
   "default_parameters": {},
   "duration": 116.476889,
   "end_time": "2021-12-26T17:31:22.877752",
   "environment_variables": {},
   "exception": null,
   "input_path": "__notebook__.ipynb",
   "output_path": "__notebook__.ipynb",
   "parameters": {},
   "start_time": "2021-12-26T17:29:26.400863",
   "version": "2.3.3"
  }
 },
 "nbformat": 4,
 "nbformat_minor": 5
}
