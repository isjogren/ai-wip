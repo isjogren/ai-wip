{
 "cells": [
  {
   "cell_type": "code",
   "execution_count": 1,
   "id": "420086d7",
   "metadata": {
    "_cell_guid": "b1076dfc-b9ad-4769-8c92-a6c4dae69d19",
    "_uuid": "8f2839f25d086af736a60e9eeb907d3b93b6e0e5",
    "execution": {
     "iopub.execute_input": "2022-07-17T17:37:31.562680Z",
     "iopub.status.busy": "2022-07-17T17:37:31.561818Z",
     "iopub.status.idle": "2022-07-17T17:37:31.587312Z",
     "shell.execute_reply": "2022-07-17T17:37:31.586442Z"
    },
    "papermill": {
     "duration": 0.034833,
     "end_time": "2022-07-17T17:37:31.589826",
     "exception": false,
     "start_time": "2022-07-17T17:37:31.554993",
     "status": "completed"
    },
    "tags": []
   },
   "outputs": [
    {
     "name": "stdout",
     "output_type": "stream",
     "text": [
      "/kaggle/input/preprocessed-dataset-sentiment-analysis/EcoPreprocessed.csv\n"
     ]
    }
   ],
   "source": [
    "# This Python 3 environment comes with many helpful analytics libraries installed\n",
    "# It is defined by the kaggle/python Docker image: https://github.com/kaggle/docker-python\n",
    "# For example, here's several helpful packages to load\n",
    "\n",
    "import numpy as np # linear algebra\n",
    "import pandas as pd # data processing, CSV file I/O (e.g. pd.read_csv)\n",
    "\n",
    "# Input data files are available in the read-only \"../input/\" directory\n",
    "# For example, running this (by clicking run or pressing Shift+Enter) will list all files under the input directory\n",
    "\n",
    "import os\n",
    "for dirname, _, filenames in os.walk('/kaggle/input'):\n",
    "    for filename in filenames:\n",
    "        print(os.path.join(dirname, filename))\n",
    "\n",
    "# You can write up to 20GB to the current directory (/kaggle/working/) that gets preserved as output when you create a version using \"Save & Run All\" \n",
    "# You can also write temporary files to /kaggle/temp/, but they won't be saved outside of the current session"
   ]
  },
  {
   "cell_type": "markdown",
   "id": "2b74f0db",
   "metadata": {
    "papermill": {
     "duration": 0.006474,
     "end_time": "2022-07-17T17:37:31.603195",
     "exception": false,
     "start_time": "2022-07-17T17:37:31.596721",
     "status": "completed"
    },
    "tags": []
   },
   "source": [
    "# Sentiment Analysis Basic ML Model Building"
   ]
  },
  {
   "cell_type": "code",
   "execution_count": 2,
   "id": "af7ac7a8",
   "metadata": {
    "execution": {
     "iopub.execute_input": "2022-07-17T17:37:31.618300Z",
     "iopub.status.busy": "2022-07-17T17:37:31.617640Z",
     "iopub.status.idle": "2022-07-17T17:37:31.621715Z",
     "shell.execute_reply": "2022-07-17T17:37:31.621058Z"
    },
    "papermill": {
     "duration": 0.014077,
     "end_time": "2022-07-17T17:37:31.623815",
     "exception": false,
     "start_time": "2022-07-17T17:37:31.609738",
     "status": "completed"
    },
    "tags": []
   },
   "outputs": [],
   "source": [
    "import numpy as np\n",
    "import pandas as pd\n",
    "import matplotlib.pyplot as plt"
   ]
  },
  {
   "cell_type": "markdown",
   "id": "781b271f",
   "metadata": {
    "papermill": {
     "duration": 0.006438,
     "end_time": "2022-07-17T17:37:31.636990",
     "exception": false,
     "start_time": "2022-07-17T17:37:31.630552",
     "status": "completed"
    },
    "tags": []
   },
   "source": [
    "### Loading Preprocessed Review Data\n",
    "- Creating independent varibale X\n",
    "- Creating dependent variable y"
   ]
  },
  {
   "cell_type": "code",
   "execution_count": 3,
   "id": "5b0efc62",
   "metadata": {
    "execution": {
     "iopub.execute_input": "2022-07-17T17:37:31.652324Z",
     "iopub.status.busy": "2022-07-17T17:37:31.651241Z",
     "iopub.status.idle": "2022-07-17T17:37:31.711045Z",
     "shell.execute_reply": "2022-07-17T17:37:31.709852Z"
    },
    "papermill": {
     "duration": 0.069869,
     "end_time": "2022-07-17T17:37:31.713477",
     "exception": false,
     "start_time": "2022-07-17T17:37:31.643608",
     "status": "completed"
    },
    "tags": []
   },
   "outputs": [],
   "source": [
    "df = pd.read_csv(\"/kaggle/input/preprocessed-dataset-sentiment-analysis/EcoPreprocessed.csv\")\n",
    "df.rename(columns={'division':'target'}, inplace=True)\n",
    "df.reset_index(drop=True,inplace=True)\n",
    "y = df['target'].replace({'positive':1, 'neutral':0, 'negative':-1})\n",
    "X = df['review']\n"
   ]
  },
  {
   "cell_type": "markdown",
   "id": "936e10e6",
   "metadata": {
    "execution": {
     "iopub.execute_input": "2022-07-17T16:51:08.675733Z",
     "iopub.status.busy": "2022-07-17T16:51:08.675315Z",
     "iopub.status.idle": "2022-07-17T16:51:08.685148Z",
     "shell.execute_reply": "2022-07-17T16:51:08.683823Z",
     "shell.execute_reply.started": "2022-07-17T16:51:08.675701Z"
    },
    "papermill": {
     "duration": 0.003926,
     "end_time": "2022-07-17T17:37:31.721794",
     "exception": false,
     "start_time": "2022-07-17T17:37:31.717868",
     "status": "completed"
    },
    "tags": []
   },
   "source": [
    "### Splitting X and y as 80% Train and 20% Test"
   ]
  },
  {
   "cell_type": "code",
   "execution_count": 4,
   "id": "34acaa19",
   "metadata": {
    "execution": {
     "iopub.execute_input": "2022-07-17T17:37:31.732215Z",
     "iopub.status.busy": "2022-07-17T17:37:31.731526Z",
     "iopub.status.idle": "2022-07-17T17:37:32.923492Z",
     "shell.execute_reply": "2022-07-17T17:37:32.922437Z"
    },
    "papermill": {
     "duration": 1.199621,
     "end_time": "2022-07-17T17:37:32.925477",
     "exception": false,
     "start_time": "2022-07-17T17:37:31.725856",
     "status": "completed"
    },
    "tags": []
   },
   "outputs": [
    {
     "data": {
      "text/plain": [
       "3223                                 really great product\n",
       "927     everything good biggest problem alexa not get ...\n",
       "3785    useless product not worth money pick song amaz...\n",
       "1662    good product purchase but if smart appliances ...\n",
       "3817                                          value muney\n",
       "                              ...                        \n",
       "835     dont want integrate anything house doesnt soun...\n",
       "3264    recieved product less hours amazon price rs sa...\n",
       "1653             good product not able connect wipro bulb\n",
       "2607          nice voiceenjoy but without wifi didnt play\n",
       "2732    not happy ok product not catch things fast add...\n",
       "Name: review, Length: 3267, dtype: object"
      ]
     },
     "execution_count": 4,
     "metadata": {},
     "output_type": "execute_result"
    }
   ],
   "source": [
    "from sklearn.model_selection import train_test_split\n",
    "X_train, X_test, y_train, y_test = train_test_split(X, y, test_size=0.2, random_state=0)\n",
    "X_train"
   ]
  },
  {
   "cell_type": "markdown",
   "id": "dea3c690",
   "metadata": {
    "papermill": {
     "duration": 0.004124,
     "end_time": "2022-07-17T17:37:32.934599",
     "exception": false,
     "start_time": "2022-07-17T17:37:32.930475",
     "status": "completed"
    },
    "tags": []
   },
   "source": [
    "### Vectorization"
   ]
  },
  {
   "cell_type": "code",
   "execution_count": 5,
   "id": "3d6e8d7c",
   "metadata": {
    "execution": {
     "iopub.execute_input": "2022-07-17T17:37:32.944724Z",
     "iopub.status.busy": "2022-07-17T17:37:32.944301Z",
     "iopub.status.idle": "2022-07-17T17:37:33.036652Z",
     "shell.execute_reply": "2022-07-17T17:37:33.035543Z"
    },
    "papermill": {
     "duration": 0.100637,
     "end_time": "2022-07-17T17:37:33.039444",
     "exception": false,
     "start_time": "2022-07-17T17:37:32.938807",
     "status": "completed"
    },
    "tags": []
   },
   "outputs": [],
   "source": [
    "from sklearn.feature_extraction.text import HashingVectorizer\n",
    "vectorizer = HashingVectorizer(n_features=2**18)\n",
    "X_train = vectorizer.fit_transform(X_train)\n",
    "X_test = vectorizer.transform(X_test)"
   ]
  },
  {
   "cell_type": "markdown",
   "id": "50c68793",
   "metadata": {
    "papermill": {
     "duration": 0.006513,
     "end_time": "2022-07-17T17:37:33.052878",
     "exception": false,
     "start_time": "2022-07-17T17:37:33.046365",
     "status": "completed"
    },
    "tags": []
   },
   "source": [
    "## Model Building"
   ]
  },
  {
   "cell_type": "markdown",
   "id": "98d9c781",
   "metadata": {
    "papermill": {
     "duration": 0.006374,
     "end_time": "2022-07-17T17:37:33.065940",
     "exception": false,
     "start_time": "2022-07-17T17:37:33.059566",
     "status": "completed"
    },
    "tags": []
   },
   "source": [
    "Fitting Multiple ML Models"
   ]
  },
  {
   "cell_type": "code",
   "execution_count": 6,
   "id": "52e53319",
   "metadata": {
    "execution": {
     "iopub.execute_input": "2022-07-17T17:37:33.081332Z",
     "iopub.status.busy": "2022-07-17T17:37:33.080891Z",
     "iopub.status.idle": "2022-07-17T17:37:33.090989Z",
     "shell.execute_reply": "2022-07-17T17:37:33.090249Z"
    },
    "papermill": {
     "duration": 0.021185,
     "end_time": "2022-07-17T17:37:33.093696",
     "exception": false,
     "start_time": "2022-07-17T17:37:33.072511",
     "status": "completed"
    },
    "tags": []
   },
   "outputs": [],
   "source": [
    "#Creating a function for any moddels\n",
    "\n",
    "def models(X_train, y_train):\n",
    "    \"\"\"\n",
    "    A Function to make use of various ML algos\n",
    "    \"\"\"\n",
    "    \n",
    "    #Logistic Regression\n",
    "    from sklearn.linear_model import LogisticRegression\n",
    "    log = LogisticRegression(class_weight='balanced', random_state=0)\n",
    "    log.fit(X_train, y_train)\n",
    "    \n",
    "    #KNearestNeighbors\n",
    "    from sklearn.neighbors import KNeighborsClassifier\n",
    "    knn = KNeighborsClassifier(n_neighbors=5, metric='minkowski', p=2)\n",
    "    knn.fit(X_train, y_train)\n",
    "    \n",
    "    #SVC LinearKernel\n",
    "    from sklearn.svm import SVC\n",
    "    svc_lin = SVC(kernel='linear', random_state=0)\n",
    "    svc_lin.fit(X_train, y_train)\n",
    "    \n",
    "    #SVC RBF Kernel\n",
    "    from sklearn.svm import SVC\n",
    "    svc_rbf = SVC(kernel='rbf', random_state=0)\n",
    "    svc_rbf.fit(X_train, y_train)\n",
    "    \n",
    "    #Decision Tree\n",
    "    from sklearn.tree import DecisionTreeClassifier\n",
    "    tree = DecisionTreeClassifier(criterion='entropy', random_state=0)\n",
    "    tree.fit(X_train, y_train)\n",
    "    \n",
    "    #Random Forest\n",
    "    from sklearn.ensemble import RandomForestClassifier\n",
    "    forest = RandomForestClassifier(n_estimators=50, criterion='gini',random_state=0)\n",
    "    forest.fit(X_train, y_train)\n",
    "    \n",
    "    #Print the training accuracy for each models\n",
    "    print('[0]Logistic Regression Training Accuracy:', log.score(X_train, y_train))\n",
    "    print('[1]KN Neighbors Training Accuracy:', knn.score(X_train, y_train))\n",
    "    print('[2]SVC Linear Training Accuracy:', svc_lin.score(X_train, y_train))\n",
    "    print('[3]SVC RBF Training Accuracy:', svc_rbf.score(X_train, y_train))\n",
    "    print('[4]Decision Tree Training Accuracy:', tree.score(X_train, y_train))\n",
    "    print('[5]Random Forest Training Accuracy:', forest.score(X_train, y_train))\n",
    " \n",
    "    \n",
    "    \n",
    "    return log, knn, svc_lin, svc_rbf, tree, forest"
   ]
  },
  {
   "cell_type": "markdown",
   "id": "014e62b7",
   "metadata": {
    "papermill": {
     "duration": 0.006424,
     "end_time": "2022-07-17T17:37:33.107092",
     "exception": false,
     "start_time": "2022-07-17T17:37:33.100668",
     "status": "completed"
    },
    "tags": []
   },
   "source": [
    "## Training Accuracy for various models"
   ]
  },
  {
   "cell_type": "code",
   "execution_count": 7,
   "id": "6326002c",
   "metadata": {
    "execution": {
     "iopub.execute_input": "2022-07-17T17:37:33.122472Z",
     "iopub.status.busy": "2022-07-17T17:37:33.121429Z",
     "iopub.status.idle": "2022-07-17T17:38:30.147018Z",
     "shell.execute_reply": "2022-07-17T17:38:30.145294Z"
    },
    "papermill": {
     "duration": 57.035455,
     "end_time": "2022-07-17T17:38:30.149126",
     "exception": false,
     "start_time": "2022-07-17T17:37:33.113671",
     "status": "completed"
    },
    "tags": []
   },
   "outputs": [
    {
     "name": "stdout",
     "output_type": "stream",
     "text": [
      "[0]Logistic Regression Training Accuracy: 0.8977655341291705\n",
      "[1]KN Neighbors Training Accuracy: 0.835016835016835\n",
      "[2]SVC Linear Training Accuracy: 0.9354147535965718\n",
      "[3]SVC RBF Training Accuracy: 0.977961432506887\n",
      "[4]Decision Tree Training Accuracy: 0.9987756351392715\n",
      "[5]Random Forest Training Accuracy: 0.9987756351392715\n"
     ]
    }
   ],
   "source": [
    "model  = models(X_train, y_train)"
   ]
  },
  {
   "cell_type": "markdown",
   "id": "4ddf2b80",
   "metadata": {
    "papermill": {
     "duration": 0.004359,
     "end_time": "2022-07-17T17:38:30.158294",
     "exception": false,
     "start_time": "2022-07-17T17:38:30.153935",
     "status": "completed"
    },
    "tags": []
   },
   "source": [
    "### Random Forest\n",
    "- Model with highest training Accuracy"
   ]
  },
  {
   "cell_type": "code",
   "execution_count": 8,
   "id": "2e5f6acf",
   "metadata": {
    "execution": {
     "iopub.execute_input": "2022-07-17T17:38:30.169502Z",
     "iopub.status.busy": "2022-07-17T17:38:30.169123Z",
     "iopub.status.idle": "2022-07-17T17:38:30.223291Z",
     "shell.execute_reply": "2022-07-17T17:38:30.222028Z"
    },
    "papermill": {
     "duration": 0.062884,
     "end_time": "2022-07-17T17:38:30.226031",
     "exception": false,
     "start_time": "2022-07-17T17:38:30.163147",
     "status": "completed"
    },
    "tags": []
   },
   "outputs": [
    {
     "data": {
      "text/plain": [
       "0.8347613219094248"
      ]
     },
     "execution_count": 8,
     "metadata": {},
     "output_type": "execute_result"
    }
   ],
   "source": [
    "from sklearn.metrics import accuracy_score\n",
    "y_pred = model[5].predict(X_test)\n",
    "accuracy_score(y_test, y_pred)"
   ]
  },
  {
   "cell_type": "markdown",
   "id": "062dab3b",
   "metadata": {
    "papermill": {
     "duration": 0.007063,
     "end_time": "2022-07-17T17:38:30.240654",
     "exception": false,
     "start_time": "2022-07-17T17:38:30.233591",
     "status": "completed"
    },
    "tags": []
   },
   "source": [
    "## Confusion Matrix"
   ]
  },
  {
   "cell_type": "code",
   "execution_count": 9,
   "id": "a16c2f50",
   "metadata": {
    "execution": {
     "iopub.execute_input": "2022-07-17T17:38:30.257030Z",
     "iopub.status.busy": "2022-07-17T17:38:30.256459Z",
     "iopub.status.idle": "2022-07-17T17:38:30.596345Z",
     "shell.execute_reply": "2022-07-17T17:38:30.595525Z"
    },
    "papermill": {
     "duration": 0.350392,
     "end_time": "2022-07-17T17:38:30.598339",
     "exception": false,
     "start_time": "2022-07-17T17:38:30.247947",
     "status": "completed"
    },
    "tags": []
   },
   "outputs": [
    {
     "name": "stderr",
     "output_type": "stream",
     "text": [
      "/opt/conda/lib/python3.7/site-packages/sklearn/utils/deprecation.py:87: FutureWarning: Function plot_confusion_matrix is deprecated; Function `plot_confusion_matrix` is deprecated in 1.0 and will be removed in 1.2. Use one of the class methods: ConfusionMatrixDisplay.from_predictions or ConfusionMatrixDisplay.from_estimator.\n",
      "  warnings.warn(msg, category=FutureWarning)\n"
     ]
    },
    {
     "data": {
      "image/png": "[encoded data removed]",
      "text/plain": [
       "<Figure size 432x288 with 2 Axes>"
      ]
     },
     "metadata": {
      "needs_background": "light"
     },
     "output_type": "display_data"
    }
   ],
   "source": [
    "from sklearn.metrics import confusion_matrix, plot_confusion_matrix\n",
    "y_pred = model[5].predict(X_test)\n",
    "confusion_matrix(y_test, y_pred)\n",
    "plot_confusion_matrix(model[5], X_test, y_test)\n",
    "plt.show()"
   ]
  },
  {
   "cell_type": "markdown",
   "id": "f730ee62",
   "metadata": {
    "papermill": {
     "duration": 0.005779,
     "end_time": "2022-07-17T17:38:30.609310",
     "exception": false,
     "start_time": "2022-07-17T17:38:30.603531",
     "status": "completed"
    },
    "tags": []
   },
   "source": [
    "## Predicting From User Inputs - RFC"
   ]
  },
  {
   "cell_type": "code",
   "execution_count": 10,
   "id": "9998a5d7",
   "metadata": {
    "execution": {
     "iopub.execute_input": "2022-07-17T17:38:30.622352Z",
     "iopub.status.busy": "2022-07-17T17:38:30.621105Z",
     "iopub.status.idle": "2022-07-17T17:38:30.640981Z",
     "shell.execute_reply": "2022-07-17T17:38:30.639989Z"
    },
    "papermill": {
     "duration": 0.028789,
     "end_time": "2022-07-17T17:38:30.643416",
     "exception": false,
     "start_time": "2022-07-17T17:38:30.614627",
     "status": "completed"
    },
    "tags": []
   },
   "outputs": [
    {
     "name": "stdout",
     "output_type": "stream",
     "text": [
      "Positive\n"
     ]
    }
   ],
   "source": [
    "review = ['good produc']\n",
    "review = vectorizer.transform(review)\n",
    "predict = model[5].predict(review)\n",
    "\n",
    "if predict == 1:\n",
    "    print('Positive')\n",
    "elif predict == 0:\n",
    "    print('neutral')\n",
    "else:\n",
    "    print('negative')"
   ]
  }
 ],
 "metadata": {
  "kernelspec": {
   "display_name": "Python 3",
   "language": "python",
   "name": "python3"
  },
  "language_info": {
   "codemirror_mode": {
    "name": "ipython",
    "version": 3
   },
   "file_extension": ".py",
   "mimetype": "text/x-python",
   "name": "python",
   "nbconvert_exporter": "python",
   "pygments_lexer": "ipython3",
   "version": "3.7.12"
  },
  "papermill": {
   "default_parameters": {},
   "duration": 71.568176,
   "end_time": "2022-07-17T17:38:31.772823",
   "environment_variables": {},
   "exception": null,
   "input_path": "__notebook__.ipynb",
   "output_path": "__notebook__.ipynb",
   "parameters": {},
   "start_time": "2022-07-17T17:37:20.204647",
   "version": "2.3.4"
  }
 },
 "nbformat": 4,
 "nbformat_minor": 5
}
