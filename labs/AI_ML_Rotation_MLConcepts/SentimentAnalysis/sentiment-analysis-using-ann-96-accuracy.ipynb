{
 "cells": [
  {
   "cell_type": "code",
   "execution_count": 1,
   "id": "e1288bfb",
   "metadata": {
    "_cell_guid": "b1076dfc-b9ad-4769-8c92-a6c4dae69d19",
    "_uuid": "8f2839f25d086af736a60e9eeb907d3b93b6e0e5",
    "execution": {
     "iopub.execute_input": "2022-07-20T12:02:54.344884Z",
     "iopub.status.busy": "2022-07-20T12:02:54.344446Z",
     "iopub.status.idle": "2022-07-20T12:03:03.774062Z",
     "shell.execute_reply": "2022-07-20T12:03:03.773241Z"
    },
    "papermill": {
     "duration": 9.439778,
     "end_time": "2022-07-20T12:03:03.776813",
     "exception": false,
     "start_time": "2022-07-20T12:02:54.337035",
     "status": "completed"
    },
    "tags": []
   },
   "outputs": [
    {
     "name": "stdout",
     "output_type": "stream",
     "text": [
      "/kaggle/input/preprocessed-dataset-sentiment-analysis/EcoPreprocessed.csv\n"
     ]
    }
   ],
   "source": [
    "# This Python 3 environment comes with many helpful analytics libraries installed\n",
    "# It is defined by the kaggle/python Docker image: https://github.com/kaggle/docker-python\n",
    "# For example, here's several helpful packages to load\n",
    "\n",
    "import numpy as np # linear algebra\n",
    "import pandas as pd # data processing, CSV file I/O (e.g. pd.read_csv)\n",
    "import spacy # data prcessing \n",
    "import tensorflow as tf \n",
    "from tensorflow import keras\n",
    "# Input data files are available in the read-only \"../input/\" directory\n",
    "# For example, running this (by clicking run or pressing Shift+Enter) will list all files under the input directory\n",
    "\n",
    "import os\n",
    "for dirname, _, filenames in os.walk('/kaggle/input'):\n",
    "    for filename in filenames:\n",
    "        print(os.path.join(dirname, filename))\n",
    "\n",
    "# You can write up to 20GB to the current directory (/kaggle/working/) that gets preserved as output when you create a version using \"Save & Run All\" \n",
    "# You can also write temporary files to /kaggle/temp/, but they won't be saved outside of the current session"
   ]
  },
  {
   "cell_type": "code",
   "execution_count": 2,
   "id": "549a4237",
   "metadata": {
    "execution": {
     "iopub.execute_input": "2022-07-20T12:03:03.788505Z",
     "iopub.status.busy": "2022-07-20T12:03:03.787403Z",
     "iopub.status.idle": "2022-07-20T12:03:03.837384Z",
     "shell.execute_reply": "2022-07-20T12:03:03.835868Z"
    },
    "papermill": {
     "duration": 0.058363,
     "end_time": "2022-07-20T12:03:03.839960",
     "exception": false,
     "start_time": "2022-07-20T12:03:03.781597",
     "status": "completed"
    },
    "tags": []
   },
   "outputs": [
    {
     "data": {
      "text/plain": [
       "(4084, 4)"
      ]
     },
     "execution_count": 2,
     "metadata": {},
     "output_type": "execute_result"
    }
   ],
   "source": [
    "df = pd.read_csv('/kaggle/input/preprocessed-dataset-sentiment-analysis/EcoPreprocessed.csv')\n",
    "df[df.division == 'negative'].shape\n",
    "df.shape"
   ]
  },
  {
   "cell_type": "code",
   "execution_count": 3,
   "id": "b33b438d",
   "metadata": {
    "execution": {
     "iopub.execute_input": "2022-07-20T12:03:03.853613Z",
     "iopub.status.busy": "2022-07-20T12:03:03.853106Z",
     "iopub.status.idle": "2022-07-20T12:03:39.980648Z",
     "shell.execute_reply": "2022-07-20T12:03:39.979387Z"
    },
    "papermill": {
     "duration": 36.138267,
     "end_time": "2022-07-20T12:03:39.983537",
     "exception": false,
     "start_time": "2022-07-20T12:03:03.845270",
     "status": "completed"
    },
    "tags": []
   },
   "outputs": [],
   "source": [
    "lemmatization = spacy.load(\"en_core_web_sm\")\n",
    "df.review = df['review'].apply((lambda row: \" \".join([w.lemma_ for w in lemmatization(row)])))\n",
    "\n"
   ]
  },
  {
   "cell_type": "code",
   "execution_count": 4,
   "id": "9aeb70f2",
   "metadata": {
    "execution": {
     "iopub.execute_input": "2022-07-20T12:03:39.995373Z",
     "iopub.status.busy": "2022-07-20T12:03:39.995011Z",
     "iopub.status.idle": "2022-07-20T12:03:40.006091Z",
     "shell.execute_reply": "2022-07-20T12:03:40.005349Z"
    },
    "papermill": {
     "duration": 0.019605,
     "end_time": "2022-07-20T12:03:40.008111",
     "exception": false,
     "start_time": "2022-07-20T12:03:39.988506",
     "status": "completed"
    },
    "tags": []
   },
   "outputs": [
    {
     "data": {
      "text/plain": [
       "array(['positive', 'neutral', 'negative'], dtype=object)"
      ]
     },
     "execution_count": 4,
     "metadata": {},
     "output_type": "execute_result"
    }
   ],
   "source": [
    "df['division'].unique()"
   ]
  },
  {
   "cell_type": "code",
   "execution_count": 5,
   "id": "8389432d",
   "metadata": {
    "execution": {
     "iopub.execute_input": "2022-07-20T12:03:40.019966Z",
     "iopub.status.busy": "2022-07-20T12:03:40.019061Z",
     "iopub.status.idle": "2022-07-20T12:03:41.369935Z",
     "shell.execute_reply": "2022-07-20T12:03:41.368710Z"
    },
    "papermill": {
     "duration": 1.359581,
     "end_time": "2022-07-20T12:03:41.372664",
     "exception": false,
     "start_time": "2022-07-20T12:03:40.013083",
     "status": "completed"
    },
    "tags": []
   },
   "outputs": [],
   "source": [
    "tokenize = keras.preprocessing.text.Tokenizer(num_words=1000)\n",
    "tokenize.fit_on_texts(df.review)\n",
    "bag_to_words = tokenize.texts_to_matrix(df.review)\n",
    "bag_to_words = pd.DataFrame(bag_to_words)"
   ]
  },
  {
   "cell_type": "code",
   "execution_count": null,
   "id": "da4917e2",
   "metadata": {
    "papermill": {
     "duration": 0.004455,
     "end_time": "2022-07-20T12:03:41.381956",
     "exception": false,
     "start_time": "2022-07-20T12:03:41.377501",
     "status": "completed"
    },
    "tags": []
   },
   "outputs": [],
   "source": []
  },
  {
   "cell_type": "code",
   "execution_count": 6,
   "id": "ea93bee8",
   "metadata": {
    "execution": {
     "iopub.execute_input": "2022-07-20T12:03:41.393177Z",
     "iopub.status.busy": "2022-07-20T12:03:41.392812Z",
     "iopub.status.idle": "2022-07-20T12:03:41.459980Z",
     "shell.execute_reply": "2022-07-20T12:03:41.459158Z"
    },
    "papermill": {
     "duration": 0.075346,
     "end_time": "2022-07-20T12:03:41.462022",
     "exception": false,
     "start_time": "2022-07-20T12:03:41.386676",
     "status": "completed"
    },
    "tags": []
   },
   "outputs": [
    {
     "data": {
      "text/plain": [
       "(4084, 1001)"
      ]
     },
     "execution_count": 6,
     "metadata": {},
     "output_type": "execute_result"
    }
   ],
   "source": [
    "label = pd.get_dummies(data = df['division'],columns=['division'])\n",
    "\n",
    "features = [bag_to_words, df['polarity']]\n",
    "full_dataset = pd.concat(features, axis=1)\n",
    "vocab_size = full_dataset.shape[1]\n",
    "full_dataset.shape"
   ]
  },
  {
   "cell_type": "code",
   "execution_count": 7,
   "id": "b4e1c68f",
   "metadata": {
    "execution": {
     "iopub.execute_input": "2022-07-20T12:03:41.474602Z",
     "iopub.status.busy": "2022-07-20T12:03:41.473248Z",
     "iopub.status.idle": "2022-07-20T12:03:41.481582Z",
     "shell.execute_reply": "2022-07-20T12:03:41.480211Z"
    },
    "papermill": {
     "duration": 0.017376,
     "end_time": "2022-07-20T12:03:41.484402",
     "exception": false,
     "start_time": "2022-07-20T12:03:41.467026",
     "status": "completed"
    },
    "tags": []
   },
   "outputs": [
    {
     "data": {
      "text/plain": [
       "\"from imblearn.over_sampling import RandomOverSampler\\noversample = RandomOverSampler(sampling_strategy='minority')\\nX_over, y_over = oversample.fit_resample(full_dataset,df['division'] )\\nX_over.head() \""
      ]
     },
     "execution_count": 7,
     "metadata": {},
     "output_type": "execute_result"
    }
   ],
   "source": [
    "'''from imblearn.over_sampling import RandomOverSampler\n",
    "oversample = RandomOverSampler(sampling_strategy='minority')\n",
    "X_over, y_over = oversample.fit_resample(full_dataset,df['division'] )\n",
    "X_over.head() '''"
   ]
  },
  {
   "cell_type": "code",
   "execution_count": 8,
   "id": "045aa555",
   "metadata": {
    "execution": {
     "iopub.execute_input": "2022-07-20T12:03:41.496790Z",
     "iopub.status.busy": "2022-07-20T12:03:41.496415Z",
     "iopub.status.idle": "2022-07-20T12:03:42.336976Z",
     "shell.execute_reply": "2022-07-20T12:03:42.335803Z"
    },
    "papermill": {
     "duration": 0.849985,
     "end_time": "2022-07-20T12:03:42.339978",
     "exception": false,
     "start_time": "2022-07-20T12:03:41.489993",
     "status": "completed"
    },
    "tags": []
   },
   "outputs": [],
   "source": [
    "from sklearn.model_selection import train_test_split\n",
    "x_train,x_test,y_train,y_test = train_test_split(full_dataset, label)"
   ]
  },
  {
   "cell_type": "code",
   "execution_count": 9,
   "id": "17c0a0ff",
   "metadata": {
    "execution": {
     "iopub.execute_input": "2022-07-20T12:03:42.353694Z",
     "iopub.status.busy": "2022-07-20T12:03:42.351947Z",
     "iopub.status.idle": "2022-07-20T12:03:42.500736Z",
     "shell.execute_reply": "2022-07-20T12:03:42.499530Z"
    },
    "papermill": {
     "duration": 0.158553,
     "end_time": "2022-07-20T12:03:42.503639",
     "exception": false,
     "start_time": "2022-07-20T12:03:42.345086",
     "status": "completed"
    },
    "tags": []
   },
   "outputs": [
    {
     "name": "stderr",
     "output_type": "stream",
     "text": [
      "2022-07-20 12:03:42.394650: I tensorflow/core/common_runtime/process_util.cc:146] Creating new thread pool with default inter op setting: 2. Tune using inter_op_parallelism_threads for best performance.\n"
     ]
    }
   ],
   "source": [
    "model = keras.Sequential()\n",
    "model.add(keras.layers.Dense(vocab_size, input_shape= (vocab_size,), activation='relu'))\n",
    "model.add(keras.layers.Dense(int(vocab_size/2), activation='relu'))\n",
    "model.add(keras.layers.Dense(25, activation='relu'))\n",
    "model.add(keras.layers.Dense(3, activation='softmax'))"
   ]
  },
  {
   "cell_type": "code",
   "execution_count": 10,
   "id": "b465fe1d",
   "metadata": {
    "execution": {
     "iopub.execute_input": "2022-07-20T12:03:42.516203Z",
     "iopub.status.busy": "2022-07-20T12:03:42.515849Z",
     "iopub.status.idle": "2022-07-20T12:03:42.540536Z",
     "shell.execute_reply": "2022-07-20T12:03:42.539533Z"
    },
    "papermill": {
     "duration": 0.033532,
     "end_time": "2022-07-20T12:03:42.543046",
     "exception": false,
     "start_time": "2022-07-20T12:03:42.509514",
     "status": "completed"
    },
    "tags": []
   },
   "outputs": [],
   "source": [
    "METRICS = [\n",
    "      keras.metrics.BinaryAccuracy(name='accuracy'),\n",
    "      keras.metrics.Precision(name='precision'),\n",
    "      keras.metrics.Recall(name='recall')\n",
    "]\n",
    "\n",
    "model.compile(optimizer='adam',\n",
    "              loss = \"binary_crossentropy\",\n",
    "              metrics = METRICS)"
   ]
  },
  {
   "cell_type": "code",
   "execution_count": 11,
   "id": "0b4fcf3c",
   "metadata": {
    "_kg_hide-output": true,
    "execution": {
     "iopub.execute_input": "2022-07-20T12:03:42.555185Z",
     "iopub.status.busy": "2022-07-20T12:03:42.554838Z",
     "iopub.status.idle": "2022-07-20T12:05:05.852586Z",
     "shell.execute_reply": "2022-07-20T12:05:05.851446Z"
    },
    "papermill": {
     "duration": 83.307081,
     "end_time": "2022-07-20T12:05:05.855263",
     "exception": false,
     "start_time": "2022-07-20T12:03:42.548182",
     "status": "completed"
    },
    "tags": []
   },
   "outputs": [
    {
     "name": "stderr",
     "output_type": "stream",
     "text": [
      "2022-07-20 12:03:42.698991: I tensorflow/compiler/mlir/mlir_graph_optimization_pass.cc:185] None of the MLIR Optimization Passes are enabled (registered 2)\n"
     ]
    },
    {
     "name": "stdout",
     "output_type": "stream",
     "text": [
      "Epoch 1/100\n",
      "96/96 [==============================] - 2s 8ms/step - loss: 0.2584 - accuracy: 0.8878 - precision: 0.8794 - recall: 0.7689\n",
      "Epoch 2/100\n",
      "96/96 [==============================] - 1s 8ms/step - loss: 0.0775 - accuracy: 0.9753 - precision: 0.9708 - recall: 0.9546\n",
      "Epoch 3/100\n",
      "96/96 [==============================] - 1s 8ms/step - loss: 0.0139 - accuracy: 0.9962 - precision: 0.9944 - recall: 0.9941\n",
      "Epoch 4/100\n",
      "96/96 [==============================] - 1s 8ms/step - loss: 0.0039 - accuracy: 0.9996 - precision: 0.9993 - recall: 0.9993\n",
      "Epoch 5/100\n",
      "96/96 [==============================] - 1s 7ms/step - loss: 0.0010 - accuracy: 1.0000 - precision: 1.0000 - recall: 1.0000\n",
      "Epoch 6/100\n",
      "96/96 [==============================] - 1s 8ms/step - loss: 8.9746e-04 - accuracy: 0.9998 - precision: 0.9997 - recall: 0.9997\n",
      "Epoch 7/100\n",
      "96/96 [==============================] - 1s 8ms/step - loss: 0.0011 - accuracy: 0.9998 - precision: 0.9997 - recall: 0.9997\n",
      "Epoch 8/100\n",
      "96/96 [==============================] - 1s 8ms/step - loss: 2.6879e-04 - accuracy: 1.0000 - precision: 1.0000 - recall: 1.0000\n",
      "Epoch 9/100\n",
      "96/96 [==============================] - 1s 9ms/step - loss: 1.5476e-04 - accuracy: 1.0000 - precision: 1.0000 - recall: 1.0000\n",
      "Epoch 10/100\n",
      "96/96 [==============================] - 1s 13ms/step - loss: 1.0559e-04 - accuracy: 1.0000 - precision: 1.0000 - recall: 1.0000\n",
      "Epoch 11/100\n",
      "96/96 [==============================] - 1s 10ms/step - loss: 8.2869e-05 - accuracy: 1.0000 - precision: 1.0000 - recall: 1.0000\n",
      "Epoch 12/100\n",
      "96/96 [==============================] - 1s 8ms/step - loss: 6.7877e-05 - accuracy: 1.0000 - precision: 1.0000 - recall: 1.0000\n",
      "Epoch 13/100\n",
      "96/96 [==============================] - 1s 8ms/step - loss: 5.6489e-05 - accuracy: 1.0000 - precision: 1.0000 - recall: 1.0000\n",
      "Epoch 14/100\n",
      "96/96 [==============================] - 1s 8ms/step - loss: 4.6991e-05 - accuracy: 1.0000 - precision: 1.0000 - recall: 1.0000\n",
      "Epoch 15/100\n",
      "96/96 [==============================] - 1s 8ms/step - loss: 4.0449e-05 - accuracy: 1.0000 - precision: 1.0000 - recall: 1.0000\n",
      "Epoch 16/100\n",
      "96/96 [==============================] - 1s 8ms/step - loss: 3.4645e-05 - accuracy: 1.0000 - precision: 1.0000 - recall: 1.0000\n",
      "Epoch 17/100\n",
      "96/96 [==============================] - 1s 8ms/step - loss: 3.0203e-05 - accuracy: 1.0000 - precision: 1.0000 - recall: 1.0000\n",
      "Epoch 18/100\n",
      "96/96 [==============================] - 1s 8ms/step - loss: 2.5965e-05 - accuracy: 1.0000 - precision: 1.0000 - recall: 1.0000\n",
      "Epoch 19/100\n",
      "96/96 [==============================] - 1s 9ms/step - loss: 2.3052e-05 - accuracy: 1.0000 - precision: 1.0000 - recall: 1.0000\n",
      "Epoch 20/100\n",
      "96/96 [==============================] - 1s 8ms/step - loss: 2.0615e-05 - accuracy: 1.0000 - precision: 1.0000 - recall: 1.0000\n",
      "Epoch 21/100\n",
      "96/96 [==============================] - 1s 8ms/step - loss: 1.8051e-05 - accuracy: 1.0000 - precision: 1.0000 - recall: 1.0000\n",
      "Epoch 22/100\n",
      "96/96 [==============================] - 1s 8ms/step - loss: 1.5947e-05 - accuracy: 1.0000 - precision: 1.0000 - recall: 1.0000\n",
      "Epoch 23/100\n",
      "96/96 [==============================] - 1s 8ms/step - loss: 1.4546e-05 - accuracy: 1.0000 - precision: 1.0000 - recall: 1.0000\n",
      "Epoch 24/100\n",
      "96/96 [==============================] - 1s 8ms/step - loss: 1.3100e-05 - accuracy: 1.0000 - precision: 1.0000 - recall: 1.0000\n",
      "Epoch 25/100\n",
      "96/96 [==============================] - 1s 8ms/step - loss: 1.1878e-05 - accuracy: 1.0000 - precision: 1.0000 - recall: 1.0000\n",
      "Epoch 26/100\n",
      "96/96 [==============================] - 1s 8ms/step - loss: 1.0733e-05 - accuracy: 1.0000 - precision: 1.0000 - recall: 1.0000\n",
      "Epoch 27/100\n",
      "96/96 [==============================] - 1s 8ms/step - loss: 9.6684e-06 - accuracy: 1.0000 - precision: 1.0000 - recall: 1.0000\n",
      "Epoch 28/100\n",
      "96/96 [==============================] - 1s 8ms/step - loss: 8.8715e-06 - accuracy: 1.0000 - precision: 1.0000 - recall: 1.0000\n",
      "Epoch 29/100\n",
      "96/96 [==============================] - 1s 8ms/step - loss: 8.1841e-06 - accuracy: 1.0000 - precision: 1.0000 - recall: 1.0000\n",
      "Epoch 30/100\n",
      "96/96 [==============================] - 1s 8ms/step - loss: 7.3278e-06 - accuracy: 1.0000 - precision: 1.0000 - recall: 1.0000\n",
      "Epoch 31/100\n",
      "96/96 [==============================] - 1s 8ms/step - loss: 6.8153e-06 - accuracy: 1.0000 - precision: 1.0000 - recall: 1.0000\n",
      "Epoch 32/100\n",
      "96/96 [==============================] - 1s 8ms/step - loss: 6.2011e-06 - accuracy: 1.0000 - precision: 1.0000 - recall: 1.0000\n",
      "Epoch 33/100\n",
      "96/96 [==============================] - 1s 9ms/step - loss: 5.8525e-06 - accuracy: 1.0000 - precision: 1.0000 - recall: 1.0000\n",
      "Epoch 34/100\n",
      "96/96 [==============================] - 1s 8ms/step - loss: 5.3592e-06 - accuracy: 1.0000 - precision: 1.0000 - recall: 1.0000\n",
      "Epoch 35/100\n",
      "96/96 [==============================] - 1s 8ms/step - loss: 4.9811e-06 - accuracy: 1.0000 - precision: 1.0000 - recall: 1.0000\n",
      "Epoch 36/100\n",
      "96/96 [==============================] - 1s 8ms/step - loss: 4.5868e-06 - accuracy: 1.0000 - precision: 1.0000 - recall: 1.0000\n",
      "Epoch 37/100\n",
      "96/96 [==============================] - 1s 8ms/step - loss: 4.2112e-06 - accuracy: 1.0000 - precision: 1.0000 - recall: 1.0000\n",
      "Epoch 38/100\n",
      "96/96 [==============================] - 1s 8ms/step - loss: 3.8777e-06 - accuracy: 1.0000 - precision: 1.0000 - recall: 1.0000\n",
      "Epoch 39/100\n",
      "96/96 [==============================] - 1s 8ms/step - loss: 3.6320e-06 - accuracy: 1.0000 - precision: 1.0000 - recall: 1.0000\n",
      "Epoch 40/100\n",
      "96/96 [==============================] - 1s 8ms/step - loss: 3.3617e-06 - accuracy: 1.0000 - precision: 1.0000 - recall: 1.0000\n",
      "Epoch 41/100\n",
      "96/96 [==============================] - 1s 8ms/step - loss: 3.1469e-06 - accuracy: 1.0000 - precision: 1.0000 - recall: 1.0000\n",
      "Epoch 42/100\n",
      "96/96 [==============================] - 1s 8ms/step - loss: 2.8825e-06 - accuracy: 1.0000 - precision: 1.0000 - recall: 1.0000\n",
      "Epoch 43/100\n",
      "96/96 [==============================] - 1s 8ms/step - loss: 2.6662e-06 - accuracy: 1.0000 - precision: 1.0000 - recall: 1.0000\n",
      "Epoch 44/100\n",
      "96/96 [==============================] - 1s 8ms/step - loss: 2.5300e-06 - accuracy: 1.0000 - precision: 1.0000 - recall: 1.0000\n",
      "Epoch 45/100\n",
      "96/96 [==============================] - 1s 8ms/step - loss: 2.3794e-06 - accuracy: 1.0000 - precision: 1.0000 - recall: 1.0000\n",
      "Epoch 46/100\n",
      "96/96 [==============================] - 1s 8ms/step - loss: 2.2032e-06 - accuracy: 1.0000 - precision: 1.0000 - recall: 1.0000\n",
      "Epoch 47/100\n",
      "96/96 [==============================] - 1s 9ms/step - loss: 2.1187e-06 - accuracy: 1.0000 - precision: 1.0000 - recall: 1.0000\n",
      "Epoch 48/100\n",
      "96/96 [==============================] - 1s 8ms/step - loss: 1.9439e-06 - accuracy: 1.0000 - precision: 1.0000 - recall: 1.0000\n",
      "Epoch 49/100\n",
      "96/96 [==============================] - 1s 8ms/step - loss: 1.8348e-06 - accuracy: 1.0000 - precision: 1.0000 - recall: 1.0000\n",
      "Epoch 50/100\n",
      "96/96 [==============================] - 1s 8ms/step - loss: 1.7275e-06 - accuracy: 1.0000 - precision: 1.0000 - recall: 1.0000\n",
      "Epoch 51/100\n",
      "96/96 [==============================] - 1s 8ms/step - loss: 1.6117e-06 - accuracy: 1.0000 - precision: 1.0000 - recall: 1.0000\n",
      "Epoch 52/100\n",
      "96/96 [==============================] - 1s 8ms/step - loss: 1.4823e-06 - accuracy: 1.0000 - precision: 1.0000 - recall: 1.0000\n",
      "Epoch 53/100\n",
      "96/96 [==============================] - 1s 8ms/step - loss: 1.4128e-06 - accuracy: 1.0000 - precision: 1.0000 - recall: 1.0000\n",
      "Epoch 54/100\n",
      "96/96 [==============================] - 1s 8ms/step - loss: 1.3037e-06 - accuracy: 1.0000 - precision: 1.0000 - recall: 1.0000\n",
      "Epoch 55/100\n",
      "96/96 [==============================] - 1s 8ms/step - loss: 1.2479e-06 - accuracy: 1.0000 - precision: 1.0000 - recall: 1.0000\n",
      "Epoch 56/100\n",
      "96/96 [==============================] - 1s 16ms/step - loss: 1.1661e-06 - accuracy: 1.0000 - precision: 1.0000 - recall: 1.0000\n",
      "Epoch 57/100\n",
      "96/96 [==============================] - 1s 8ms/step - loss: 1.1083e-06 - accuracy: 1.0000 - precision: 1.0000 - recall: 1.0000\n",
      "Epoch 58/100\n",
      "96/96 [==============================] - 1s 8ms/step - loss: 1.0268e-06 - accuracy: 1.0000 - precision: 1.0000 - recall: 1.0000\n",
      "Epoch 59/100\n",
      "96/96 [==============================] - 1s 8ms/step - loss: 9.5371e-07 - accuracy: 1.0000 - precision: 1.0000 - recall: 1.0000\n",
      "Epoch 60/100\n",
      "96/96 [==============================] - 1s 8ms/step - loss: 8.9981e-07 - accuracy: 1.0000 - precision: 1.0000 - recall: 1.0000\n",
      "Epoch 61/100\n",
      "96/96 [==============================] - 1s 9ms/step - loss: 8.1895e-07 - accuracy: 1.0000 - precision: 1.0000 - recall: 1.0000\n",
      "Epoch 62/100\n",
      "96/96 [==============================] - 1s 8ms/step - loss: 7.8163e-07 - accuracy: 1.0000 - precision: 1.0000 - recall: 1.0000\n",
      "Epoch 63/100\n",
      "96/96 [==============================] - 1s 8ms/step - loss: 7.6014e-07 - accuracy: 1.0000 - precision: 1.0000 - recall: 1.0000\n",
      "Epoch 64/100\n",
      "96/96 [==============================] - 1s 8ms/step - loss: 7.1546e-07 - accuracy: 1.0000 - precision: 1.0000 - recall: 1.0000\n",
      "Epoch 65/100\n",
      "96/96 [==============================] - 1s 8ms/step - loss: 6.4529e-07 - accuracy: 1.0000 - precision: 1.0000 - recall: 1.0000\n",
      "Epoch 66/100\n",
      "96/96 [==============================] - 1s 8ms/step - loss: 6.3053e-07 - accuracy: 1.0000 - precision: 1.0000 - recall: 1.0000\n",
      "Epoch 67/100\n",
      "96/96 [==============================] - 1s 8ms/step - loss: 5.6561e-07 - accuracy: 1.0000 - precision: 1.0000 - recall: 1.0000\n",
      "Epoch 68/100\n",
      "96/96 [==============================] - 1s 8ms/step - loss: 5.5949e-07 - accuracy: 1.0000 - precision: 1.0000 - recall: 1.0000\n",
      "Epoch 69/100\n",
      "96/96 [==============================] - 1s 8ms/step - loss: 5.3739e-07 - accuracy: 1.0000 - precision: 1.0000 - recall: 1.0000\n",
      "Epoch 70/100\n",
      "96/96 [==============================] - 1s 8ms/step - loss: 4.8483e-07 - accuracy: 1.0000 - precision: 1.0000 - recall: 1.0000\n",
      "Epoch 71/100\n",
      "96/96 [==============================] - 1s 8ms/step - loss: 4.4847e-07 - accuracy: 1.0000 - precision: 1.0000 - recall: 1.0000\n",
      "Epoch 72/100\n",
      "96/96 [==============================] - 1s 8ms/step - loss: 4.3105e-07 - accuracy: 1.0000 - precision: 1.0000 - recall: 1.0000\n",
      "Epoch 73/100\n",
      "96/96 [==============================] - 1s 8ms/step - loss: 4.2677e-07 - accuracy: 1.0000 - precision: 1.0000 - recall: 1.0000\n",
      "Epoch 74/100\n",
      "96/96 [==============================] - 1s 8ms/step - loss: 4.0196e-07 - accuracy: 1.0000 - precision: 1.0000 - recall: 1.0000\n",
      "Epoch 75/100\n",
      "96/96 [==============================] - 1s 9ms/step - loss: 3.7747e-07 - accuracy: 1.0000 - precision: 1.0000 - recall: 1.0000\n",
      "Epoch 76/100\n",
      "96/96 [==============================] - 1s 8ms/step - loss: 3.5514e-07 - accuracy: 1.0000 - precision: 1.0000 - recall: 1.0000\n",
      "Epoch 77/100\n",
      "96/96 [==============================] - 1s 8ms/step - loss: 3.3899e-07 - accuracy: 1.0000 - precision: 1.0000 - recall: 1.0000\n",
      "Epoch 78/100\n",
      "96/96 [==============================] - 1s 8ms/step - loss: 3.0123e-07 - accuracy: 1.0000 - precision: 1.0000 - recall: 1.0000\n",
      "Epoch 79/100\n",
      "96/96 [==============================] - 1s 8ms/step - loss: 2.9913e-07 - accuracy: 1.0000 - precision: 1.0000 - recall: 1.0000\n",
      "Epoch 80/100\n",
      "96/96 [==============================] - 1s 8ms/step - loss: 2.8210e-07 - accuracy: 1.0000 - precision: 1.0000 - recall: 1.0000\n",
      "Epoch 81/100\n",
      "96/96 [==============================] - 1s 8ms/step - loss: 2.6170e-07 - accuracy: 1.0000 - precision: 1.0000 - recall: 1.0000\n",
      "Epoch 82/100\n",
      "96/96 [==============================] - 1s 8ms/step - loss: 2.5315e-07 - accuracy: 1.0000 - precision: 1.0000 - recall: 1.0000\n",
      "Epoch 83/100\n",
      "96/96 [==============================] - 1s 8ms/step - loss: 2.4637e-07 - accuracy: 1.0000 - precision: 1.0000 - recall: 1.0000\n",
      "Epoch 84/100\n",
      "96/96 [==============================] - 1s 8ms/step - loss: 2.3160e-07 - accuracy: 1.0000 - precision: 1.0000 - recall: 1.0000\n",
      "Epoch 85/100\n",
      "96/96 [==============================] - 1s 8ms/step - loss: 2.1830e-07 - accuracy: 1.0000 - precision: 1.0000 - recall: 1.0000\n",
      "Epoch 86/100\n",
      "96/96 [==============================] - 1s 8ms/step - loss: 2.1101e-07 - accuracy: 1.0000 - precision: 1.0000 - recall: 1.0000\n",
      "Epoch 87/100\n",
      "96/96 [==============================] - 1s 8ms/step - loss: 1.9812e-07 - accuracy: 1.0000 - precision: 1.0000 - recall: 1.0000\n",
      "Epoch 88/100\n",
      "96/96 [==============================] - 1s 8ms/step - loss: 1.8500e-07 - accuracy: 1.0000 - precision: 1.0000 - recall: 1.0000\n",
      "Epoch 89/100\n",
      "96/96 [==============================] - 1s 9ms/step - loss: 1.7871e-07 - accuracy: 1.0000 - precision: 1.0000 - recall: 1.0000\n",
      "Epoch 90/100\n",
      "96/96 [==============================] - 1s 8ms/step - loss: 1.6175e-07 - accuracy: 1.0000 - precision: 1.0000 - recall: 1.0000\n",
      "Epoch 91/100\n",
      "96/96 [==============================] - 1s 8ms/step - loss: 1.5655e-07 - accuracy: 1.0000 - precision: 1.0000 - recall: 1.0000\n",
      "Epoch 92/100\n",
      "96/96 [==============================] - 1s 8ms/step - loss: 1.5559e-07 - accuracy: 1.0000 - precision: 1.0000 - recall: 1.0000\n",
      "Epoch 93/100\n",
      "96/96 [==============================] - 1s 8ms/step - loss: 1.4355e-07 - accuracy: 1.0000 - precision: 1.0000 - recall: 1.0000\n",
      "Epoch 94/100\n",
      "96/96 [==============================] - 1s 8ms/step - loss: 1.3548e-07 - accuracy: 1.0000 - precision: 1.0000 - recall: 1.0000\n",
      "Epoch 95/100\n",
      "96/96 [==============================] - 1s 8ms/step - loss: 1.2922e-07 - accuracy: 1.0000 - precision: 1.0000 - recall: 1.0000\n",
      "Epoch 96/100\n",
      "96/96 [==============================] - 1s 8ms/step - loss: 1.2224e-07 - accuracy: 1.0000 - precision: 1.0000 - recall: 1.0000\n",
      "Epoch 97/100\n",
      "96/96 [==============================] - 1s 8ms/step - loss: 1.1252e-07 - accuracy: 1.0000 - precision: 1.0000 - recall: 1.0000\n",
      "Epoch 98/100\n",
      "96/96 [==============================] - 1s 8ms/step - loss: 1.0897e-07 - accuracy: 1.0000 - precision: 1.0000 - recall: 1.0000\n",
      "Epoch 99/100\n",
      "96/96 [==============================] - 1s 8ms/step - loss: 9.9222e-08 - accuracy: 1.0000 - precision: 1.0000 - recall: 1.0000\n",
      "Epoch 100/100\n",
      "96/96 [==============================] - 2s 16ms/step - loss: 9.9416e-08 - accuracy: 1.0000 - precision: 1.0000 - recall: 1.0000\n"
     ]
    }
   ],
   "source": [
    "\n",
    "model.fit(x_train,y_train, epochs=100);"
   ]
  },
  {
   "cell_type": "code",
   "execution_count": 12,
   "id": "3ab9766c",
   "metadata": {
    "execution": {
     "iopub.execute_input": "2022-07-20T12:05:06.096194Z",
     "iopub.status.busy": "2022-07-20T12:05:06.095800Z",
     "iopub.status.idle": "2022-07-20T12:05:06.934565Z",
     "shell.execute_reply": "2022-07-20T12:05:06.933217Z"
    },
    "papermill": {
     "duration": 0.962007,
     "end_time": "2022-07-20T12:05:06.937207",
     "exception": false,
     "start_time": "2022-07-20T12:05:05.975200",
     "status": "completed"
    },
    "tags": []
   },
   "outputs": [
    {
     "name": "stdout",
     "output_type": "stream",
     "text": [
      "32/32 [==============================] - 1s 4ms/step - loss: 0.3076 - accuracy: 0.9667 - precision: 0.9500 - recall: 0.9500\n",
      "accuracy:0.9666993618011475\n",
      "precision:0.9500489830970764\n",
      "recall:0.9500489830970764\n"
     ]
    }
   ],
   "source": [
    "model.predict(x_test)\n",
    "\n",
    "result =  model.evaluate(x_test, y_test)\n",
    "#classes_x[480:589]\n",
    "print(f'accuracy:{result[1]}\\nprecision:{result[2]}\\nrecall:{result[3]}')"
   ]
  },
  {
   "cell_type": "code",
   "execution_count": null,
   "id": "769820fa",
   "metadata": {
    "papermill": {
     "duration": 0.12184,
     "end_time": "2022-07-20T12:05:07.183577",
     "exception": false,
     "start_time": "2022-07-20T12:05:07.061737",
     "status": "completed"
    },
    "tags": []
   },
   "outputs": [],
   "source": [
    "\n"
   ]
  }
 ],
 "metadata": {
  "kernelspec": {
   "display_name": "Python 3",
   "language": "python",
   "name": "python3"
  },
  "language_info": {
   "codemirror_mode": {
    "name": "ipython",
    "version": 3
   },
   "file_extension": ".py",
   "mimetype": "text/x-python",
   "name": "python",
   "nbconvert_exporter": "python",
   "pygments_lexer": "ipython3",
   "version": "3.7.12"
  },
  "papermill": {
   "default_parameters": {},
   "duration": 145.686214,
   "end_time": "2022-07-20T12:05:10.071359",
   "environment_variables": {},
   "exception": null,
   "input_path": "__notebook__.ipynb",
   "output_path": "__notebook__.ipynb",
   "parameters": {},
   "start_time": "2022-07-20T12:02:44.385145",
   "version": "2.3.4"
  }
 },
 "nbformat": 4,
 "nbformat_minor": 5
}
