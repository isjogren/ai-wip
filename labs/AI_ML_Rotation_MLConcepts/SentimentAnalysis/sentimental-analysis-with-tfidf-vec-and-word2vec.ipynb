{
 "cells": [
  {
   "cell_type": "code",
   "execution_count": 1,
   "id": "0a0c6d77",
   "metadata": {
    "execution": {
     "iopub.execute_input": "2022-07-24T14:16:28.294275Z",
     "iopub.status.busy": "2022-07-24T14:16:28.293359Z",
     "iopub.status.idle": "2022-07-24T14:16:31.043014Z",
     "shell.execute_reply": "2022-07-24T14:16:31.041584Z"
    },
    "papermill": {
     "duration": 2.762919,
     "end_time": "2022-07-24T14:16:31.046202",
     "exception": false,
     "start_time": "2022-07-24T14:16:28.283283",
     "status": "completed"
    },
    "tags": []
   },
   "outputs": [
    {
     "name": "stderr",
     "output_type": "stream",
     "text": [
      "[nltk_data] Downloading package omw-1.4 to /usr/share/nltk_data...\n"
     ]
    }
   ],
   "source": [
    "import os\n",
    "import numpy as np\n",
    "import pandas as pd\n",
    "import re\n",
    "import nltk\n",
    "nltk.download('omw-1.4')\n",
    "from nltk.stem import WordNetLemmatizer\n",
    "lemmatizer = WordNetLemmatizer()\n",
    "from nltk.corpus import stopwords\n",
    "from nltk.tokenize import word_tokenize\n",
    "from sklearn.ensemble import RandomForestClassifier\n",
    "from sklearn.metrics import confusion_matrix\n",
    "from sklearn.linear_model import LogisticRegression\n",
    "stp_word = stopwords.words('english')\n",
    "import warnings\n",
    "warnings.filterwarnings('ignore')"
   ]
  },
  {
   "cell_type": "code",
   "execution_count": 2,
   "id": "cccafbdb",
   "metadata": {
    "execution": {
     "iopub.execute_input": "2022-07-24T14:16:31.063813Z",
     "iopub.status.busy": "2022-07-24T14:16:31.062813Z",
     "iopub.status.idle": "2022-07-24T14:16:31.108234Z",
     "shell.execute_reply": "2022-07-24T14:16:31.107015Z"
    },
    "papermill": {
     "duration": 0.056863,
     "end_time": "2022-07-24T14:16:31.110802",
     "exception": false,
     "start_time": "2022-07-24T14:16:31.053939",
     "status": "completed"
    },
    "tags": []
   },
   "outputs": [
    {
     "data": {
      "text/html": [
       "<div>\n",
       "<style scoped>\n",
       "    .dataframe tbody tr th:only-of-type {\n",
       "        vertical-align: middle;\n",
       "    }\n",
       "\n",
       "    .dataframe tbody tr th {\n",
       "        vertical-align: top;\n",
       "    }\n",
       "\n",
       "    .dataframe thead th {\n",
       "        text-align: right;\n",
       "    }\n",
       "</style>\n",
       "<table border=\"1\" class=\"dataframe\">\n",
       "  <thead>\n",
       "    <tr style=\"text-align: right;\">\n",
       "      <th></th>\n",
       "      <th>Unnamed: 0</th>\n",
       "      <th>review</th>\n",
       "      <th>polarity</th>\n",
       "      <th>division</th>\n",
       "    </tr>\n",
       "  </thead>\n",
       "  <tbody>\n",
       "    <tr>\n",
       "      <th>0</th>\n",
       "      <td>3870</td>\n",
       "      <td>able play youtube alexa</td>\n",
       "      <td>0.5000</td>\n",
       "      <td>positive</td>\n",
       "    </tr>\n",
       "    <tr>\n",
       "      <th>1</th>\n",
       "      <td>62</td>\n",
       "      <td>able recognize indian accent really well drop ...</td>\n",
       "      <td>0.2794</td>\n",
       "      <td>positive</td>\n",
       "    </tr>\n",
       "    <tr>\n",
       "      <th>2</th>\n",
       "      <td>487</td>\n",
       "      <td>absolute smart device amazon connect external ...</td>\n",
       "      <td>0.1827</td>\n",
       "      <td>positive</td>\n",
       "    </tr>\n",
       "    <tr>\n",
       "      <th>3</th>\n",
       "      <td>3204</td>\n",
       "      <td>absolutely amaze new member family control hom...</td>\n",
       "      <td>0.3682</td>\n",
       "      <td>positive</td>\n",
       "    </tr>\n",
       "    <tr>\n",
       "      <th>4</th>\n",
       "      <td>1265</td>\n",
       "      <td>absolutely amaze previously sceptical invest m...</td>\n",
       "      <td>0.2333</td>\n",
       "      <td>positive</td>\n",
       "    </tr>\n",
       "  </tbody>\n",
       "</table>\n",
       "</div>"
      ],
      "text/plain": [
       "   Unnamed: 0                                             review  polarity  \\\n",
       "0        3870                            able play youtube alexa    0.5000   \n",
       "1          62  able recognize indian accent really well drop ...    0.2794   \n",
       "2         487  absolute smart device amazon connect external ...    0.1827   \n",
       "3        3204  absolutely amaze new member family control hom...    0.3682   \n",
       "4        1265  absolutely amaze previously sceptical invest m...    0.2333   \n",
       "\n",
       "   division  \n",
       "0  positive  \n",
       "1  positive  \n",
       "2  positive  \n",
       "3  positive  \n",
       "4  positive  "
      ]
     },
     "execution_count": 2,
     "metadata": {},
     "output_type": "execute_result"
    }
   ],
   "source": [
    "data = pd.read_csv('../input/preprocessed-dataset-sentiment-analysis/EcoPreprocessed.csv')\n",
    "data.head()"
   ]
  },
  {
   "cell_type": "code",
   "execution_count": 3,
   "id": "fd642573",
   "metadata": {
    "execution": {
     "iopub.execute_input": "2022-07-24T14:16:31.128679Z",
     "iopub.status.busy": "2022-07-24T14:16:31.127490Z",
     "iopub.status.idle": "2022-07-24T14:16:31.149001Z",
     "shell.execute_reply": "2022-07-24T14:16:31.147860Z"
    },
    "papermill": {
     "duration": 0.033299,
     "end_time": "2022-07-24T14:16:31.151832",
     "exception": false,
     "start_time": "2022-07-24T14:16:31.118533",
     "status": "completed"
    },
    "tags": []
   },
   "outputs": [
    {
     "data": {
      "text/html": [
       "<div>\n",
       "<style scoped>\n",
       "    .dataframe tbody tr th:only-of-type {\n",
       "        vertical-align: middle;\n",
       "    }\n",
       "\n",
       "    .dataframe tbody tr th {\n",
       "        vertical-align: top;\n",
       "    }\n",
       "\n",
       "    .dataframe thead th {\n",
       "        text-align: right;\n",
       "    }\n",
       "</style>\n",
       "<table border=\"1\" class=\"dataframe\">\n",
       "  <thead>\n",
       "    <tr style=\"text-align: right;\">\n",
       "      <th></th>\n",
       "      <th>review</th>\n",
       "      <th>division</th>\n",
       "    </tr>\n",
       "  </thead>\n",
       "  <tbody>\n",
       "    <tr>\n",
       "      <th>0</th>\n",
       "      <td>able play youtube alexa</td>\n",
       "      <td>positive</td>\n",
       "    </tr>\n",
       "    <tr>\n",
       "      <th>1</th>\n",
       "      <td>able recognize indian accent really well drop ...</td>\n",
       "      <td>positive</td>\n",
       "    </tr>\n",
       "    <tr>\n",
       "      <th>2</th>\n",
       "      <td>absolute smart device amazon connect external ...</td>\n",
       "      <td>positive</td>\n",
       "    </tr>\n",
       "    <tr>\n",
       "      <th>3</th>\n",
       "      <td>absolutely amaze new member family control hom...</td>\n",
       "      <td>positive</td>\n",
       "    </tr>\n",
       "    <tr>\n",
       "      <th>4</th>\n",
       "      <td>absolutely amaze previously sceptical invest m...</td>\n",
       "      <td>positive</td>\n",
       "    </tr>\n",
       "    <tr>\n",
       "      <th>...</th>\n",
       "      <td>...</td>\n",
       "      <td>...</td>\n",
       "    </tr>\n",
       "    <tr>\n",
       "      <th>4079</th>\n",
       "      <td>yo yo yo love go if want one smart speaker val...</td>\n",
       "      <td>positive</td>\n",
       "    </tr>\n",
       "    <tr>\n",
       "      <th>4080</th>\n",
       "      <td>youtube music</td>\n",
       "      <td>neutral</td>\n",
       "    </tr>\n",
       "    <tr>\n",
       "      <th>4081</th>\n",
       "      <td>youtube support nahi kartasong recognise achha...</td>\n",
       "      <td>neutral</td>\n",
       "    </tr>\n",
       "    <tr>\n",
       "      <th>4082</th>\n",
       "      <td>yup proscontrols wipro light amazinglysony bra...</td>\n",
       "      <td>neutral</td>\n",
       "    </tr>\n",
       "    <tr>\n",
       "      <th>4083</th>\n",
       "      <td>zero integration capabilities fire tv devices ...</td>\n",
       "      <td>negative</td>\n",
       "    </tr>\n",
       "  </tbody>\n",
       "</table>\n",
       "<p>4084 rows × 2 columns</p>\n",
       "</div>"
      ],
      "text/plain": [
       "                                                 review  division\n",
       "0                               able play youtube alexa  positive\n",
       "1     able recognize indian accent really well drop ...  positive\n",
       "2     absolute smart device amazon connect external ...  positive\n",
       "3     absolutely amaze new member family control hom...  positive\n",
       "4     absolutely amaze previously sceptical invest m...  positive\n",
       "...                                                 ...       ...\n",
       "4079  yo yo yo love go if want one smart speaker val...  positive\n",
       "4080                                      youtube music   neutral\n",
       "4081  youtube support nahi kartasong recognise achha...   neutral\n",
       "4082  yup proscontrols wipro light amazinglysony bra...   neutral\n",
       "4083  zero integration capabilities fire tv devices ...  negative\n",
       "\n",
       "[4084 rows x 2 columns]"
      ]
     },
     "execution_count": 3,
     "metadata": {},
     "output_type": "execute_result"
    }
   ],
   "source": [
    "data = data[['review','division']]\n",
    "data"
   ]
  },
  {
   "cell_type": "code",
   "execution_count": 4,
   "id": "876ea65c",
   "metadata": {
    "execution": {
     "iopub.execute_input": "2022-07-24T14:16:31.170100Z",
     "iopub.status.busy": "2022-07-24T14:16:31.169294Z",
     "iopub.status.idle": "2022-07-24T14:16:31.188244Z",
     "shell.execute_reply": "2022-07-24T14:16:31.187033Z"
    },
    "papermill": {
     "duration": 0.030954,
     "end_time": "2022-07-24T14:16:31.190757",
     "exception": false,
     "start_time": "2022-07-24T14:16:31.159803",
     "status": "completed"
    },
    "tags": []
   },
   "outputs": [
    {
     "data": {
      "text/html": [
       "<div>\n",
       "<style scoped>\n",
       "    .dataframe tbody tr th:only-of-type {\n",
       "        vertical-align: middle;\n",
       "    }\n",
       "\n",
       "    .dataframe tbody tr th {\n",
       "        vertical-align: top;\n",
       "    }\n",
       "\n",
       "    .dataframe thead th {\n",
       "        text-align: right;\n",
       "    }\n",
       "</style>\n",
       "<table border=\"1\" class=\"dataframe\">\n",
       "  <thead>\n",
       "    <tr style=\"text-align: right;\">\n",
       "      <th></th>\n",
       "      <th>review</th>\n",
       "      <th>division</th>\n",
       "    </tr>\n",
       "  </thead>\n",
       "  <tbody>\n",
       "    <tr>\n",
       "      <th>0</th>\n",
       "      <td>able play youtube alexa</td>\n",
       "      <td>positive</td>\n",
       "    </tr>\n",
       "    <tr>\n",
       "      <th>1</th>\n",
       "      <td>able recognize indian accent really well drop ...</td>\n",
       "      <td>positive</td>\n",
       "    </tr>\n",
       "    <tr>\n",
       "      <th>2</th>\n",
       "      <td>absolute smart device amazon connect external ...</td>\n",
       "      <td>positive</td>\n",
       "    </tr>\n",
       "    <tr>\n",
       "      <th>3</th>\n",
       "      <td>absolutely amaze new member family control hom...</td>\n",
       "      <td>positive</td>\n",
       "    </tr>\n",
       "    <tr>\n",
       "      <th>4</th>\n",
       "      <td>absolutely amaze previously sceptical invest m...</td>\n",
       "      <td>positive</td>\n",
       "    </tr>\n",
       "    <tr>\n",
       "      <th>...</th>\n",
       "      <td>...</td>\n",
       "      <td>...</td>\n",
       "    </tr>\n",
       "    <tr>\n",
       "      <th>4079</th>\n",
       "      <td>yo yo yo love go if want one smart speaker val...</td>\n",
       "      <td>positive</td>\n",
       "    </tr>\n",
       "    <tr>\n",
       "      <th>4080</th>\n",
       "      <td>youtube music</td>\n",
       "      <td>neutral</td>\n",
       "    </tr>\n",
       "    <tr>\n",
       "      <th>4081</th>\n",
       "      <td>youtube support nahi kartasong recognise achha...</td>\n",
       "      <td>neutral</td>\n",
       "    </tr>\n",
       "    <tr>\n",
       "      <th>4082</th>\n",
       "      <td>yup proscontrols wipro light amazinglysony bra...</td>\n",
       "      <td>neutral</td>\n",
       "    </tr>\n",
       "    <tr>\n",
       "      <th>4083</th>\n",
       "      <td>zero integration capabilities fire tv devices ...</td>\n",
       "      <td>negative</td>\n",
       "    </tr>\n",
       "  </tbody>\n",
       "</table>\n",
       "<p>3467 rows × 2 columns</p>\n",
       "</div>"
      ],
      "text/plain": [
       "                                                 review  division\n",
       "0                               able play youtube alexa  positive\n",
       "1     able recognize indian accent really well drop ...  positive\n",
       "2     absolute smart device amazon connect external ...  positive\n",
       "3     absolutely amaze new member family control hom...  positive\n",
       "4     absolutely amaze previously sceptical invest m...  positive\n",
       "...                                                 ...       ...\n",
       "4079  yo yo yo love go if want one smart speaker val...  positive\n",
       "4080                                      youtube music   neutral\n",
       "4081  youtube support nahi kartasong recognise achha...   neutral\n",
       "4082  yup proscontrols wipro light amazinglysony bra...   neutral\n",
       "4083  zero integration capabilities fire tv devices ...  negative\n",
       "\n",
       "[3467 rows x 2 columns]"
      ]
     },
     "execution_count": 4,
     "metadata": {},
     "output_type": "execute_result"
    }
   ],
   "source": [
    "# drop duplicates\n",
    "data = data.drop_duplicates()\n",
    "data"
   ]
  },
  {
   "cell_type": "code",
   "execution_count": 5,
   "id": "1f1c419f",
   "metadata": {
    "execution": {
     "iopub.execute_input": "2022-07-24T14:16:31.208678Z",
     "iopub.status.busy": "2022-07-24T14:16:31.208291Z",
     "iopub.status.idle": "2022-07-24T14:16:34.242560Z",
     "shell.execute_reply": "2022-07-24T14:16:34.241681Z"
    },
    "papermill": {
     "duration": 3.046415,
     "end_time": "2022-07-24T14:16:34.245078",
     "exception": false,
     "start_time": "2022-07-24T14:16:31.198663",
     "status": "completed"
    },
    "tags": []
   },
   "outputs": [],
   "source": [
    "def lemmatize_word(text):\n",
    "    word_tokens = word_tokenize(text)\n",
    "    lemmas = [lemmatizer.lemmatize(word, pos= 'v') for word in word_tokens]\n",
    "    lemmas = ' '.join(lemmas)\n",
    "    return lemmas\n",
    "data['review'] = data['review'].apply(lemmatize_word)"
   ]
  },
  {
   "cell_type": "code",
   "execution_count": 6,
   "id": "909277da",
   "metadata": {
    "execution": {
     "iopub.execute_input": "2022-07-24T14:16:34.263287Z",
     "iopub.status.busy": "2022-07-24T14:16:34.262232Z",
     "iopub.status.idle": "2022-07-24T14:16:34.270801Z",
     "shell.execute_reply": "2022-07-24T14:16:34.269444Z"
    },
    "papermill": {
     "duration": 0.020265,
     "end_time": "2022-07-24T14:16:34.273253",
     "exception": false,
     "start_time": "2022-07-24T14:16:34.252988",
     "status": "completed"
    },
    "tags": []
   },
   "outputs": [],
   "source": [
    "data.division = data.division.map({'positive':2,'neutral':1,'negative':0})"
   ]
  },
  {
   "cell_type": "code",
   "execution_count": 7,
   "id": "ea2d34ad",
   "metadata": {
    "execution": {
     "iopub.execute_input": "2022-07-24T14:16:34.291735Z",
     "iopub.status.busy": "2022-07-24T14:16:34.291347Z",
     "iopub.status.idle": "2022-07-24T14:16:34.300377Z",
     "shell.execute_reply": "2022-07-24T14:16:34.298846Z"
    },
    "papermill": {
     "duration": 0.021894,
     "end_time": "2022-07-24T14:16:34.303370",
     "exception": false,
     "start_time": "2022-07-24T14:16:34.281476",
     "status": "completed"
    },
    "tags": []
   },
   "outputs": [],
   "source": [
    "data['review'] = data['review'].apply(lambda x : x.lower())"
   ]
  },
  {
   "cell_type": "markdown",
   "id": "fed1cdb9",
   "metadata": {
    "papermill": {
     "duration": 0.008098,
     "end_time": "2022-07-24T14:16:34.319844",
     "exception": false,
     "start_time": "2022-07-24T14:16:34.311746",
     "status": "completed"
    },
    "tags": []
   },
   "source": [
    "TFIDF Vectorization"
   ]
  },
  {
   "cell_type": "code",
   "execution_count": 8,
   "id": "5b238b32",
   "metadata": {
    "code_folding": [],
    "execution": {
     "iopub.execute_input": "2022-07-24T14:16:34.339013Z",
     "iopub.status.busy": "2022-07-24T14:16:34.338185Z",
     "iopub.status.idle": "2022-07-24T14:16:34.344641Z",
     "shell.execute_reply": "2022-07-24T14:16:34.343421Z"
    },
    "papermill": {
     "duration": 0.018854,
     "end_time": "2022-07-24T14:16:34.346938",
     "exception": false,
     "start_time": "2022-07-24T14:16:34.328084",
     "status": "completed"
    },
    "tags": []
   },
   "outputs": [],
   "source": [
    "def tokenize(text):\n",
    "    word_list = word_tokenize(text)\n",
    "    text_token = []\n",
    "    for word in word_list:\n",
    "        if not word in stp_word:\n",
    "            text_token.append(word)\n",
    "    text_token = ' '.join(text_token)\n",
    "    return text_token "
   ]
  },
  {
   "cell_type": "code",
   "execution_count": 9,
   "id": "44952979",
   "metadata": {
    "execution": {
     "iopub.execute_input": "2022-07-24T14:16:34.365394Z",
     "iopub.status.busy": "2022-07-24T14:16:34.364805Z",
     "iopub.status.idle": "2022-07-24T14:16:35.141420Z",
     "shell.execute_reply": "2022-07-24T14:16:35.140140Z"
    },
    "papermill": {
     "duration": 0.788948,
     "end_time": "2022-07-24T14:16:35.143954",
     "exception": false,
     "start_time": "2022-07-24T14:16:34.355006",
     "status": "completed"
    },
    "tags": []
   },
   "outputs": [],
   "source": [
    "X_pre = data.review.apply(tokenize)\n",
    "target = data.division"
   ]
  },
  {
   "cell_type": "code",
   "execution_count": 10,
   "id": "511186dc",
   "metadata": {
    "execution": {
     "iopub.execute_input": "2022-07-24T14:16:35.161480Z",
     "iopub.status.busy": "2022-07-24T14:16:35.161069Z",
     "iopub.status.idle": "2022-07-24T14:16:35.169214Z",
     "shell.execute_reply": "2022-07-24T14:16:35.168109Z"
    },
    "papermill": {
     "duration": 0.01982,
     "end_time": "2022-07-24T14:16:35.171680",
     "exception": false,
     "start_time": "2022-07-24T14:16:35.151860",
     "status": "completed"
    },
    "tags": []
   },
   "outputs": [],
   "source": [
    "# Split\n",
    "from sklearn.model_selection import train_test_split\n",
    "x_train,x_test,y_train,y_test = train_test_split(X_pre,target,test_size=0.2,random_state=0)"
   ]
  },
  {
   "cell_type": "code",
   "execution_count": 11,
   "id": "b1e7cada",
   "metadata": {
    "execution": {
     "iopub.execute_input": "2022-07-24T14:16:35.189541Z",
     "iopub.status.busy": "2022-07-24T14:16:35.189110Z",
     "iopub.status.idle": "2022-07-24T14:16:35.263194Z",
     "shell.execute_reply": "2022-07-24T14:16:35.262296Z"
    },
    "papermill": {
     "duration": 0.086089,
     "end_time": "2022-07-24T14:16:35.265859",
     "exception": false,
     "start_time": "2022-07-24T14:16:35.179770",
     "status": "completed"
    },
    "tags": []
   },
   "outputs": [
    {
     "data": {
      "text/plain": [
       "TfidfVectorizer(lowercase=False, max_features=4000)"
      ]
     },
     "execution_count": 11,
     "metadata": {},
     "output_type": "execute_result"
    }
   ],
   "source": [
    "# Vectorization\n",
    "from sklearn.feature_extraction.text import TfidfVectorizer\n",
    "vectorizer = TfidfVectorizer(analyzer='word',max_features=4000,lowercase=False)\n",
    "vectorizer.fit(x_train)"
   ]
  },
  {
   "cell_type": "code",
   "execution_count": 12,
   "id": "bc28031c",
   "metadata": {
    "execution": {
     "iopub.execute_input": "2022-07-24T14:16:35.284787Z",
     "iopub.status.busy": "2022-07-24T14:16:35.284387Z",
     "iopub.status.idle": "2022-07-24T14:16:35.368083Z",
     "shell.execute_reply": "2022-07-24T14:16:35.367065Z"
    },
    "papermill": {
     "duration": 0.096445,
     "end_time": "2022-07-24T14:16:35.370933",
     "exception": false,
     "start_time": "2022-07-24T14:16:35.274488",
     "status": "completed"
    },
    "tags": []
   },
   "outputs": [
    {
     "data": {
      "text/plain": [
       "0.7262247838616714"
      ]
     },
     "execution_count": 12,
     "metadata": {},
     "output_type": "execute_result"
    }
   ],
   "source": [
    "from sklearn.naive_bayes import MultinomialNB\n",
    "classifier = MultinomialNB()\n",
    "classifier.fit(vectorizer.transform(x_train),y_train)\n",
    "classifier.score(vectorizer.transform(x_test),y_test)"
   ]
  },
  {
   "cell_type": "code",
   "execution_count": 13,
   "id": "540e8615",
   "metadata": {
    "execution": {
     "iopub.execute_input": "2022-07-24T14:16:35.390031Z",
     "iopub.status.busy": "2022-07-24T14:16:35.389623Z",
     "iopub.status.idle": "2022-07-24T14:16:58.592358Z",
     "shell.execute_reply": "2022-07-24T14:16:58.591038Z"
    },
    "papermill": {
     "duration": 23.216527,
     "end_time": "2022-07-24T14:16:58.596456",
     "exception": false,
     "start_time": "2022-07-24T14:16:35.379929",
     "status": "completed"
    },
    "tags": []
   },
   "outputs": [
    {
     "data": {
      "text/plain": [
       "0.8573487031700289"
      ]
     },
     "execution_count": 13,
     "metadata": {},
     "output_type": "execute_result"
    }
   ],
   "source": [
    "from xgboost import XGBClassifier\n",
    "xgb = XGBClassifier(learning_rate = 0.01,n_estimators = 1000,gamma = 1.0,\n",
    "                    random_state = 0,objective='multi:softmax')\n",
    "xgb.fit(vectorizer.transform(x_train),y_train)\n",
    "xgb.score(vectorizer.transform(x_test),y_test)"
   ]
  },
  {
   "cell_type": "code",
   "execution_count": 14,
   "id": "10d65de1",
   "metadata": {
    "execution": {
     "iopub.execute_input": "2022-07-24T14:16:58.616571Z",
     "iopub.status.busy": "2022-07-24T14:16:58.616169Z",
     "iopub.status.idle": "2022-07-24T14:16:58.784659Z",
     "shell.execute_reply": "2022-07-24T14:16:58.783397Z"
    },
    "papermill": {
     "duration": 0.180724,
     "end_time": "2022-07-24T14:16:58.787040",
     "exception": false,
     "start_time": "2022-07-24T14:16:58.606316",
     "status": "completed"
    },
    "tags": []
   },
   "outputs": [
    {
     "data": {
      "text/plain": [
       "0.7680115273775217"
      ]
     },
     "execution_count": 14,
     "metadata": {},
     "output_type": "execute_result"
    }
   ],
   "source": [
    "from sklearn.neighbors import KNeighborsClassifier\n",
    "knn = KNeighborsClassifier(n_neighbors=26, metric='minkowski', p=2)\n",
    "knn.fit(vectorizer.transform(x_train),y_train)\n",
    "knn.score(vectorizer.transform(x_test),y_test)"
   ]
  },
  {
   "cell_type": "code",
   "execution_count": 15,
   "id": "20dcfa11",
   "metadata": {
    "execution": {
     "iopub.execute_input": "2022-07-24T14:16:58.806624Z",
     "iopub.status.busy": "2022-07-24T14:16:58.805379Z",
     "iopub.status.idle": "2022-07-24T14:17:12.283545Z",
     "shell.execute_reply": "2022-07-24T14:17:12.282345Z"
    },
    "papermill": {
     "duration": 13.490545,
     "end_time": "2022-07-24T14:17:12.286079",
     "exception": false,
     "start_time": "2022-07-24T14:16:58.795534",
     "status": "completed"
    },
    "tags": []
   },
   "outputs": [
    {
     "data": {
      "text/plain": [
       "0.8285302593659942"
      ]
     },
     "execution_count": 15,
     "metadata": {},
     "output_type": "execute_result"
    }
   ],
   "source": [
    "from sklearn.ensemble import RandomForestClassifier\n",
    "forest = RandomForestClassifier(n_estimators=1000, criterion='gini',random_state=0)\n",
    "forest.fit(vectorizer.transform(x_train),y_train)\n",
    "forest.score(vectorizer.transform(x_test),y_test)"
   ]
  },
  {
   "cell_type": "markdown",
   "id": "e23b84f2",
   "metadata": {
    "papermill": {
     "duration": 0.008316,
     "end_time": "2022-07-24T14:17:12.303509",
     "exception": false,
     "start_time": "2022-07-24T14:17:12.295193",
     "status": "completed"
    },
    "tags": []
   },
   "source": [
    "Word2vec"
   ]
  },
  {
   "cell_type": "code",
   "execution_count": 16,
   "id": "f630d375",
   "metadata": {
    "execution": {
     "iopub.execute_input": "2022-07-24T14:17:12.322788Z",
     "iopub.status.busy": "2022-07-24T14:17:12.322412Z",
     "iopub.status.idle": "2022-07-24T14:17:13.273220Z",
     "shell.execute_reply": "2022-07-24T14:17:13.272297Z"
    },
    "papermill": {
     "duration": 0.963382,
     "end_time": "2022-07-24T14:17:13.275611",
     "exception": false,
     "start_time": "2022-07-24T14:17:12.312229",
     "status": "completed"
    },
    "tags": []
   },
   "outputs": [],
   "source": [
    "data = pd.read_csv('../input/preprocessed-dataset-sentiment-analysis/EcoPreprocessed.csv')\n",
    "data = data[['review','division']]\n",
    "data = data.drop_duplicates()\n",
    "data['review'] = data['review'].apply(lemmatize_word)\n",
    "data.division = data.division.map({'positive':2,'neutral':1,'negative':0})"
   ]
  },
  {
   "cell_type": "code",
   "execution_count": 17,
   "id": "9b4761d1",
   "metadata": {
    "execution": {
     "iopub.execute_input": "2022-07-24T14:17:13.295224Z",
     "iopub.status.busy": "2022-07-24T14:17:13.294428Z",
     "iopub.status.idle": "2022-07-24T14:17:13.302028Z",
     "shell.execute_reply": "2022-07-24T14:17:13.300946Z"
    },
    "papermill": {
     "duration": 0.020281,
     "end_time": "2022-07-24T14:17:13.304726",
     "exception": false,
     "start_time": "2022-07-24T14:17:13.284445",
     "status": "completed"
    },
    "tags": []
   },
   "outputs": [],
   "source": [
    "X_train,X_test,y_train,y_test = train_test_split(data.review,data.division,\n",
    "                                                 test_size=0.2,random_state=0)"
   ]
  },
  {
   "cell_type": "code",
   "execution_count": 18,
   "id": "f00cf93b",
   "metadata": {
    "execution": {
     "iopub.execute_input": "2022-07-24T14:17:13.324094Z",
     "iopub.status.busy": "2022-07-24T14:17:13.323709Z",
     "iopub.status.idle": "2022-07-24T14:17:13.820009Z",
     "shell.execute_reply": "2022-07-24T14:17:13.818899Z"
    },
    "papermill": {
     "duration": 0.509324,
     "end_time": "2022-07-24T14:17:13.822754",
     "exception": false,
     "start_time": "2022-07-24T14:17:13.313430",
     "status": "completed"
    },
    "tags": []
   },
   "outputs": [],
   "source": [
    "def clean_text(text,remove_stopwords = False):\n",
    "    text = re.sub(r'[^a-zA-Z]',' ',text)\n",
    "    words = text.lower().split()\n",
    "    if remove_stopwords:\n",
    "        words = [w for w in words if w not in stp_word]\n",
    "    return words\n",
    "train_sentences_list = []\n",
    "test_sentences_list = []\n",
    "for line in X_train:\n",
    "    train_sentences_list.append(clean_text(line,remove_stopwords=True))\n",
    "for line in X_test:\n",
    "    test_sentences_list.append(clean_text(line,remove_stopwords=True))\n",
    "# set the parameters\n",
    "num_features = 150\n",
    "min_word_count = 20\n",
    "num_workers = 4\n",
    "context = 4\n",
    "model_name = 'Word2vec_.model'\n",
    "\n",
    "from gensim.models.word2vec import Word2Vec\n",
    "model = Word2Vec(train_sentences_list,workers=num_workers,vector_size = num_features,\n",
    "                 min_count=min_word_count,window=context)\n",
    "model.init_sims(replace = True)\n",
    "model.save(os.path.join('.',model_name))"
   ]
  },
  {
   "cell_type": "code",
   "execution_count": 19,
   "id": "573390d7",
   "metadata": {
    "execution": {
     "iopub.execute_input": "2022-07-24T14:17:13.842307Z",
     "iopub.status.busy": "2022-07-24T14:17:13.841504Z",
     "iopub.status.idle": "2022-07-24T14:17:15.042499Z",
     "shell.execute_reply": "2022-07-24T14:17:15.041580Z"
    },
    "papermill": {
     "duration": 1.213093,
     "end_time": "2022-07-24T14:17:15.044650",
     "exception": false,
     "start_time": "2022-07-24T14:17:13.831557",
     "status": "completed"
    },
    "tags": []
   },
   "outputs": [
    {
     "data": {
      "text/html": [
       "<div>\n",
       "<style scoped>\n",
       "    .dataframe tbody tr th:only-of-type {\n",
       "        vertical-align: middle;\n",
       "    }\n",
       "\n",
       "    .dataframe tbody tr th {\n",
       "        vertical-align: top;\n",
       "    }\n",
       "\n",
       "    .dataframe thead th {\n",
       "        text-align: right;\n",
       "    }\n",
       "</style>\n",
       "<table border=\"1\" class=\"dataframe\">\n",
       "  <thead>\n",
       "    <tr style=\"text-align: right;\">\n",
       "      <th></th>\n",
       "      <th>0</th>\n",
       "      <th>1</th>\n",
       "      <th>2</th>\n",
       "      <th>3</th>\n",
       "      <th>4</th>\n",
       "      <th>5</th>\n",
       "      <th>6</th>\n",
       "      <th>7</th>\n",
       "      <th>8</th>\n",
       "      <th>9</th>\n",
       "      <th>...</th>\n",
       "      <th>140</th>\n",
       "      <th>141</th>\n",
       "      <th>142</th>\n",
       "      <th>143</th>\n",
       "      <th>144</th>\n",
       "      <th>145</th>\n",
       "      <th>146</th>\n",
       "      <th>147</th>\n",
       "      <th>148</th>\n",
       "      <th>149</th>\n",
       "    </tr>\n",
       "  </thead>\n",
       "  <tbody>\n",
       "    <tr>\n",
       "      <th>2621</th>\n",
       "      <td>-0.012209</td>\n",
       "      <td>-0.020146</td>\n",
       "      <td>0.032614</td>\n",
       "      <td>-0.031338</td>\n",
       "      <td>0.012491</td>\n",
       "      <td>-0.015247</td>\n",
       "      <td>-0.005827</td>\n",
       "      <td>0.142751</td>\n",
       "      <td>-0.072489</td>\n",
       "      <td>0.049458</td>\n",
       "      <td>...</td>\n",
       "      <td>0.081165</td>\n",
       "      <td>0.008116</td>\n",
       "      <td>-0.007941</td>\n",
       "      <td>0.021384</td>\n",
       "      <td>0.187847</td>\n",
       "      <td>0.070240</td>\n",
       "      <td>-0.091968</td>\n",
       "      <td>-0.092549</td>\n",
       "      <td>0.098067</td>\n",
       "      <td>-0.108503</td>\n",
       "    </tr>\n",
       "    <tr>\n",
       "      <th>3987</th>\n",
       "      <td>-0.346596</td>\n",
       "      <td>-0.528311</td>\n",
       "      <td>0.841766</td>\n",
       "      <td>-0.736205</td>\n",
       "      <td>0.405037</td>\n",
       "      <td>-0.338978</td>\n",
       "      <td>-0.147472</td>\n",
       "      <td>3.705772</td>\n",
       "      <td>-1.850994</td>\n",
       "      <td>1.268297</td>\n",
       "      <td>...</td>\n",
       "      <td>2.054024</td>\n",
       "      <td>0.237842</td>\n",
       "      <td>-0.235404</td>\n",
       "      <td>0.551236</td>\n",
       "      <td>4.851963</td>\n",
       "      <td>1.812554</td>\n",
       "      <td>-2.343545</td>\n",
       "      <td>-2.459024</td>\n",
       "      <td>2.524158</td>\n",
       "      <td>-2.785991</td>\n",
       "    </tr>\n",
       "    <tr>\n",
       "      <th>690</th>\n",
       "      <td>-0.095938</td>\n",
       "      <td>-0.129727</td>\n",
       "      <td>0.223476</td>\n",
       "      <td>-0.209926</td>\n",
       "      <td>0.105157</td>\n",
       "      <td>-0.092115</td>\n",
       "      <td>-0.028948</td>\n",
       "      <td>1.000796</td>\n",
       "      <td>-0.497657</td>\n",
       "      <td>0.333881</td>\n",
       "      <td>...</td>\n",
       "      <td>0.546478</td>\n",
       "      <td>0.061011</td>\n",
       "      <td>-0.052898</td>\n",
       "      <td>0.146791</td>\n",
       "      <td>1.303013</td>\n",
       "      <td>0.480256</td>\n",
       "      <td>-0.631449</td>\n",
       "      <td>-0.667027</td>\n",
       "      <td>0.682519</td>\n",
       "      <td>-0.750771</td>\n",
       "    </tr>\n",
       "    <tr>\n",
       "      <th>3959</th>\n",
       "      <td>-0.107110</td>\n",
       "      <td>-0.193148</td>\n",
       "      <td>0.304228</td>\n",
       "      <td>-0.273685</td>\n",
       "      <td>0.142500</td>\n",
       "      <td>-0.125174</td>\n",
       "      <td>-0.050154</td>\n",
       "      <td>1.282760</td>\n",
       "      <td>-0.633417</td>\n",
       "      <td>0.435583</td>\n",
       "      <td>...</td>\n",
       "      <td>0.720127</td>\n",
       "      <td>0.090034</td>\n",
       "      <td>-0.094073</td>\n",
       "      <td>0.185982</td>\n",
       "      <td>1.697307</td>\n",
       "      <td>0.624522</td>\n",
       "      <td>-0.810357</td>\n",
       "      <td>-0.861578</td>\n",
       "      <td>0.897370</td>\n",
       "      <td>-0.975332</td>\n",
       "    </tr>\n",
       "    <tr>\n",
       "      <th>1637</th>\n",
       "      <td>-0.093367</td>\n",
       "      <td>-0.179814</td>\n",
       "      <td>0.283662</td>\n",
       "      <td>-0.232319</td>\n",
       "      <td>0.113026</td>\n",
       "      <td>-0.115102</td>\n",
       "      <td>-0.029364</td>\n",
       "      <td>1.144796</td>\n",
       "      <td>-0.568175</td>\n",
       "      <td>0.394631</td>\n",
       "      <td>...</td>\n",
       "      <td>0.629646</td>\n",
       "      <td>0.061632</td>\n",
       "      <td>-0.076413</td>\n",
       "      <td>0.160705</td>\n",
       "      <td>1.493856</td>\n",
       "      <td>0.556825</td>\n",
       "      <td>-0.713050</td>\n",
       "      <td>-0.758825</td>\n",
       "      <td>0.794645</td>\n",
       "      <td>-0.849805</td>\n",
       "    </tr>\n",
       "  </tbody>\n",
       "</table>\n",
       "<p>5 rows × 150 columns</p>\n",
       "</div>"
      ],
      "text/plain": [
       "           0         1         2         3         4         5         6    \\\n",
       "2621 -0.012209 -0.020146  0.032614 -0.031338  0.012491 -0.015247 -0.005827   \n",
       "3987 -0.346596 -0.528311  0.841766 -0.736205  0.405037 -0.338978 -0.147472   \n",
       "690  -0.095938 -0.129727  0.223476 -0.209926  0.105157 -0.092115 -0.028948   \n",
       "3959 -0.107110 -0.193148  0.304228 -0.273685  0.142500 -0.125174 -0.050154   \n",
       "1637 -0.093367 -0.179814  0.283662 -0.232319  0.113026 -0.115102 -0.029364   \n",
       "\n",
       "           7         8         9    ...       140       141       142  \\\n",
       "2621  0.142751 -0.072489  0.049458  ...  0.081165  0.008116 -0.007941   \n",
       "3987  3.705772 -1.850994  1.268297  ...  2.054024  0.237842 -0.235404   \n",
       "690   1.000796 -0.497657  0.333881  ...  0.546478  0.061011 -0.052898   \n",
       "3959  1.282760 -0.633417  0.435583  ...  0.720127  0.090034 -0.094073   \n",
       "1637  1.144796 -0.568175  0.394631  ...  0.629646  0.061632 -0.076413   \n",
       "\n",
       "           143       144       145       146       147       148       149  \n",
       "2621  0.021384  0.187847  0.070240 -0.091968 -0.092549  0.098067 -0.108503  \n",
       "3987  0.551236  4.851963  1.812554 -2.343545 -2.459024  2.524158 -2.785991  \n",
       "690   0.146791  1.303013  0.480256 -0.631449 -0.667027  0.682519 -0.750771  \n",
       "3959  0.185982  1.697307  0.624522 -0.810357 -0.861578  0.897370 -0.975332  \n",
       "1637  0.160705  1.493856  0.556825 -0.713050 -0.758825  0.794645 -0.849805  \n",
       "\n",
       "[5 rows x 150 columns]"
      ]
     },
     "execution_count": 19,
     "metadata": {},
     "output_type": "execute_result"
    }
   ],
   "source": [
    "def to_review_vector(review):\n",
    "    global word_vec\n",
    "    review = clean_text(review,remove_stopwords=True)\n",
    "    word_vec = np.zeros((1,150))\n",
    "    for word in review:\n",
    "        if word in model.wv:\n",
    "            word_vec += np.array([model.wv[word]])\n",
    "    return pd.Series(word_vec.mean(axis = 0))\n",
    "X_train = X_train.apply(to_review_vector)\n",
    "X_test = X_test.apply(to_review_vector)\n",
    "X_train.head()"
   ]
  },
  {
   "cell_type": "code",
   "execution_count": 20,
   "id": "523f1607",
   "metadata": {
    "execution": {
     "iopub.execute_input": "2022-07-24T14:17:15.065353Z",
     "iopub.status.busy": "2022-07-24T14:17:15.064179Z",
     "iopub.status.idle": "2022-07-24T14:17:15.104603Z",
     "shell.execute_reply": "2022-07-24T14:17:15.103428Z"
    },
    "papermill": {
     "duration": 0.054706,
     "end_time": "2022-07-24T14:17:15.108400",
     "exception": false,
     "start_time": "2022-07-24T14:17:15.053694",
     "status": "completed"
    },
    "tags": []
   },
   "outputs": [
    {
     "data": {
      "text/plain": [
       "0.6397694524495677"
      ]
     },
     "execution_count": 20,
     "metadata": {},
     "output_type": "execute_result"
    }
   ],
   "source": [
    "from sklearn.preprocessing import MinMaxScaler\n",
    "min_max_scaler = MinMaxScaler()\n",
    "classifier = MultinomialNB()\n",
    "classifier.fit(min_max_scaler.fit_transform(X_train),y_train)\n",
    "classifier.score(min_max_scaler.fit_transform(X_test),y_test)"
   ]
  },
  {
   "cell_type": "code",
   "execution_count": 21,
   "id": "422bb898",
   "metadata": {
    "execution": {
     "iopub.execute_input": "2022-07-24T14:17:15.144240Z",
     "iopub.status.busy": "2022-07-24T14:17:15.143646Z",
     "iopub.status.idle": "2022-07-24T14:19:14.676363Z",
     "shell.execute_reply": "2022-07-24T14:19:14.674995Z"
    },
    "papermill": {
     "duration": 119.554115,
     "end_time": "2022-07-24T14:19:14.679212",
     "exception": false,
     "start_time": "2022-07-24T14:17:15.125097",
     "status": "completed"
    },
    "tags": []
   },
   "outputs": [
    {
     "data": {
      "text/plain": [
       "0.7564841498559077"
      ]
     },
     "execution_count": 21,
     "metadata": {},
     "output_type": "execute_result"
    }
   ],
   "source": [
    "xgb = XGBClassifier(learning_rate = 0.01,n_estimators = 1000,gamma = 1.0,random_state = 0)\n",
    "xgb.fit(X_train,y_train)\n",
    "xgb.score(X_test,y_test)"
   ]
  },
  {
   "cell_type": "code",
   "execution_count": 22,
   "id": "8d910b39",
   "metadata": {
    "execution": {
     "iopub.execute_input": "2022-07-24T14:19:14.699932Z",
     "iopub.status.busy": "2022-07-24T14:19:14.699119Z",
     "iopub.status.idle": "2022-07-24T14:19:14.839573Z",
     "shell.execute_reply": "2022-07-24T14:19:14.838331Z"
    },
    "papermill": {
     "duration": 0.154747,
     "end_time": "2022-07-24T14:19:14.843166",
     "exception": false,
     "start_time": "2022-07-24T14:19:14.688419",
     "status": "completed"
    },
    "tags": []
   },
   "outputs": [
    {
     "data": {
      "text/plain": [
       "0.7579250720461095"
      ]
     },
     "execution_count": 22,
     "metadata": {},
     "output_type": "execute_result"
    }
   ],
   "source": [
    "knn = KNeighborsClassifier(n_neighbors=11, metric='minkowski', p=2)\n",
    "knn.fit(X_train,y_train)\n",
    "knn.score(X_test,y_test)"
   ]
  },
  {
   "cell_type": "code",
   "execution_count": 23,
   "id": "a0e2dabd",
   "metadata": {
    "execution": {
     "iopub.execute_input": "2022-07-24T14:19:14.865805Z",
     "iopub.status.busy": "2022-07-24T14:19:14.864681Z",
     "iopub.status.idle": "2022-07-24T14:19:42.844168Z",
     "shell.execute_reply": "2022-07-24T14:19:42.842860Z"
    },
    "papermill": {
     "duration": 27.992615,
     "end_time": "2022-07-24T14:19:42.846827",
     "exception": false,
     "start_time": "2022-07-24T14:19:14.854212",
     "status": "completed"
    },
    "tags": []
   },
   "outputs": [
    {
     "data": {
      "text/plain": [
       "0.7651296829971181"
      ]
     },
     "execution_count": 23,
     "metadata": {},
     "output_type": "execute_result"
    }
   ],
   "source": [
    "forest = RandomForestClassifier(n_estimators=1000, criterion='gini',random_state=0)\n",
    "forest.fit(X_train,y_train)\n",
    "forest.score(X_test,y_test)"
   ]
  }
 ],
 "metadata": {
  "kernelspec": {
   "display_name": "Python 3",
   "language": "python",
   "name": "python3"
  },
  "language_info": {
   "codemirror_mode": {
    "name": "ipython",
    "version": 3
   },
   "file_extension": ".py",
   "mimetype": "text/x-python",
   "name": "python",
   "nbconvert_exporter": "python",
   "pygments_lexer": "ipython3",
   "version": "3.7.12"
  },
  "papermill": {
   "default_parameters": {},
   "duration": 205.555008,
   "end_time": "2022-07-24T14:19:43.981194",
   "environment_variables": {},
   "exception": null,
   "input_path": "__notebook__.ipynb",
   "output_path": "__notebook__.ipynb",
   "parameters": {},
   "start_time": "2022-07-24T14:16:18.426186",
   "version": "2.3.4"
  }
 },
 "nbformat": 4,
 "nbformat_minor": 5
}
