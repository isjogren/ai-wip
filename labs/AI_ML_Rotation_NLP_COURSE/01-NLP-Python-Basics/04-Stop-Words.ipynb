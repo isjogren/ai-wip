{
 "cells": [
  {
   "cell_type": "markdown",
   "metadata": {},
   "source": [
    "# Stop Words\n",
    "Words like \"a\" and \"the\" appear so frequently that they don't require tagging as thoroughly as nouns, verbs and modifiers. We call these *stop words*, and they can be filtered from the text to be processed. spaCy holds a built-in list of some 305 English stop words."
   ]
  },
  {
   "cell_type": "code",
   "execution_count": 1,
   "metadata": {},
   "outputs": [],
   "source": [
    "# Perform standard imports:\n",
    "import spacy\n",
    "nlp = spacy.load('en_core_web_sm')"
   ]
  },
  {
   "cell_type": "code",
   "execution_count": 2,
   "metadata": {},
   "outputs": [
    {
     "name": "stdout",
     "output_type": "stream",
     "text": [
      "{'me', 'even', 'nothing', 'ten', 'together', 'between', 'forty', 'out', 'ours', 'until', 'although', 'really', 'down', 'least', 'own', 're', 'was', 'other', 'we', 'several', 'except', 'seeming', 'then', 'are', 'however', 'whereafter', 'against', 'would', 'hundred', 'to', 'an', 'fifty', 'with', 'once', 'always', 'besides', 'others', 'but', 'along', 'will', 'already', 'further', 'side', 'is', 'alone', 'next', 'though', 'without', 'yet', 'done', 'back', 'across', 'meanwhile', 'much', 'five', 'per', 'around', 'on', 'well', 'regarding', 'about', 'unless', 'hereupon', 'move', 'can', 'please', 'where', 'whenever', 'nine', 'while', 'sometime', 'hereby', 'give', 'under', 'former', 'whereupon', 'full', 'top', 'make', 'of', 'ourselves', 'that', 'afterwards', 'some', 'when', 'something', 'yours', 'thereupon', 'beyond', 'everything', 'anyway', 'so', 'onto', 'after', 'four', 'themselves', 'were', 'another', 'ever', 'their', 'as', 'its', 'whither', 'whole', 'using', 'himself', 'yourselves', 'everyone', 'see', 'amount', 'he', 'in', 'namely', 'go', 'now', 'which', 'do', 'this', 'if', 'by', 'our', 'did', 'just', 'sixty', 'whereas', 'latterly', 'perhaps', 'whoever', 'someone', 'indeed', 'nobody', 'mine', 'there', 'never', 'noone', 'over', 'up', 'two', 'within', 'myself', 'every', 'hers', 'among', 'also', 'none', 'six', 'be', 'toward', 'name', 'behind', 'empty', 'and', 'eight', 'nevertheless', 'either', 'all', 'yourself', 'us', 'three', 'i', 'twenty', 'am', 'part', 'latter', 'seemed', 'somehow', 'thereby', 'anyhow', 'before', 'any', 'thru', 'have', 'she', 'put', 'above', 'due', 'often', 'less', 'these', 'thereafter', 'a', 'should', 'almost', 'more', 'third', 'therein', 'anything', 'bottom', 'doing', 'enough', 'serious', 'no', 'towards', 'ca', 'show', 'whence', 'upon', 'first', 'the', 'not', 'you', 'during', 'how', 'could', 'hereafter', 'each', 'last', 'him', 'hence', 'must', 'quite', 'may', 'than', 'been', 'front', 'had', 'herein', 'or', 'whereby', 'nor', 'take', 'therefore', 'why', 'whose', 'few', 'being', 'eleven', 'nowhere', 'they', 'my', 'various', 'most', 'twelve', 'call', 'off', 'for', 'it', 'cannot', 'somewhere', 'many', 'below', 'whom', 'beside', 'has', 'else', 'only', 'both', 'them', 'wherever', 'became', 'through', 'say', 'herself', 'still', 'again', 'thus', 'who', 'sometimes', 'neither', 'what', 'her', 'whatever', 'very', 'too', 'rather', 'become', 'everywhere', 'throughout', 'itself', 'via', 'whether', 'because', 'becoming', 'fifteen', 'might', 'seems', 'otherwise', 'same', 'thence', 'his', 'seem', 'since', 'get', 'your', 'anywhere', 'mostly', 'from', 'beforehand', 'amongst', 'formerly', 'here', 'keep', 'those', 'at', 'made', 'one', 'such', 'elsewhere', 'becomes', 'into', 'does', 'anyone', 'used', 'moreover', 'wherein'}\n"
     ]
    }
   ],
   "source": [
    "# Print the set of spaCy's default stop words (remember that sets are unordered):\n",
    "print(nlp.Defaults.stop_words)"
   ]
  },
  {
   "cell_type": "code",
   "execution_count": 3,
   "metadata": {},
   "outputs": [
    {
     "data": {
      "text/plain": [
       "305"
      ]
     },
     "execution_count": 3,
     "metadata": {},
     "output_type": "execute_result"
    }
   ],
   "source": [
    "len(nlp.Defaults.stop_words)"
   ]
  },
  {
   "cell_type": "markdown",
   "metadata": {},
   "source": [
    "## To see if a word is a stop word"
   ]
  },
  {
   "cell_type": "code",
   "execution_count": 4,
   "metadata": {},
   "outputs": [
    {
     "data": {
      "text/plain": [
       "True"
      ]
     },
     "execution_count": 4,
     "metadata": {},
     "output_type": "execute_result"
    }
   ],
   "source": [
    "nlp.vocab['myself'].is_stop"
   ]
  },
  {
   "cell_type": "code",
   "execution_count": 5,
   "metadata": {},
   "outputs": [
    {
     "data": {
      "text/plain": [
       "False"
      ]
     },
     "execution_count": 5,
     "metadata": {},
     "output_type": "execute_result"
    }
   ],
   "source": [
    "nlp.vocab['mystery'].is_stop"
   ]
  },
  {
   "cell_type": "markdown",
   "metadata": {},
   "source": [
    "## To add a stop word\n",
    "There may be times when you wish to add a stop word to the default set. Perhaps you decide that `'btw'` (common shorthand for \"by the way\") should be considered a stop word."
   ]
  },
  {
   "cell_type": "code",
   "execution_count": 6,
   "metadata": {},
   "outputs": [],
   "source": [
    "# Add the word to the set of stop words. Use lowercase!\n",
    "nlp.Defaults.stop_words.add('btw')\n",
    "\n",
    "# Set the stop_word tag on the lexeme\n",
    "nlp.vocab['btw'].is_stop = True"
   ]
  },
  {
   "cell_type": "code",
   "execution_count": 7,
   "metadata": {},
   "outputs": [
    {
     "data": {
      "text/plain": [
       "306"
      ]
     },
     "execution_count": 7,
     "metadata": {},
     "output_type": "execute_result"
    }
   ],
   "source": [
    "len(nlp.Defaults.stop_words)"
   ]
  },
  {
   "cell_type": "code",
   "execution_count": 8,
   "metadata": {},
   "outputs": [
    {
     "data": {
      "text/plain": [
       "True"
      ]
     },
     "execution_count": 8,
     "metadata": {},
     "output_type": "execute_result"
    }
   ],
   "source": [
    "nlp.vocab['btw'].is_stop"
   ]
  },
  {
   "cell_type": "markdown",
   "metadata": {},
   "source": [
    "<font color=green>When adding stop words, always use lowercase. Lexemes are converted to lowercase before being added to **vocab**.</font>"
   ]
  },
  {
   "cell_type": "markdown",
   "metadata": {},
   "source": [
    "## To remove a stop word\n",
    "Alternatively, you may decide that `'beyond'` should not be considered a stop word."
   ]
  },
  {
   "cell_type": "code",
   "execution_count": 9,
   "metadata": {},
   "outputs": [],
   "source": [
    "# Remove the word from the set of stop words\n",
    "nlp.Defaults.stop_words.remove('beyond')\n",
    "\n",
    "# Remove the stop_word tag from the lexeme\n",
    "nlp.vocab['beyond'].is_stop = False"
   ]
  },
  {
   "cell_type": "code",
   "execution_count": 10,
   "metadata": {},
   "outputs": [
    {
     "data": {
      "text/plain": [
       "305"
      ]
     },
     "execution_count": 10,
     "metadata": {},
     "output_type": "execute_result"
    }
   ],
   "source": [
    "len(nlp.Defaults.stop_words)"
   ]
  },
  {
   "cell_type": "code",
   "execution_count": 11,
   "metadata": {},
   "outputs": [
    {
     "data": {
      "text/plain": [
       "False"
      ]
     },
     "execution_count": 11,
     "metadata": {},
     "output_type": "execute_result"
    }
   ],
   "source": [
    "nlp.vocab['beyond'].is_stop"
   ]
  },
  {
   "cell_type": "markdown",
   "metadata": {},
   "source": [
    "Great! Now you should be able to access spaCy's default set of stop words, and add or remove stop words as needed.\n",
    "## Next up: Vocabulary and Matching"
   ]
  }
 ],
 "metadata": {
  "kernelspec": {
   "display_name": "Python 3 (ipykernel)",
   "language": "python",
   "name": "python3"
  },
  "language_info": {
   "codemirror_mode": {
    "name": "ipython",
    "version": 3
   },
   "file_extension": ".py",
   "mimetype": "text/x-python",
   "name": "python",
   "nbconvert_exporter": "python",
   "pygments_lexer": "ipython3",
   "version": "3.7.11"
  }
 },
 "nbformat": 4,
 "nbformat_minor": 2
}
