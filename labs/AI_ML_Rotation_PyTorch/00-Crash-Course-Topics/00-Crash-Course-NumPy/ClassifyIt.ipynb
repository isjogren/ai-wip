{
 "cells": [
  {
   "cell_type": "code",
   "execution_count": null,
   "id": "f153d096",
   "metadata": {},
   "outputs": [],
   "source": []
  }
 ],
 "metadata": {
  "kernelspec": {
   "display_name": "Python 3.8.12 64-bit ('claimsai_py38': conda)",
   "language": "python",
   "name": "python381264bitclaimsaipy38conda01fd0b35fefa4ee9ac22fdb4d9eba812"
  },
  "language_info": {
   "codemirror_mode": {
    "name": "ipython",
    "version": 3
   },
   "file_extension": ".py",
   "mimetype": "text/x-python",
   "name": "python",
   "nbconvert_exporter": "python",
   "pygments_lexer": "ipython3",
   "version": "3.8.12"
  }
 },
 "nbformat": 4,
 "nbformat_minor": 5
}
