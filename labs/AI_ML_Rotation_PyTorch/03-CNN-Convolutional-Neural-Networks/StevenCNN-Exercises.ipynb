{
 "cells": [
  {
   "cell_type": "markdown",
   "metadata": {},
   "source": [
    "# CNN Exercises\n",
    "For these exercises we'll work with the <a href='https://www.kaggle.com/zalando-research/fashionmnist'>Fashion-MNIST</a> dataset, also available through <a href='https://pytorch.org/docs/stable/torchvision/index.html'><tt><strong>torchvision</strong></tt></a>. Like MNIST, this dataset consists of a training set of 60,000 examples and a test set of 10,000 examples. Each example is a 28x28 grayscale image, associated with a label from 10 classes:\n",
    "0. T-shirt/top\n",
    "1. Trouser\n",
    "2. Pullover\n",
    "3. Dress\n",
    "4. Coat\n",
    "5. Sandal\n",
    "6. Shirt\n",
    "7. Sneaker\n",
    "8. Bag\n",
    "9. Ankle boot\n",
    "\n",
    "<div class=\"alert alert-danger\" style=\"margin: 10px\"><strong>IMPORTANT NOTE!</strong> Make sure you don't run the cells directly above the example output shown, <br>otherwise you will end up writing over the example output!</div>"
   ]
  },
  {
   "cell_type": "markdown",
   "metadata": {},
   "source": [
    "## Perform standard imports, load the Fashion-MNIST dataset\n",
    "Run the cell below to load the libraries needed for this exercise and the Fashion-MNIST dataset.<br>\n",
    "PyTorch makes the Fashion-MNIST dataset available through <a href='https://pytorch.org/docs/stable/torchvision/datasets.html#fashion-mnist'><tt><strong>torchvision</strong></tt></a>. The first time it's called, the dataset will be downloaded onto your computer to the path specified. From that point, torchvision will always look for a local copy before attempting another download."
   ]
  },
  {
   "cell_type": "code",
   "execution_count": 3,
   "metadata": {},
   "outputs": [],
   "source": [
    "import torch\n",
    "import torch.nn as nn\n",
    "import torch.nn.functional as F\n",
    "from torch.utils.data import DataLoader\n",
    "from torchvision import datasets, transforms\n",
    "from torchvision.utils import make_grid\n",
    "\n",
    "import numpy as np\n",
    "import pandas as pd\n",
    "from sklearn.metrics import confusion_matrix\n",
    "import matplotlib.pyplot as plt\n",
    "%matplotlib inline\n",
    "\n",
    "transform = transforms.ToTensor()\n",
    "\n",
    "train_data = datasets.FashionMNIST(root='../Data', train=True, download=True, transform=transform)\n",
    "test_data = datasets.FashionMNIST(root='../Data', train=False, download=True, transform=transform)\n",
    "\n",
    "class_names = ['T-shirt','Trouser','Sweater','Dress','Coat','Sandal','Shirt','Sneaker','Bag','Boot']"
   ]
  },
  {
   "cell_type": "markdown",
   "metadata": {},
   "source": [
    "## 1. Create data loaders\n",
    "Use DataLoader to create a <tt>train_loader</tt> and a <tt>test_loader</tt>. Batch sizes should be 10 for both."
   ]
  },
  {
   "cell_type": "code",
   "execution_count": 4,
   "metadata": {},
   "outputs": [],
   "source": [
    "train_loader = DataLoader(train_data, batch_size=10, shuffle=True)\n",
    "test_loader = DataLoader(test_data, batch_size=10, shuffle=False)"
   ]
  },
  {
   "cell_type": "code",
   "execution_count": 5,
   "metadata": {},
   "outputs": [
    {
     "data": {
      "text/plain": [
       "Dataset FashionMNIST\n",
       "    Number of datapoints: 60000\n",
       "    Split: train\n",
       "    Root Location: ../Data\n",
       "    Transforms (if any): ToTensor()\n",
       "    Target Transforms (if any): None"
      ]
     },
     "execution_count": 5,
     "metadata": {},
     "output_type": "execute_result"
    }
   ],
   "source": [
    "train_loader\n",
    "train_data"
   ]
  },
  {
   "cell_type": "code",
   "execution_count": 6,
   "metadata": {},
   "outputs": [
    {
     "data": {
      "text/plain": [
       "Dataset FashionMNIST\n",
       "    Number of datapoints: 10000\n",
       "    Split: test\n",
       "    Root Location: ../Data\n",
       "    Transforms (if any): ToTensor()\n",
       "    Target Transforms (if any): None"
      ]
     },
     "execution_count": 6,
     "metadata": {},
     "output_type": "execute_result"
    }
   ],
   "source": [
    "test_loader\n",
    "test_data"
   ]
  },
  {
   "cell_type": "code",
   "execution_count": 7,
   "metadata": {},
   "outputs": [],
   "source": [
    "# DON'T WRITE HERE"
   ]
  },
  {
   "cell_type": "markdown",
   "metadata": {},
   "source": [
    "## 2. Examine a batch of images\n",
    "Use DataLoader, <tt>make_grid</tt> and matplotlib to display the first batch of 10 images.<br>\n",
    "OPTIONAL: display the labels as well"
   ]
  },
  {
   "cell_type": "code",
   "execution_count": 8,
   "metadata": {},
   "outputs": [
    {
     "name": "stdout",
     "output_type": "stream",
     "text": [
      "Labels:  [   7    5    9    2    2    0    0    1    6    4]\n",
      "Class:   Sneaker Sandal Boot Sweater Sweater T-shirt T-shirt Trouser Shirt Coat\n"
     ]
    },
    {
     "data": {
      "image/png": "[encoded data removed]",
      "text/plain": [
       "<Figure size 720x288 with 1 Axes>"
      ]
     },
     "metadata": {
      "needs_background": "light"
     },
     "output_type": "display_data"
    }
   ],
   "source": [
    "from torchvision.utils import make_grid\n",
    "np.set_printoptions(formatter=dict(int=lambda x: f'{x:4}'))\n",
    "\n",
    "# Grab the first batch of images\n",
    "for images,labels in train_loader: \n",
    "    break\n",
    "\n",
    "# Print the first 10 images\n",
    "im = make_grid(images[:10], nrow=10) \n",
    "plt.figure(figsize=(10,4))\n",
    "# We need to transpose the images from CWH to WHC\n",
    "plt.imshow(np.transpose(im.numpy(), (1, 2, 0)));\n",
    "\n",
    "# Print the first 10 labels\n",
    "print('Labels: ', labels[:10].numpy())\n",
    "s = \"\"\n",
    "for label in labels[:10]:\n",
    "    s = s + \" \" + class_names[label.numpy()]\n",
    "print('Class: ', s)\n"
   ]
  },
  {
   "cell_type": "code",
   "execution_count": 9,
   "metadata": {},
   "outputs": [],
   "source": [
    "# DON'T WRITE HERE\n",
    "# IMAGES ONLY"
   ]
  },
  {
   "cell_type": "code",
   "execution_count": 10,
   "metadata": {},
   "outputs": [],
   "source": [
    "# DON'T WRITE HERE\n",
    "# IMAGES AND LABELS"
   ]
  },
  {
   "cell_type": "markdown",
   "metadata": {},
   "source": [
    "## Downsampling\n",
    "<h3>3. If a 28x28 image is passed through a Convolutional layer using a 5x5 filter, a step size of 1, and no padding, what is the resulting matrix size?</h3>"
   ]
  },
  {
   "cell_type": "markdown",
   "metadata": {},
   "source": [
    "<div style='border:1px black solid; padding:5px'>\n",
    "<br><br>\n",
    "</div>"
   ]
  },
  {
   "cell_type": "code",
   "execution_count": 11,
   "metadata": {},
   "outputs": [
    {
     "name": "stdout",
     "output_type": "stream",
     "text": [
      "Orig size: torch.Size([10, 1, 28, 28])\n",
      "Down size: torch.Size([10, 1, 24, 24])\n"
     ]
    }
   ],
   "source": [
    "##################################################\n",
    "###### ONLY RUN THIS TO CHECK YOUR ANSWER! ######\n",
    "################################################\n",
    "\n",
    "# Run the code below to check your answer:\n",
    "conv = nn.Conv2d(1, 1, 5, 1)\n",
    "for x,labels in train_loader:\n",
    "    print('Orig size:',x.shape)\n",
    "    break\n",
    "x = conv(x)\n",
    "print('Down size:',x.shape)"
   ]
  },
  {
   "cell_type": "markdown",
   "metadata": {},
   "source": [
    "### 4. If the sample from question 3 is then passed through a 2x2 MaxPooling layer, what is the resulting matrix size?"
   ]
  },
  {
   "cell_type": "markdown",
   "metadata": {},
   "source": [
    "<div style='border:1px black solid; padding:5px'>\n",
    "<br><br>\n",
    "</div>"
   ]
  },
  {
   "cell_type": "code",
   "execution_count": 12,
   "metadata": {},
   "outputs": [
    {
     "name": "stdout",
     "output_type": "stream",
     "text": [
      "Down size: torch.Size([10, 1, 12, 12])\n"
     ]
    }
   ],
   "source": [
    "##################################################\n",
    "###### ONLY RUN THIS TO CHECK YOUR ANSWER! ######\n",
    "################################################\n",
    "\n",
    "# Run the code below to check your answer:\n",
    "x = F.max_pool2d(x, 2, 2)\n",
    "print('Down size:',x.shape)"
   ]
  },
  {
   "cell_type": "markdown",
   "metadata": {},
   "source": [
    "## CNN definition\n",
    "### 5. Define a convolutional neural network\n",
    "Define a CNN model that can be trained on the Fashion-MNIST dataset. The model should contain two convolutional layers, two pooling layers, and two fully connected layers. You can use any number of neurons per layer so long as the model takes in a 28x28 image and returns an output of 10. Portions of the definition have been filled in for convenience."
   ]
  },
  {
   "cell_type": "code",
   "execution_count": 13,
   "metadata": {},
   "outputs": [],
   "source": [
    "# CODE HERE\n",
    "class ConvolutionalNetwork(nn.Module):\n",
    "    def __init__(self):\n",
    "        super().__init__()\n",
    "        pass\n",
    "\n",
    "    def forward(self, X):\n",
    "        pass \n",
    "        return \n",
    "    \n",
    "torch.manual_seed(101)\n",
    "model = ConvolutionalNetwork()"
   ]
  },
  {
   "cell_type": "code",
   "execution_count": 14,
   "metadata": {},
   "outputs": [],
   "source": [
    "#ANN\n",
    "class MultilayerPerceptron(nn.Module):\n",
    "    def __init__(self, in_sz=784, out_sz=10, layers=[120,84]):\n",
    "        super().__init__()\n",
    "        self.fc1 = nn.Linear(in_sz,layers[0])\n",
    "        self.fc2 = nn.Linear(layers[0],layers[1])\n",
    "        self.fc3 = nn.Linear(layers[1],out_sz)\n",
    "    \n",
    "    def forward(self,X):\n",
    "        X = F.relu(self.fc1(X))\n",
    "        X = F.relu(self.fc2(X))\n",
    "        X = self.fc3(X)\n",
    "        return F.log_softmax(X, dim=1)"
   ]
  },
  {
   "cell_type": "code",
   "execution_count": 15,
   "metadata": {},
   "outputs": [
    {
     "data": {
      "text/plain": [
       "MultilayerPerceptron(\n",
       "  (fc1): Linear(in_features=784, out_features=120, bias=True)\n",
       "  (fc2): Linear(in_features=120, out_features=84, bias=True)\n",
       "  (fc3): Linear(in_features=84, out_features=10, bias=True)\n",
       ")"
      ]
     },
     "execution_count": 15,
     "metadata": {},
     "output_type": "execute_result"
    }
   ],
   "source": [
    "torch.manual_seed(101)\n",
    "model = MultilayerPerceptron()\n",
    "model"
   ]
  },
  {
   "cell_type": "markdown",
   "metadata": {},
   "source": [
    "## Trainable parameters"
   ]
  },
  {
   "cell_type": "markdown",
   "metadata": {},
   "source": [
    "### 6. What is the total number of trainable parameters (weights & biases) in the model above?\n",
    "Answers will vary depending on your model definition."
   ]
  },
  {
   "cell_type": "markdown",
   "metadata": {},
   "source": [
    "<div style='border:1px black solid; padding:5px'>\n",
    "<br><br>\n",
    "</div>"
   ]
  },
  {
   "cell_type": "code",
   "execution_count": 16,
   "metadata": {},
   "outputs": [],
   "source": [
    "def count_parameters(model):\n",
    "    params = [p.numel() for p in model.parameters() if p.requires_grad]\n",
    "    for item in params:\n",
    "        print(f'{item:>6}')\n",
    "    print(f'______\\n{sum(params):>6}')"
   ]
  },
  {
   "cell_type": "code",
   "execution_count": 17,
   "metadata": {},
   "outputs": [
    {
     "name": "stdout",
     "output_type": "stream",
     "text": [
      " 94080\n",
      "   120\n",
      " 10080\n",
      "    84\n",
      "   840\n",
      "    10\n",
      "______\n",
      "105214\n"
     ]
    }
   ],
   "source": [
    "count_parameters(model)"
   ]
  },
  {
   "cell_type": "code",
   "execution_count": 18,
   "metadata": {},
   "outputs": [],
   "source": [
    "# CODE HERE"
   ]
  },
  {
   "cell_type": "markdown",
   "metadata": {},
   "source": [
    "### 7. Define loss function & optimizer\n",
    "Define a loss function called \"criterion\" and an optimizer called \"optimizer\".<br>\n",
    "You can use any functions you want, although we used Cross Entropy Loss and Adam (learning rate of 0.001) respectively."
   ]
  },
  {
   "cell_type": "code",
   "execution_count": 19,
   "metadata": {},
   "outputs": [],
   "source": [
    "criterion = nn.CrossEntropyLoss()\n",
    "optimizer = torch.optim.Adam(model.parameters(), lr=0.001)"
   ]
  },
  {
   "cell_type": "code",
   "execution_count": 20,
   "metadata": {},
   "outputs": [],
   "source": [
    "# DON'T WRITE HERE"
   ]
  },
  {
   "cell_type": "code",
   "execution_count": 21,
   "metadata": {},
   "outputs": [
    {
     "name": "stdout",
     "output_type": "stream",
     "text": [
      "Batch shape: torch.Size([10, 1, 28, 28])\n"
     ]
    }
   ],
   "source": [
    "# Load the first batch, print its shape\n",
    "for images, labels in train_loader:\n",
    "    print('Batch shape:', images.size())\n",
    "    break"
   ]
  },
  {
   "cell_type": "code",
   "execution_count": 22,
   "metadata": {},
   "outputs": [
    {
     "data": {
      "text/plain": [
       "torch.Size([10, 784])"
      ]
     },
     "execution_count": 22,
     "metadata": {},
     "output_type": "execute_result"
    }
   ],
   "source": [
    "images.view(10,-1).size()"
   ]
  },
  {
   "cell_type": "code",
   "execution_count": null,
   "metadata": {},
   "outputs": [],
   "source": []
  },
  {
   "cell_type": "markdown",
   "metadata": {},
   "source": [
    "### 8. Train the model\n",
    "Don't worry about tracking loss values, displaying results, or validating the test set. Just train the model through 5 epochs. We'll evaluate the trained model in the next step.<br>\n",
    "OPTIONAL: print something after each epoch to indicate training progress."
   ]
  },
  {
   "cell_type": "code",
   "execution_count": 23,
   "metadata": {},
   "outputs": [
    {
     "name": "stdout",
     "output_type": "stream",
     "text": [
      "epoch:  0  batch: 1000 [ 10000/60000]  loss: 0.54003364  accuracy:   7.235%\n",
      "epoch:  0  batch: 2000 [ 20000/60000]  loss: 0.24635518  accuracy:   7.737%\n",
      "epoch:  0  batch: 3000 [ 30000/60000]  loss: 0.86251193  accuracy:   7.954%\n",
      "epoch:  0  batch: 4000 [ 40000/60000]  loss: 0.32126194  accuracy:   8.073%\n",
      "epoch:  0  batch: 5000 [ 50000/60000]  loss: 0.24082506  accuracy:   8.148%\n",
      "epoch:  0  batch: 6000 [ 60000/60000]  loss: 0.34826809  accuracy:   8.213%\n",
      " 0 of 15 epochs completed\n",
      "epoch:  1  batch: 1000 [ 10000/60000]  loss: 0.27878314  accuracy:   8.643%\n",
      "epoch:  1  batch: 2000 [ 20000/60000]  loss: 0.18444511  accuracy:   8.603%\n",
      "epoch:  1  batch: 3000 [ 30000/60000]  loss: 0.25811249  accuracy:   8.619%\n",
      "epoch:  1  batch: 4000 [ 40000/60000]  loss: 0.48130912  accuracy:   8.637%\n",
      "epoch:  1  batch: 5000 [ 50000/60000]  loss: 0.10155133  accuracy:   8.640%\n",
      "epoch:  1  batch: 6000 [ 60000/60000]  loss: 0.17266577  accuracy:   8.651%\n",
      " 1 of 15 epochs completed\n",
      "epoch:  2  batch: 1000 [ 10000/60000]  loss: 0.18292828  accuracy:   8.725%\n",
      "epoch:  2  batch: 2000 [ 20000/60000]  loss: 1.12070119  accuracy:   8.765%\n",
      "epoch:  2  batch: 3000 [ 30000/60000]  loss: 0.14978687  accuracy:   8.756%\n",
      "epoch:  2  batch: 4000 [ 40000/60000]  loss: 0.23819578  accuracy:   8.773%\n",
      "epoch:  2  batch: 5000 [ 50000/60000]  loss: 0.07836673  accuracy:   8.774%\n",
      "epoch:  2  batch: 6000 [ 60000/60000]  loss: 0.08873417  accuracy:   8.780%\n",
      " 2 of 15 epochs completed\n",
      "epoch:  3  batch: 1000 [ 10000/60000]  loss: 0.34472308  accuracy:   8.855%\n",
      "epoch:  3  batch: 2000 [ 20000/60000]  loss: 0.87660092  accuracy:   8.851%\n",
      "epoch:  3  batch: 3000 [ 30000/60000]  loss: 0.28324959  accuracy:   8.846%\n",
      "epoch:  3  batch: 4000 [ 40000/60000]  loss: 0.15028800  accuracy:   8.836%\n",
      "epoch:  3  batch: 5000 [ 50000/60000]  loss: 0.31726667  accuracy:   8.843%\n",
      "epoch:  3  batch: 6000 [ 60000/60000]  loss: 0.53741539  accuracy:   8.842%\n",
      " 3 of 15 epochs completed\n",
      "epoch:  4  batch: 1000 [ 10000/60000]  loss: 0.26416534  accuracy:   8.924%\n",
      "epoch:  4  batch: 2000 [ 20000/60000]  loss: 0.12637536  accuracy:   8.916%\n",
      "epoch:  4  batch: 3000 [ 30000/60000]  loss: 0.68204153  accuracy:   8.918%\n",
      "epoch:  4  batch: 4000 [ 40000/60000]  loss: 0.03794850  accuracy:   8.910%\n",
      "epoch:  4  batch: 5000 [ 50000/60000]  loss: 0.37444553  accuracy:   8.913%\n",
      "epoch:  4  batch: 6000 [ 60000/60000]  loss: 0.51129472  accuracy:   8.911%\n",
      " 4 of 15 epochs completed\n",
      "epoch:  5  batch: 1000 [ 10000/60000]  loss: 0.19888642  accuracy:   8.912%\n",
      "epoch:  5  batch: 2000 [ 20000/60000]  loss: 0.07898112  accuracy:   8.941%\n",
      "epoch:  5  batch: 3000 [ 30000/60000]  loss: 0.01942935  accuracy:   8.947%\n",
      "epoch:  5  batch: 4000 [ 40000/60000]  loss: 0.85125351  accuracy:   8.950%\n",
      "epoch:  5  batch: 5000 [ 50000/60000]  loss: 0.39688259  accuracy:   8.940%\n",
      "epoch:  5  batch: 6000 [ 60000/60000]  loss: 0.42072290  accuracy:   8.933%\n",
      " 5 of 15 epochs completed\n",
      "epoch:  6  batch: 1000 [ 10000/60000]  loss: 0.45821142  accuracy:   9.001%\n",
      "epoch:  6  batch: 2000 [ 20000/60000]  loss: 0.25909334  accuracy:   8.996%\n",
      "epoch:  6  batch: 3000 [ 30000/60000]  loss: 0.20704198  accuracy:   8.988%\n",
      "epoch:  6  batch: 4000 [ 40000/60000]  loss: 0.22254284  accuracy:   8.993%\n",
      "epoch:  6  batch: 5000 [ 50000/60000]  loss: 0.09175877  accuracy:   8.991%\n",
      "epoch:  6  batch: 6000 [ 60000/60000]  loss: 0.13886833  accuracy:   8.983%\n",
      " 6 of 15 epochs completed\n",
      "epoch:  7  batch: 1000 [ 10000/60000]  loss: 0.09691332  accuracy:   9.053%\n",
      "epoch:  7  batch: 2000 [ 20000/60000]  loss: 0.03819124  accuracy:   9.038%\n",
      "epoch:  7  batch: 3000 [ 30000/60000]  loss: 0.33468971  accuracy:   9.026%\n",
      "epoch:  7  batch: 4000 [ 40000/60000]  loss: 1.04117012  accuracy:   9.026%\n",
      "epoch:  7  batch: 5000 [ 50000/60000]  loss: 0.42285505  accuracy:   9.025%\n",
      "epoch:  7  batch: 6000 [ 60000/60000]  loss: 0.57964790  accuracy:   9.012%\n",
      " 7 of 15 epochs completed\n",
      "epoch:  8  batch: 1000 [ 10000/60000]  loss: 0.06414311  accuracy:   9.092%\n",
      "epoch:  8  batch: 2000 [ 20000/60000]  loss: 0.08661262  accuracy:   9.055%\n",
      "epoch:  8  batch: 3000 [ 30000/60000]  loss: 0.12567498  accuracy:   9.068%\n",
      "epoch:  8  batch: 4000 [ 40000/60000]  loss: 0.02165763  accuracy:   9.058%\n",
      "epoch:  8  batch: 5000 [ 50000/60000]  loss: 0.25289199  accuracy:   9.054%\n",
      "epoch:  8  batch: 6000 [ 60000/60000]  loss: 0.02248537  accuracy:   9.047%\n",
      " 8 of 15 epochs completed\n",
      "epoch:  9  batch: 1000 [ 10000/60000]  loss: 0.38296825  accuracy:   9.044%\n",
      "epoch:  9  batch: 2000 [ 20000/60000]  loss: 0.43304387  accuracy:   9.053%\n",
      "epoch:  9  batch: 3000 [ 30000/60000]  loss: 0.30456886  accuracy:   9.055%\n",
      "epoch:  9  batch: 4000 [ 40000/60000]  loss: 0.88125545  accuracy:   9.065%\n",
      "epoch:  9  batch: 5000 [ 50000/60000]  loss: 0.30909306  accuracy:   9.066%\n",
      "epoch:  9  batch: 6000 [ 60000/60000]  loss: 0.00580816  accuracy:   9.067%\n",
      " 9 of 15 epochs completed\n",
      "epoch: 10  batch: 1000 [ 10000/60000]  loss: 0.11438131  accuracy:   9.112%\n",
      "epoch: 10  batch: 2000 [ 20000/60000]  loss: 0.00881433  accuracy:   9.120%\n",
      "epoch: 10  batch: 3000 [ 30000/60000]  loss: 0.23161633  accuracy:   9.109%\n",
      "epoch: 10  batch: 4000 [ 40000/60000]  loss: 0.33743998  accuracy:   9.103%\n",
      "epoch: 10  batch: 5000 [ 50000/60000]  loss: 0.05183147  accuracy:   9.095%\n",
      "epoch: 10  batch: 6000 [ 60000/60000]  loss: 0.01671260  accuracy:   9.095%\n",
      "10 of 15 epochs completed\n",
      "epoch: 11  batch: 1000 [ 10000/60000]  loss: 0.01717766  accuracy:   9.136%\n",
      "epoch: 11  batch: 2000 [ 20000/60000]  loss: 0.35162851  accuracy:   9.116%\n",
      "epoch: 11  batch: 3000 [ 30000/60000]  loss: 0.15037718  accuracy:   9.123%\n",
      "epoch: 11  batch: 4000 [ 40000/60000]  loss: 0.10746938  accuracy:   9.117%\n",
      "epoch: 11  batch: 5000 [ 50000/60000]  loss: 0.09624408  accuracy:   9.104%\n",
      "epoch: 11  batch: 6000 [ 60000/60000]  loss: 0.64947999  accuracy:   9.115%\n",
      "11 of 15 epochs completed\n",
      "epoch: 12  batch: 1000 [ 10000/60000]  loss: 0.49327278  accuracy:   9.151%\n",
      "epoch: 12  batch: 2000 [ 20000/60000]  loss: 0.27223748  accuracy:   9.170%\n",
      "epoch: 12  batch: 3000 [ 30000/60000]  loss: 0.11860204  accuracy:   9.148%\n",
      "epoch: 12  batch: 4000 [ 40000/60000]  loss: 0.22784647  accuracy:   9.153%\n",
      "epoch: 12  batch: 5000 [ 50000/60000]  loss: 0.37345931  accuracy:   9.137%\n",
      "epoch: 12  batch: 6000 [ 60000/60000]  loss: 0.19747920  accuracy:   9.141%\n",
      "12 of 15 epochs completed\n",
      "epoch: 13  batch: 1000 [ 10000/60000]  loss: 0.43761483  accuracy:   9.200%\n",
      "epoch: 13  batch: 2000 [ 20000/60000]  loss: 0.03984049  accuracy:   9.169%\n",
      "epoch: 13  batch: 3000 [ 30000/60000]  loss: 0.06170886  accuracy:   9.170%\n",
      "epoch: 13  batch: 4000 [ 40000/60000]  loss: 0.49974909  accuracy:   9.165%\n",
      "epoch: 13  batch: 5000 [ 50000/60000]  loss: 0.04219783  accuracy:   9.160%\n",
      "epoch: 13  batch: 6000 [ 60000/60000]  loss: 0.07986536  accuracy:   9.159%\n",
      "13 of 15 epochs completed\n",
      "epoch: 14  batch: 1000 [ 10000/60000]  loss: 0.50074965  accuracy:   9.173%\n",
      "epoch: 14  batch: 2000 [ 20000/60000]  loss: 1.39106047  accuracy:   9.172%\n",
      "epoch: 14  batch: 3000 [ 30000/60000]  loss: 0.57615042  accuracy:   9.178%\n",
      "epoch: 14  batch: 4000 [ 40000/60000]  loss: 0.05431701  accuracy:   9.182%\n",
      "epoch: 14  batch: 5000 [ 50000/60000]  loss: 0.19608939  accuracy:   9.173%\n",
      "epoch: 14  batch: 6000 [ 60000/60000]  loss: 0.32137528  accuracy:   9.169%\n",
      "14 of 15 epochs completed\n",
      "\n",
      "Duration: 250 seconds\n"
     ]
    }
   ],
   "source": [
    "import time\n",
    "start_time = time.time()\n",
    "\n",
    "epochs = 15\n",
    "train_losses = []\n",
    "test_losses = []\n",
    "train_correct = []\n",
    "test_correct = []\n",
    "\n",
    "for i in range(epochs):\n",
    "    trn_corr = 0\n",
    "    tst_corr = 0\n",
    "    \n",
    "    # Run the training batches\n",
    "    for b, (X_train, y_train) in enumerate(train_loader):\n",
    "        b+=1\n",
    "        \n",
    "        # Apply the model\n",
    "        y_pred = model(X_train.view(10, -1))  # Here we flatten X_train\n",
    "        loss = criterion(y_pred, y_train)\n",
    " \n",
    "        # Tally the number of correct predictions\n",
    "        predicted = torch.max(y_pred.data, 1)[1]\n",
    "        batch_corr = (predicted == y_train).sum()\n",
    "        trn_corr += batch_corr\n",
    "        \n",
    "        # Update parameters\n",
    "        optimizer.zero_grad()\n",
    "        loss.backward()\n",
    "        optimizer.step()\n",
    "        \n",
    "        # Print interim results\n",
    "        if b%1000 == 0:\n",
    "            print(f'epoch: {i:2}  batch: {b:4} [{10*b:6}/60000]  loss: {loss.item():10.8f}  \\\n",
    "accuracy: {trn_corr.item()*10/(10*b):7.3f}%')\n",
    "\n",
    "    print(f\"{i:2} of {epochs:2} epochs completed\")\n",
    "    # Update train loss & accuracy for the epoch\n",
    "    \n",
    "    train_losses.append(loss)\n",
    "    train_correct.append(trn_corr)\n",
    "        \n",
    "    # Run the testing batches\n",
    "    with torch.no_grad():\n",
    "        for b, (X_test, y_test) in enumerate(test_loader):\n",
    "\n",
    "            # Apply the model\n",
    "            y_val = model(X_test.view(10, -1))  # Here we flatten X_test\n",
    "\n",
    "            # Tally the number of correct predictions\n",
    "            predicted = torch.max(y_val.data, 1)[1] \n",
    "            tst_corr += (predicted == y_test).sum()\n",
    "    \n",
    "    # Update test loss & accuracy for the epoch\n",
    "    loss = criterion(y_val, y_test)\n",
    "    test_losses.append(loss)\n",
    "    test_correct.append(tst_corr)\n",
    "        \n",
    "print(f'\\nDuration: {time.time() - start_time:.0f} seconds') # print the time elapsed            "
   ]
  },
  {
   "cell_type": "code",
   "execution_count": null,
   "metadata": {},
   "outputs": [],
   "source": []
  },
  {
   "cell_type": "code",
   "execution_count": null,
   "metadata": {},
   "outputs": [],
   "source": []
  },
  {
   "cell_type": "code",
   "execution_count": null,
   "metadata": {},
   "outputs": [],
   "source": []
  },
  {
   "cell_type": "markdown",
   "metadata": {},
   "source": [
    "### 9. Evaluate the model\n",
    "Set <tt>model.eval()</tt> and determine the percentage correct out of 10,000 total test images."
   ]
  },
  {
   "cell_type": "code",
   "execution_count": null,
   "metadata": {},
   "outputs": [],
   "source": [
    "# CODE HERE\n",
    "\n",
    "\n",
    "\n",
    "\n"
   ]
  },
  {
   "cell_type": "code",
   "execution_count": 16,
   "metadata": {},
   "outputs": [
    {
     "name": "stdout",
     "output_type": "stream",
     "text": [
      "[tensor(8157), tensor(8505), tensor(8640), tensor(8766), tensor(8627)]\n",
      "\n",
      "Test accuracy: 8.627%\n"
     ]
    }
   ],
   "source": [
    "print(test_correct) # contains the results of all 5 epochs\n",
    "print()\n",
    "print(f'Test accuracy: {test_correct[-1].item()*10/10000:.3f}%') # print the most recent result as a percent"
   ]
  },
  {
   "cell_type": "code",
   "execution_count": null,
   "metadata": {},
   "outputs": [],
   "source": []
  },
  {
   "cell_type": "markdown",
   "metadata": {},
   "source": [
    "## Great job!"
   ]
  }
 ],
 "metadata": {
  "kernelspec": {
   "display_name": "Python 3 (ipykernel)",
   "language": "python",
   "name": "python3"
  },
  "language_info": {
   "codemirror_mode": {
    "name": "ipython",
    "version": 3
   },
   "file_extension": ".py",
   "mimetype": "text/x-python",
   "name": "python",
   "nbconvert_exporter": "python",
   "pygments_lexer": "ipython3",
   "version": "3.7.3"
  }
 },
 "nbformat": 4,
 "nbformat_minor": 2
}
