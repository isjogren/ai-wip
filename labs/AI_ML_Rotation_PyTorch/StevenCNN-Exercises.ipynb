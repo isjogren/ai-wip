{
 "cells": [
  {
   "cell_type": "markdown",
   "metadata": {},
   "source": [
    "# CNN Exercises\n",
    "For these exercises we'll work with the <a href='https://www.kaggle.com/zalando-research/fashionmnist'>Fashion-MNIST</a> dataset, also available through <a href='https://pytorch.org/docs/stable/torchvision/index.html'><tt><strong>torchvision</strong></tt></a>. Like MNIST, this dataset consists of a training set of 60,000 examples and a test set of 10,000 examples. Each example is a 28x28 grayscale image, associated with a label from 10 classes:\n",
    "0. T-shirt/top\n",
    "1. Trouser\n",
    "2. Pullover\n",
    "3. Dress\n",
    "4. Coat\n",
    "5. Sandal\n",
    "6. Shirt\n",
    "7. Sneaker\n",
    "8. Bag\n",
    "9. Ankle boot\n",
    "\n",
    "<div class=\"alert alert-danger\" style=\"margin: 10px\"><strong>IMPORTANT NOTE!</strong> Make sure you don't run the cells directly above the example output shown, <br>otherwise you will end up writing over the example output!</div>"
   ]
  },
  {
   "cell_type": "markdown",
   "metadata": {},
   "source": [
    "## Perform standard imports, load the Fashion-MNIST dataset\n",
    "Run the cell below to load the libraries needed for this exercise and the Fashion-MNIST dataset.<br>\n",
    "PyTorch makes the Fashion-MNIST dataset available through <a href='https://pytorch.org/docs/stable/torchvision/datasets.html#fashion-mnist'><tt><strong>torchvision</strong></tt></a>. The first time it's called, the dataset will be downloaded onto your computer to the path specified. From that point, torchvision will always look for a local copy before attempting another download."
   ]
  },
  {
   "cell_type": "code",
   "execution_count": 1,
   "metadata": {},
   "outputs": [
    {
     "name": "stderr",
     "output_type": "stream",
     "text": [
      "/Users/sschoen/.conda/envs/pytorchenv/lib/python3.7/site-packages/sklearn/utils/validation.py:37: DeprecationWarning: distutils Version classes are deprecated. Use packaging.version instead.\n",
      "  LARGE_SPARSE_SUPPORTED = LooseVersion(scipy_version) >= '0.14.0'\n"
     ]
    }
   ],
   "source": [
    "import torch\n",
    "import torch.nn as nn\n",
    "import torch.nn.functional as F\n",
    "from torch.utils.data import DataLoader\n",
    "from torchvision import datasets, transforms\n",
    "from torchvision.utils import make_grid\n",
    "\n",
    "import numpy as np\n",
    "import pandas as pd\n",
    "from sklearn.metrics import confusion_matrix\n",
    "import matplotlib.pyplot as plt\n",
    "%matplotlib inline\n",
    "\n",
    "transform = transforms.ToTensor()\n",
    "\n",
    "train_data = datasets.FashionMNIST(root='../Data', train=True, download=True, transform=transform)\n",
    "test_data = datasets.FashionMNIST(root='../Data', train=False, download=True, transform=transform)\n",
    "\n",
    "class_names = ['T-shirt','Trouser','Sweater','Dress','Coat','Sandal','Shirt','Sneaker','Bag','Boot']"
   ]
  },
  {
   "cell_type": "markdown",
   "metadata": {},
   "source": [
    "## 1. Create data loaders\n",
    "Use DataLoader to create a <tt>train_loader</tt> and a <tt>test_loader</tt>. Batch sizes should be 10 for both."
   ]
  },
  {
   "cell_type": "code",
   "execution_count": 2,
   "metadata": {},
   "outputs": [],
   "source": [
    "train_loader = DataLoader(train_data, batch_size=10, shuffle=True)\n",
    "test_loader = DataLoader(test_data, batch_size=10, shuffle=False)"
   ]
  },
  {
   "cell_type": "code",
   "execution_count": 3,
   "metadata": {},
   "outputs": [
    {
     "data": {
      "text/plain": [
       "Dataset FashionMNIST\n",
       "    Number of datapoints: 60000\n",
       "    Split: train\n",
       "    Root Location: ../Data\n",
       "    Transforms (if any): ToTensor()\n",
       "    Target Transforms (if any): None"
      ]
     },
     "execution_count": 3,
     "metadata": {},
     "output_type": "execute_result"
    }
   ],
   "source": [
    "train_loader\n",
    "train_data"
   ]
  },
  {
   "cell_type": "code",
   "execution_count": 4,
   "metadata": {},
   "outputs": [
    {
     "data": {
      "text/plain": [
       "Dataset FashionMNIST\n",
       "    Number of datapoints: 10000\n",
       "    Split: test\n",
       "    Root Location: ../Data\n",
       "    Transforms (if any): ToTensor()\n",
       "    Target Transforms (if any): None"
      ]
     },
     "execution_count": 4,
     "metadata": {},
     "output_type": "execute_result"
    }
   ],
   "source": [
    "test_loader\n",
    "test_data"
   ]
  },
  {
   "cell_type": "code",
   "execution_count": null,
   "metadata": {},
   "outputs": [],
   "source": [
    "# DON'T WRITE HERE"
   ]
  },
  {
   "cell_type": "markdown",
   "metadata": {},
   "source": [
    "## 2. Examine a batch of images\n",
    "Use DataLoader, <tt>make_grid</tt> and matplotlib to display the first batch of 10 images.<br>\n",
    "OPTIONAL: display the labels as well"
   ]
  },
  {
   "cell_type": "code",
   "execution_count": 5,
   "metadata": {},
   "outputs": [
    {
     "name": "stdout",
     "output_type": "stream",
     "text": [
      "Labels:  [   0    8    0    3    8    7    2    5    2    0]\n",
      "Class:   T-shirt Bag T-shirt Dress Bag Sneaker Sweater Sandal Sweater T-shirt\n"
     ]
    },
    {
     "data": {
      "image/png": "[encoded data removed]",
      "text/plain": [
       "<Figure size 720x288 with 1 Axes>"
      ]
     },
     "metadata": {
      "needs_background": "light"
     },
     "output_type": "display_data"
    }
   ],
   "source": [
    "from torchvision.utils import make_grid\n",
    "np.set_printoptions(formatter=dict(int=lambda x: f'{x:4}'))\n",
    "\n",
    "# Grab the first batch of images\n",
    "for images,labels in train_loader: \n",
    "    break\n",
    "\n",
    "# Print the first 10 images\n",
    "im = make_grid(images[:10], nrow=10) \n",
    "plt.figure(figsize=(10,4))\n",
    "# We need to transpose the images from CWH to WHC\n",
    "plt.imshow(np.transpose(im.numpy(), (1, 2, 0)));\n",
    "\n",
    "# Print the first 10 labels\n",
    "print('Labels: ', labels[:10].numpy())\n",
    "s = \"\"\n",
    "for label in labels[:10]:\n",
    "    s = s + \" \" + class_names[label.numpy()]\n",
    "print('Class: ', s)\n"
   ]
  },
  {
   "cell_type": "code",
   "execution_count": null,
   "metadata": {},
   "outputs": [],
   "source": [
    "# DON'T WRITE HERE\n",
    "# IMAGES ONLY"
   ]
  },
  {
   "cell_type": "code",
   "execution_count": null,
   "metadata": {},
   "outputs": [],
   "source": [
    "# DON'T WRITE HERE\n",
    "# IMAGES AND LABELS"
   ]
  },
  {
   "cell_type": "markdown",
   "metadata": {},
   "source": [
    "## Downsampling\n",
    "<h3>3. If a 28x28 image is passed through a Convolutional layer using a 5x5 filter, a step size of 1, and no padding, what is the resulting matrix size?</h3>"
   ]
  },
  {
   "cell_type": "markdown",
   "metadata": {},
   "source": [
    "<div style='border:1px black solid; padding:5px'>\n",
    "<br><br>\n",
    "</div>"
   ]
  },
  {
   "cell_type": "code",
   "execution_count": null,
   "metadata": {},
   "outputs": [],
   "source": [
    "##################################################\n",
    "###### ONLY RUN THIS TO CHECK YOUR ANSWER! ######\n",
    "################################################\n",
    "\n",
    "# Run the code below to check your answer:\n",
    "conv = nn.Conv2d(1, 1, 5, 1)\n",
    "for x,labels in train_loader:\n",
    "    print('Orig size:',x.shape)\n",
    "    break\n",
    "x = conv(x)\n",
    "print('Down size:',x.shape)"
   ]
  },
  {
   "cell_type": "markdown",
   "metadata": {},
   "source": [
    "### 4. If the sample from question 3 is then passed through a 2x2 MaxPooling layer, what is the resulting matrix size?"
   ]
  },
  {
   "cell_type": "markdown",
   "metadata": {},
   "source": [
    "<div style='border:1px black solid; padding:5px'>\n",
    "<br><br>\n",
    "</div>"
   ]
  },
  {
   "cell_type": "code",
   "execution_count": null,
   "metadata": {},
   "outputs": [],
   "source": [
    "##################################################\n",
    "###### ONLY RUN THIS TO CHECK YOUR ANSWER! ######\n",
    "################################################\n",
    "\n",
    "# Run the code below to check your answer:\n",
    "x = F.max_pool2d(x, 2, 2)\n",
    "print('Down size:',x.shape)"
   ]
  },
  {
   "cell_type": "markdown",
   "metadata": {},
   "source": [
    "## CNN definition\n",
    "### 5. Define a convolutional neural network\n",
    "Define a CNN model that can be trained on the Fashion-MNIST dataset. The model should contain two convolutional layers, two pooling layers, and two fully connected layers. You can use any number of neurons per layer so long as the model takes in a 28x28 image and returns an output of 10. Portions of the definition have been filled in for convenience."
   ]
  },
  {
   "cell_type": "code",
   "execution_count": null,
   "metadata": {},
   "outputs": [],
   "source": [
    "# CODE HERE\n",
    "class ConvolutionalNetwork(nn.Module):\n",
    "    def __init__(self):\n",
    "        super().__init__()\n",
    "        pass\n",
    "\n",
    "    def forward(self, X):\n",
    "        pass \n",
    "        return \n",
    "    \n",
    "torch.manual_seed(101)\n",
    "model = ConvolutionalNetwork()"
   ]
  },
  {
   "cell_type": "code",
   "execution_count": 6,
   "metadata": {},
   "outputs": [],
   "source": [
    "#ANN\n",
    "class MultilayerPerceptron(nn.Module):\n",
    "    def __init__(self, in_sz=784, out_sz=10, layers=[120,84]):\n",
    "        super().__init__()\n",
    "        self.fc1 = nn.Linear(in_sz,layers[0])\n",
    "        self.fc2 = nn.Linear(layers[0],layers[1])\n",
    "        self.fc3 = nn.Linear(layers[1],out_sz)\n",
    "    \n",
    "    def forward(self,X):\n",
    "        X = F.relu(self.fc1(X))\n",
    "        X = F.relu(self.fc2(X))\n",
    "        X = self.fc3(X)\n",
    "        return F.log_softmax(X, dim=1)"
   ]
  },
  {
   "cell_type": "code",
   "execution_count": 7,
   "metadata": {},
   "outputs": [
    {
     "data": {
      "text/plain": [
       "MultilayerPerceptron(\n",
       "  (fc1): Linear(in_features=784, out_features=120, bias=True)\n",
       "  (fc2): Linear(in_features=120, out_features=84, bias=True)\n",
       "  (fc3): Linear(in_features=84, out_features=10, bias=True)\n",
       ")"
      ]
     },
     "execution_count": 7,
     "metadata": {},
     "output_type": "execute_result"
    }
   ],
   "source": [
    "torch.manual_seed(101)\n",
    "model = MultilayerPerceptron()\n",
    "model"
   ]
  },
  {
   "cell_type": "markdown",
   "metadata": {},
   "source": [
    "## Trainable parameters"
   ]
  },
  {
   "cell_type": "markdown",
   "metadata": {},
   "source": [
    "### 6. What is the total number of trainable parameters (weights & biases) in the model above?\n",
    "Answers will vary depending on your model definition."
   ]
  },
  {
   "cell_type": "markdown",
   "metadata": {},
   "source": [
    "<div style='border:1px black solid; padding:5px'>\n",
    "<br><br>\n",
    "</div>"
   ]
  },
  {
   "cell_type": "code",
   "execution_count": 8,
   "metadata": {},
   "outputs": [],
   "source": [
    "def count_parameters(model):\n",
    "    params = [p.numel() for p in model.parameters() if p.requires_grad]\n",
    "    for item in params:\n",
    "        print(f'{item:>6}')\n",
    "    print(f'______\\n{sum(params):>6}')"
   ]
  },
  {
   "cell_type": "code",
   "execution_count": 9,
   "metadata": {},
   "outputs": [
    {
     "name": "stdout",
     "output_type": "stream",
     "text": [
      " 94080\n",
      "   120\n",
      " 10080\n",
      "    84\n",
      "   840\n",
      "    10\n",
      "______\n",
      "105214\n"
     ]
    }
   ],
   "source": [
    "count_parameters(model)"
   ]
  },
  {
   "cell_type": "code",
   "execution_count": null,
   "metadata": {},
   "outputs": [],
   "source": [
    "# CODE HERE"
   ]
  },
  {
   "cell_type": "markdown",
   "metadata": {},
   "source": [
    "### 7. Define loss function & optimizer\n",
    "Define a loss function called \"criterion\" and an optimizer called \"optimizer\".<br>\n",
    "You can use any functions you want, although we used Cross Entropy Loss and Adam (learning rate of 0.001) respectively."
   ]
  },
  {
   "cell_type": "code",
   "execution_count": 10,
   "metadata": {},
   "outputs": [],
   "source": [
    "criterion = nn.CrossEntropyLoss()\n",
    "optimizer = torch.optim.Adam(model.parameters(), lr=0.001)"
   ]
  },
  {
   "cell_type": "code",
   "execution_count": null,
   "metadata": {},
   "outputs": [],
   "source": [
    "# DON'T WRITE HERE"
   ]
  },
  {
   "cell_type": "code",
   "execution_count": 11,
   "metadata": {},
   "outputs": [
    {
     "name": "stdout",
     "output_type": "stream",
     "text": [
      "Batch shape: torch.Size([10, 1, 28, 28])\n"
     ]
    }
   ],
   "source": [
    "# Load the first batch, print its shape\n",
    "for images, labels in train_loader:\n",
    "    print('Batch shape:', images.size())\n",
    "    break"
   ]
  },
  {
   "cell_type": "code",
   "execution_count": 12,
   "metadata": {},
   "outputs": [
    {
     "data": {
      "text/plain": [
       "torch.Size([10, 784])"
      ]
     },
     "execution_count": 12,
     "metadata": {},
     "output_type": "execute_result"
    }
   ],
   "source": [
    "images.view(10,-1).size()"
   ]
  },
  {
   "cell_type": "code",
   "execution_count": null,
   "metadata": {},
   "outputs": [],
   "source": []
  },
  {
   "cell_type": "markdown",
   "metadata": {},
   "source": [
    "### 8. Train the model\n",
    "Don't worry about tracking loss values, displaying results, or validating the test set. Just train the model through 5 epochs. We'll evaluate the trained model in the next step.<br>\n",
    "OPTIONAL: print something after each epoch to indicate training progress."
   ]
  },
  {
   "cell_type": "code",
   "execution_count": 13,
   "metadata": {},
   "outputs": [
    {
     "name": "stdout",
     "output_type": "stream",
     "text": [
      "epoch:  0  batch:  200 [  2000/60000]  loss: 1.04767740  accuracy:   5.815%\n",
      "epoch:  0  batch:  400 [  4000/60000]  loss: 1.06330240  accuracy:   6.665%\n",
      "epoch:  0  batch:  600 [  6000/60000]  loss: 0.96007001  accuracy:   7.003%\n",
      "epoch:  0  batch:  800 [  8000/60000]  loss: 0.61146700  accuracy:   7.234%\n",
      "epoch:  0  batch: 1000 [ 10000/60000]  loss: 0.58113408  accuracy:   7.341%\n",
      "epoch:  0  batch: 1200 [ 12000/60000]  loss: 0.81224668  accuracy:   7.466%\n",
      "epoch:  0  batch: 1400 [ 14000/60000]  loss: 0.62057287  accuracy:   7.581%\n",
      "epoch:  0  batch: 1600 [ 16000/60000]  loss: 0.35336220  accuracy:   7.656%\n",
      "epoch:  0  batch: 1800 [ 18000/60000]  loss: 0.36065903  accuracy:   7.733%\n",
      "epoch:  0  batch: 2000 [ 20000/60000]  loss: 0.33764386  accuracy:   7.793%\n",
      "epoch:  0  batch: 2200 [ 22000/60000]  loss: 0.42147088  accuracy:   7.837%\n",
      "epoch:  0  batch: 2400 [ 24000/60000]  loss: 0.37662899  accuracy:   7.881%\n",
      "epoch:  0  batch: 2600 [ 26000/60000]  loss: 0.48119664  accuracy:   7.901%\n",
      "epoch:  0  batch: 2800 [ 28000/60000]  loss: 1.01233196  accuracy:   7.935%\n",
      "epoch:  0  batch: 3000 [ 30000/60000]  loss: 0.65824813  accuracy:   7.964%\n",
      "epoch:  0  batch: 3200 [ 32000/60000]  loss: 0.58663201  accuracy:   7.990%\n",
      "epoch:  0  batch: 3400 [ 34000/60000]  loss: 0.25524765  accuracy:   8.020%\n",
      "epoch:  0  batch: 3600 [ 36000/60000]  loss: 0.82568491  accuracy:   8.046%\n",
      "epoch:  0  batch: 3800 [ 38000/60000]  loss: 0.37203044  accuracy:   8.066%\n",
      "epoch:  0  batch: 4000 [ 40000/60000]  loss: 0.64321285  accuracy:   8.080%\n",
      "epoch:  0  batch: 4200 [ 42000/60000]  loss: 0.70297730  accuracy:   8.093%\n",
      "epoch:  0  batch: 4400 [ 44000/60000]  loss: 0.41755018  accuracy:   8.115%\n",
      "epoch:  0  batch: 4600 [ 46000/60000]  loss: 0.09766512  accuracy:   8.130%\n",
      "epoch:  0  batch: 4800 [ 48000/60000]  loss: 0.09715097  accuracy:   8.146%\n",
      "epoch:  0  batch: 5000 [ 50000/60000]  loss: 0.76525271  accuracy:   8.163%\n",
      "epoch:  0  batch: 5200 [ 52000/60000]  loss: 0.29661638  accuracy:   8.178%\n",
      "epoch:  0  batch: 5400 [ 54000/60000]  loss: 0.88884830  accuracy:   8.187%\n",
      "epoch:  0  batch: 5600 [ 56000/60000]  loss: 0.59073627  accuracy:   8.199%\n",
      "epoch:  0  batch: 5800 [ 58000/60000]  loss: 0.20927259  accuracy:   8.209%\n",
      "epoch:  0  batch: 6000 [ 60000/60000]  loss: 0.09036511  accuracy:   8.222%\n",
      " 0 of  5 epochs completed\n",
      "epoch:  1  batch:  200 [  2000/60000]  loss: 0.09211004  accuracy:   8.630%\n",
      "epoch:  1  batch:  400 [  4000/60000]  loss: 0.13075256  accuracy:   8.623%\n",
      "epoch:  1  batch:  600 [  6000/60000]  loss: 0.26932234  accuracy:   8.613%\n",
      "epoch:  1  batch:  800 [  8000/60000]  loss: 0.31586468  accuracy:   8.627%\n",
      "epoch:  1  batch: 1000 [ 10000/60000]  loss: 0.38663751  accuracy:   8.618%\n",
      "epoch:  1  batch: 1200 [ 12000/60000]  loss: 0.53670484  accuracy:   8.632%\n",
      "epoch:  1  batch: 1400 [ 14000/60000]  loss: 0.66583908  accuracy:   8.612%\n",
      "epoch:  1  batch: 1600 [ 16000/60000]  loss: 0.29120058  accuracy:   8.614%\n",
      "epoch:  1  batch: 1800 [ 18000/60000]  loss: 0.46740398  accuracy:   8.608%\n",
      "epoch:  1  batch: 2000 [ 20000/60000]  loss: 0.56465614  accuracy:   8.618%\n",
      "epoch:  1  batch: 2200 [ 22000/60000]  loss: 0.22633004  accuracy:   8.620%\n",
      "epoch:  1  batch: 2400 [ 24000/60000]  loss: 0.91917199  accuracy:   8.620%\n",
      "epoch:  1  batch: 2600 [ 26000/60000]  loss: 0.46039501  accuracy:   8.622%\n",
      "epoch:  1  batch: 2800 [ 28000/60000]  loss: 0.42720509  accuracy:   8.632%\n",
      "epoch:  1  batch: 3000 [ 30000/60000]  loss: 0.19770037  accuracy:   8.630%\n",
      "epoch:  1  batch: 3200 [ 32000/60000]  loss: 0.04808810  accuracy:   8.637%\n",
      "epoch:  1  batch: 3400 [ 34000/60000]  loss: 0.34470299  accuracy:   8.640%\n",
      "epoch:  1  batch: 3600 [ 36000/60000]  loss: 1.03743947  accuracy:   8.641%\n",
      "epoch:  1  batch: 3800 [ 38000/60000]  loss: 0.10858363  accuracy:   8.641%\n",
      "epoch:  1  batch: 4000 [ 40000/60000]  loss: 0.19450541  accuracy:   8.645%\n",
      "epoch:  1  batch: 4200 [ 42000/60000]  loss: 0.51020992  accuracy:   8.647%\n",
      "epoch:  1  batch: 4400 [ 44000/60000]  loss: 0.27721363  accuracy:   8.652%\n",
      "epoch:  1  batch: 4600 [ 46000/60000]  loss: 0.09155698  accuracy:   8.650%\n",
      "epoch:  1  batch: 4800 [ 48000/60000]  loss: 0.20441766  accuracy:   8.652%\n",
      "epoch:  1  batch: 5000 [ 50000/60000]  loss: 0.10469959  accuracy:   8.654%\n",
      "epoch:  1  batch: 5200 [ 52000/60000]  loss: 0.21160249  accuracy:   8.662%\n",
      "epoch:  1  batch: 5400 [ 54000/60000]  loss: 0.67608118  accuracy:   8.661%\n",
      "epoch:  1  batch: 5600 [ 56000/60000]  loss: 0.19323231  accuracy:   8.658%\n",
      "epoch:  1  batch: 5800 [ 58000/60000]  loss: 0.28849179  accuracy:   8.653%\n",
      "epoch:  1  batch: 6000 [ 60000/60000]  loss: 0.30582845  accuracy:   8.653%\n",
      " 1 of  5 epochs completed\n",
      "epoch:  2  batch:  200 [  2000/60000]  loss: 0.22422266  accuracy:   8.800%\n",
      "epoch:  2  batch:  400 [  4000/60000]  loss: 0.80502862  accuracy:   8.688%\n",
      "epoch:  2  batch:  600 [  6000/60000]  loss: 0.30431768  accuracy:   8.713%\n",
      "epoch:  2  batch:  800 [  8000/60000]  loss: 0.33428955  accuracy:   8.707%\n",
      "epoch:  2  batch: 1000 [ 10000/60000]  loss: 1.27510941  accuracy:   8.739%\n",
      "epoch:  2  batch: 1200 [ 12000/60000]  loss: 0.47557205  accuracy:   8.729%\n",
      "epoch:  2  batch: 1400 [ 14000/60000]  loss: 0.51290661  accuracy:   8.721%\n",
      "epoch:  2  batch: 1600 [ 16000/60000]  loss: 0.26001939  accuracy:   8.711%\n",
      "epoch:  2  batch: 1800 [ 18000/60000]  loss: 0.46315518  accuracy:   8.716%\n",
      "epoch:  2  batch: 2000 [ 20000/60000]  loss: 0.21229501  accuracy:   8.724%\n",
      "epoch:  2  batch: 2200 [ 22000/60000]  loss: 0.57871795  accuracy:   8.720%\n",
      "epoch:  2  batch: 2400 [ 24000/60000]  loss: 0.11731055  accuracy:   8.733%\n",
      "epoch:  2  batch: 2600 [ 26000/60000]  loss: 0.10173841  accuracy:   8.737%\n",
      "epoch:  2  batch: 2800 [ 28000/60000]  loss: 0.15201576  accuracy:   8.740%\n",
      "epoch:  2  batch: 3000 [ 30000/60000]  loss: 0.82994223  accuracy:   8.746%\n",
      "epoch:  2  batch: 3200 [ 32000/60000]  loss: 0.25849336  accuracy:   8.749%\n",
      "epoch:  2  batch: 3400 [ 34000/60000]  loss: 0.35361832  accuracy:   8.743%\n",
      "epoch:  2  batch: 3600 [ 36000/60000]  loss: 0.08278114  accuracy:   8.744%\n",
      "epoch:  2  batch: 3800 [ 38000/60000]  loss: 0.09746700  accuracy:   8.748%\n",
      "epoch:  2  batch: 4000 [ 40000/60000]  loss: 0.48478207  accuracy:   8.752%\n",
      "epoch:  2  batch: 4200 [ 42000/60000]  loss: 0.10066335  accuracy:   8.758%\n",
      "epoch:  2  batch: 4400 [ 44000/60000]  loss: 0.05084682  accuracy:   8.757%\n",
      "epoch:  2  batch: 4600 [ 46000/60000]  loss: 0.29956239  accuracy:   8.759%\n",
      "epoch:  2  batch: 4800 [ 48000/60000]  loss: 0.07042307  accuracy:   8.763%\n",
      "epoch:  2  batch: 5000 [ 50000/60000]  loss: 0.08859492  accuracy:   8.765%\n",
      "epoch:  2  batch: 5200 [ 52000/60000]  loss: 0.02281610  accuracy:   8.763%\n",
      "epoch:  2  batch: 5400 [ 54000/60000]  loss: 0.18827261  accuracy:   8.764%\n",
      "epoch:  2  batch: 5600 [ 56000/60000]  loss: 0.83391654  accuracy:   8.764%\n",
      "epoch:  2  batch: 5800 [ 58000/60000]  loss: 0.19856274  accuracy:   8.765%\n",
      "epoch:  2  batch: 6000 [ 60000/60000]  loss: 0.19423550  accuracy:   8.768%\n",
      " 2 of  5 epochs completed\n",
      "epoch:  3  batch:  200 [  2000/60000]  loss: 0.28574774  accuracy:   8.920%\n",
      "epoch:  3  batch:  400 [  4000/60000]  loss: 0.30311650  accuracy:   8.875%\n",
      "epoch:  3  batch:  600 [  6000/60000]  loss: 0.18747810  accuracy:   8.918%\n",
      "epoch:  3  batch:  800 [  8000/60000]  loss: 0.56394392  accuracy:   8.855%\n",
      "epoch:  3  batch: 1000 [ 10000/60000]  loss: 0.09074147  accuracy:   8.849%\n",
      "epoch:  3  batch: 1200 [ 12000/60000]  loss: 0.44081068  accuracy:   8.847%\n",
      "epoch:  3  batch: 1400 [ 14000/60000]  loss: 0.65125734  accuracy:   8.839%\n",
      "epoch:  3  batch: 1600 [ 16000/60000]  loss: 0.36188486  accuracy:   8.839%\n",
      "epoch:  3  batch: 1800 [ 18000/60000]  loss: 0.30884346  accuracy:   8.856%\n",
      "epoch:  3  batch: 2000 [ 20000/60000]  loss: 0.20799974  accuracy:   8.848%\n",
      "epoch:  3  batch: 2200 [ 22000/60000]  loss: 0.08515239  accuracy:   8.850%\n",
      "epoch:  3  batch: 2400 [ 24000/60000]  loss: 0.10407759  accuracy:   8.855%\n",
      "epoch:  3  batch: 2600 [ 26000/60000]  loss: 0.54590803  accuracy:   8.853%\n",
      "epoch:  3  batch: 2800 [ 28000/60000]  loss: 0.00649927  accuracy:   8.855%\n",
      "epoch:  3  batch: 3000 [ 30000/60000]  loss: 0.46248537  accuracy:   8.853%\n",
      "epoch:  3  batch: 3200 [ 32000/60000]  loss: 0.22684768  accuracy:   8.852%\n",
      "epoch:  3  batch: 3400 [ 34000/60000]  loss: 0.59574729  accuracy:   8.854%\n"
     ]
    },
    {
     "name": "stdout",
     "output_type": "stream",
     "text": [
      "epoch:  3  batch: 3600 [ 36000/60000]  loss: 0.19762787  accuracy:   8.855%\n",
      "epoch:  3  batch: 3800 [ 38000/60000]  loss: 0.04970515  accuracy:   8.852%\n",
      "epoch:  3  batch: 4000 [ 40000/60000]  loss: 0.26623613  accuracy:   8.851%\n",
      "epoch:  3  batch: 4200 [ 42000/60000]  loss: 0.50658274  accuracy:   8.852%\n",
      "epoch:  3  batch: 4400 [ 44000/60000]  loss: 0.08573924  accuracy:   8.854%\n",
      "epoch:  3  batch: 4600 [ 46000/60000]  loss: 0.26767951  accuracy:   8.848%\n",
      "epoch:  3  batch: 4800 [ 48000/60000]  loss: 0.46702567  accuracy:   8.848%\n",
      "epoch:  3  batch: 5000 [ 50000/60000]  loss: 0.48256677  accuracy:   8.848%\n",
      "epoch:  3  batch: 5200 [ 52000/60000]  loss: 0.54611045  accuracy:   8.847%\n",
      "epoch:  3  batch: 5400 [ 54000/60000]  loss: 0.40678796  accuracy:   8.838%\n",
      "epoch:  3  batch: 5600 [ 56000/60000]  loss: 0.34125376  accuracy:   8.838%\n",
      "epoch:  3  batch: 5800 [ 58000/60000]  loss: 0.12204103  accuracy:   8.840%\n",
      "epoch:  3  batch: 6000 [ 60000/60000]  loss: 0.13320914  accuracy:   8.841%\n",
      " 3 of  5 epochs completed\n",
      "epoch:  4  batch:  200 [  2000/60000]  loss: 0.51941180  accuracy:   8.975%\n",
      "epoch:  4  batch:  400 [  4000/60000]  loss: 0.10922394  accuracy:   8.988%\n",
      "epoch:  4  batch:  600 [  6000/60000]  loss: 0.21690588  accuracy:   8.960%\n",
      "epoch:  4  batch:  800 [  8000/60000]  loss: 0.37301022  accuracy:   8.940%\n",
      "epoch:  4  batch: 1000 [ 10000/60000]  loss: 0.59755456  accuracy:   8.939%\n",
      "epoch:  4  batch: 1200 [ 12000/60000]  loss: 0.06976413  accuracy:   8.922%\n",
      "epoch:  4  batch: 1400 [ 14000/60000]  loss: 0.04423757  accuracy:   8.931%\n",
      "epoch:  4  batch: 1600 [ 16000/60000]  loss: 0.13975795  accuracy:   8.924%\n",
      "epoch:  4  batch: 1800 [ 18000/60000]  loss: 0.23622198  accuracy:   8.931%\n",
      "epoch:  4  batch: 2000 [ 20000/60000]  loss: 0.03924950  accuracy:   8.932%\n",
      "epoch:  4  batch: 2200 [ 22000/60000]  loss: 0.58751118  accuracy:   8.929%\n",
      "epoch:  4  batch: 2400 [ 24000/60000]  loss: 0.14737606  accuracy:   8.932%\n",
      "epoch:  4  batch: 2600 [ 26000/60000]  loss: 0.39840761  accuracy:   8.927%\n",
      "epoch:  4  batch: 2800 [ 28000/60000]  loss: 0.25738934  accuracy:   8.929%\n",
      "epoch:  4  batch: 3000 [ 30000/60000]  loss: 0.50299358  accuracy:   8.927%\n",
      "epoch:  4  batch: 3200 [ 32000/60000]  loss: 0.08854763  accuracy:   8.926%\n",
      "epoch:  4  batch: 3400 [ 34000/60000]  loss: 0.38612598  accuracy:   8.922%\n",
      "epoch:  4  batch: 3600 [ 36000/60000]  loss: 0.46789914  accuracy:   8.922%\n",
      "epoch:  4  batch: 3800 [ 38000/60000]  loss: 0.29972225  accuracy:   8.923%\n",
      "epoch:  4  batch: 4000 [ 40000/60000]  loss: 0.51569939  accuracy:   8.912%\n",
      "epoch:  4  batch: 4200 [ 42000/60000]  loss: 0.02837365  accuracy:   8.911%\n",
      "epoch:  4  batch: 4400 [ 44000/60000]  loss: 0.08690239  accuracy:   8.905%\n",
      "epoch:  4  batch: 4600 [ 46000/60000]  loss: 0.28924900  accuracy:   8.906%\n",
      "epoch:  4  batch: 4800 [ 48000/60000]  loss: 0.00747109  accuracy:   8.906%\n",
      "epoch:  4  batch: 5000 [ 50000/60000]  loss: 0.44242257  accuracy:   8.905%\n",
      "epoch:  4  batch: 5200 [ 52000/60000]  loss: 0.37823567  accuracy:   8.906%\n",
      "epoch:  4  batch: 5400 [ 54000/60000]  loss: 0.42947736  accuracy:   8.901%\n",
      "epoch:  4  batch: 5600 [ 56000/60000]  loss: 0.02949519  accuracy:   8.901%\n",
      "epoch:  4  batch: 5800 [ 58000/60000]  loss: 0.07219382  accuracy:   8.902%\n",
      "epoch:  4  batch: 6000 [ 60000/60000]  loss: 0.25342354  accuracy:   8.905%\n",
      " 4 of  5 epochs completed\n",
      "\n",
      "Duration: 147 seconds\n"
     ]
    }
   ],
   "source": [
    "import time\n",
    "start_time = time.time()\n",
    "\n",
    "epochs = 5\n",
    "train_losses = []\n",
    "test_losses = []\n",
    "train_correct = []\n",
    "test_correct = []\n",
    "\n",
    "for i in range(epochs):\n",
    "    trn_corr = 0\n",
    "    tst_corr = 0\n",
    "    \n",
    "    # Run the training batches\n",
    "    for b, (X_train, y_train) in enumerate(train_loader):\n",
    "        b+=1\n",
    "        \n",
    "        # Apply the model\n",
    "        y_pred = model(X_train.view(10, -1))  # Here we flatten X_train\n",
    "        loss = criterion(y_pred, y_train)\n",
    " \n",
    "        # Tally the number of correct predictions\n",
    "        predicted = torch.max(y_pred.data, 1)[1]\n",
    "        batch_corr = (predicted == y_train).sum()\n",
    "        trn_corr += batch_corr\n",
    "        \n",
    "        # Update parameters\n",
    "        optimizer.zero_grad()\n",
    "        loss.backward()\n",
    "        optimizer.step()\n",
    "        \n",
    "        # Print interim results\n",
    "        if b%1000 == 0:\n",
    "            print(f'epoch: {i:2}  batch: {b:4} [{10*b:6}/60000]  loss: {loss.item():10.8f}  \\\n",
    "accuracy: {trn_corr.item()*10/(10*b):7.3f}%')\n",
    "\n",
    "    print(f\"{i:2} of {epochs:2} epochs completed\")\n",
    "    # Update train loss & accuracy for the epoch\n",
    "    \n",
    "    train_losses.append(loss)\n",
    "    train_correct.append(trn_corr)\n",
    "        \n",
    "    # Run the testing batches\n",
    "    with torch.no_grad():\n",
    "        for b, (X_test, y_test) in enumerate(test_loader):\n",
    "\n",
    "            # Apply the model\n",
    "            y_val = model(X_test.view(10, -1))  # Here we flatten X_test\n",
    "\n",
    "            # Tally the number of correct predictions\n",
    "            predicted = torch.max(y_val.data, 1)[1] \n",
    "            tst_corr += (predicted == y_test).sum()\n",
    "    \n",
    "    # Update test loss & accuracy for the epoch\n",
    "    loss = criterion(y_val, y_test)\n",
    "    test_losses.append(loss)\n",
    "    test_correct.append(tst_corr)\n",
    "        \n",
    "print(f'\\nDuration: {time.time() - start_time:.0f} seconds') # print the time elapsed            "
   ]
  },
  {
   "cell_type": "code",
   "execution_count": null,
   "metadata": {},
   "outputs": [],
   "source": []
  },
  {
   "cell_type": "code",
   "execution_count": null,
   "metadata": {},
   "outputs": [],
   "source": []
  },
  {
   "cell_type": "code",
   "execution_count": null,
   "metadata": {},
   "outputs": [],
   "source": []
  },
  {
   "cell_type": "markdown",
   "metadata": {},
   "source": [
    "### 9. Evaluate the model\n",
    "Set <tt>model.eval()</tt> and determine the percentage correct out of 10,000 total test images."
   ]
  },
  {
   "cell_type": "code",
   "execution_count": null,
   "metadata": {},
   "outputs": [],
   "source": [
    "# CODE HERE\n",
    "\n",
    "\n",
    "\n",
    "\n"
   ]
  },
  {
   "cell_type": "code",
   "execution_count": 16,
   "metadata": {},
   "outputs": [
    {
     "name": "stdout",
     "output_type": "stream",
     "text": [
      "[tensor(8157), tensor(8505), tensor(8640), tensor(8766), tensor(8627)]\n",
      "\n",
      "Test accuracy: 8.627%\n"
     ]
    }
   ],
   "source": [
    "print(test_correct) # contains the results of all 5 epochs\n",
    "print()\n",
    "print(f'Test accuracy: {test_correct[-1].item()*10/10000:.3f}%') # print the most recent result as a percent"
   ]
  },
  {
   "cell_type": "code",
   "execution_count": null,
   "metadata": {},
   "outputs": [],
   "source": []
  },
  {
   "cell_type": "markdown",
   "metadata": {},
   "source": [
    "## Great job!"
   ]
  }
 ],
 "metadata": {
  "kernelspec": {
   "display_name": "Python 3 (ipykernel)",
   "language": "python",
   "name": "python3"
  },
  "language_info": {
   "codemirror_mode": {
    "name": "ipython",
    "version": 3
   },
   "file_extension": ".py",
   "mimetype": "text/x-python",
   "name": "python",
   "nbconvert_exporter": "python",
   "pygments_lexer": "ipython3",
   "version": "3.7.3"
  }
 },
 "nbformat": 4,
 "nbformat_minor": 2
}
