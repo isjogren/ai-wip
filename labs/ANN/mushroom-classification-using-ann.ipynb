{
 "cells": [
  {
   "cell_type": "code",
   "execution_count": 1,
   "id": "b4d08ea7",
   "metadata": {
    "execution": {
     "iopub.execute_input": "2022-07-10T13:01:29.982559Z",
     "iopub.status.busy": "2022-07-10T13:01:29.981714Z",
     "iopub.status.idle": "2022-07-10T13:01:35.208185Z",
     "shell.execute_reply": "2022-07-10T13:01:35.207064Z"
    },
    "papermill": {
     "duration": 5.244351,
     "end_time": "2022-07-10T13:01:35.211409",
     "exception": false,
     "start_time": "2022-07-10T13:01:29.967058",
     "status": "completed"
    },
    "tags": []
   },
   "outputs": [],
   "source": [
    "import numpy as np \n",
    "import pandas as pd \n",
    "import tensorflow as tf\n",
    "from tensorflow import keras\n",
    "from sklearn.model_selection import train_test_split\n",
    "from scipy.stats import reciprocal\n",
    "from sklearn.model_selection import RandomizedSearchCV\n",
    "import os\n",
    "\n",
    "os.environ[\"TF_CPP_MIN_LOG_LEVEL\"] = \"2\""
   ]
  },
  {
   "cell_type": "code",
   "execution_count": 2,
   "id": "80036e9c",
   "metadata": {
    "execution": {
     "iopub.execute_input": "2022-07-10T13:01:35.237988Z",
     "iopub.status.busy": "2022-07-10T13:01:35.237400Z",
     "iopub.status.idle": "2022-07-10T13:01:35.272827Z",
     "shell.execute_reply": "2022-07-10T13:01:35.271863Z"
    },
    "papermill": {
     "duration": 0.050743,
     "end_time": "2022-07-10T13:01:35.275213",
     "exception": false,
     "start_time": "2022-07-10T13:01:35.224470",
     "status": "completed"
    },
    "tags": []
   },
   "outputs": [],
   "source": [
    "df = pd.read_csv('/kaggle/input/mushroom-classification/mushrooms.csv')"
   ]
  },
  {
   "cell_type": "code",
   "execution_count": 3,
   "id": "73bc33a8",
   "metadata": {
    "execution": {
     "iopub.execute_input": "2022-07-10T13:01:35.301081Z",
     "iopub.status.busy": "2022-07-10T13:01:35.299582Z",
     "iopub.status.idle": "2022-07-10T13:01:35.334657Z",
     "shell.execute_reply": "2022-07-10T13:01:35.333694Z"
    },
    "papermill": {
     "duration": 0.050528,
     "end_time": "2022-07-10T13:01:35.337268",
     "exception": false,
     "start_time": "2022-07-10T13:01:35.286740",
     "status": "completed"
    },
    "tags": []
   },
   "outputs": [
    {
     "data": {
      "text/html": [
       "<div>\n",
       "<style scoped>\n",
       "    .dataframe tbody tr th:only-of-type {\n",
       "        vertical-align: middle;\n",
       "    }\n",
       "\n",
       "    .dataframe tbody tr th {\n",
       "        vertical-align: top;\n",
       "    }\n",
       "\n",
       "    .dataframe thead th {\n",
       "        text-align: right;\n",
       "    }\n",
       "</style>\n",
       "<table border=\"1\" class=\"dataframe\">\n",
       "  <thead>\n",
       "    <tr style=\"text-align: right;\">\n",
       "      <th></th>\n",
       "      <th>class</th>\n",
       "      <th>cap-shape</th>\n",
       "      <th>cap-surface</th>\n",
       "      <th>cap-color</th>\n",
       "      <th>bruises</th>\n",
       "      <th>odor</th>\n",
       "      <th>gill-attachment</th>\n",
       "      <th>gill-spacing</th>\n",
       "      <th>gill-size</th>\n",
       "      <th>gill-color</th>\n",
       "      <th>...</th>\n",
       "      <th>stalk-surface-below-ring</th>\n",
       "      <th>stalk-color-above-ring</th>\n",
       "      <th>stalk-color-below-ring</th>\n",
       "      <th>veil-type</th>\n",
       "      <th>veil-color</th>\n",
       "      <th>ring-number</th>\n",
       "      <th>ring-type</th>\n",
       "      <th>spore-print-color</th>\n",
       "      <th>population</th>\n",
       "      <th>habitat</th>\n",
       "    </tr>\n",
       "  </thead>\n",
       "  <tbody>\n",
       "    <tr>\n",
       "      <th>0</th>\n",
       "      <td>p</td>\n",
       "      <td>x</td>\n",
       "      <td>s</td>\n",
       "      <td>n</td>\n",
       "      <td>t</td>\n",
       "      <td>p</td>\n",
       "      <td>f</td>\n",
       "      <td>c</td>\n",
       "      <td>n</td>\n",
       "      <td>k</td>\n",
       "      <td>...</td>\n",
       "      <td>s</td>\n",
       "      <td>w</td>\n",
       "      <td>w</td>\n",
       "      <td>p</td>\n",
       "      <td>w</td>\n",
       "      <td>o</td>\n",
       "      <td>p</td>\n",
       "      <td>k</td>\n",
       "      <td>s</td>\n",
       "      <td>u</td>\n",
       "    </tr>\n",
       "    <tr>\n",
       "      <th>1</th>\n",
       "      <td>e</td>\n",
       "      <td>x</td>\n",
       "      <td>s</td>\n",
       "      <td>y</td>\n",
       "      <td>t</td>\n",
       "      <td>a</td>\n",
       "      <td>f</td>\n",
       "      <td>c</td>\n",
       "      <td>b</td>\n",
       "      <td>k</td>\n",
       "      <td>...</td>\n",
       "      <td>s</td>\n",
       "      <td>w</td>\n",
       "      <td>w</td>\n",
       "      <td>p</td>\n",
       "      <td>w</td>\n",
       "      <td>o</td>\n",
       "      <td>p</td>\n",
       "      <td>n</td>\n",
       "      <td>n</td>\n",
       "      <td>g</td>\n",
       "    </tr>\n",
       "    <tr>\n",
       "      <th>2</th>\n",
       "      <td>e</td>\n",
       "      <td>b</td>\n",
       "      <td>s</td>\n",
       "      <td>w</td>\n",
       "      <td>t</td>\n",
       "      <td>l</td>\n",
       "      <td>f</td>\n",
       "      <td>c</td>\n",
       "      <td>b</td>\n",
       "      <td>n</td>\n",
       "      <td>...</td>\n",
       "      <td>s</td>\n",
       "      <td>w</td>\n",
       "      <td>w</td>\n",
       "      <td>p</td>\n",
       "      <td>w</td>\n",
       "      <td>o</td>\n",
       "      <td>p</td>\n",
       "      <td>n</td>\n",
       "      <td>n</td>\n",
       "      <td>m</td>\n",
       "    </tr>\n",
       "    <tr>\n",
       "      <th>3</th>\n",
       "      <td>p</td>\n",
       "      <td>x</td>\n",
       "      <td>y</td>\n",
       "      <td>w</td>\n",
       "      <td>t</td>\n",
       "      <td>p</td>\n",
       "      <td>f</td>\n",
       "      <td>c</td>\n",
       "      <td>n</td>\n",
       "      <td>n</td>\n",
       "      <td>...</td>\n",
       "      <td>s</td>\n",
       "      <td>w</td>\n",
       "      <td>w</td>\n",
       "      <td>p</td>\n",
       "      <td>w</td>\n",
       "      <td>o</td>\n",
       "      <td>p</td>\n",
       "      <td>k</td>\n",
       "      <td>s</td>\n",
       "      <td>u</td>\n",
       "    </tr>\n",
       "    <tr>\n",
       "      <th>4</th>\n",
       "      <td>e</td>\n",
       "      <td>x</td>\n",
       "      <td>s</td>\n",
       "      <td>g</td>\n",
       "      <td>f</td>\n",
       "      <td>n</td>\n",
       "      <td>f</td>\n",
       "      <td>w</td>\n",
       "      <td>b</td>\n",
       "      <td>k</td>\n",
       "      <td>...</td>\n",
       "      <td>s</td>\n",
       "      <td>w</td>\n",
       "      <td>w</td>\n",
       "      <td>p</td>\n",
       "      <td>w</td>\n",
       "      <td>o</td>\n",
       "      <td>e</td>\n",
       "      <td>n</td>\n",
       "      <td>a</td>\n",
       "      <td>g</td>\n",
       "    </tr>\n",
       "    <tr>\n",
       "      <th>...</th>\n",
       "      <td>...</td>\n",
       "      <td>...</td>\n",
       "      <td>...</td>\n",
       "      <td>...</td>\n",
       "      <td>...</td>\n",
       "      <td>...</td>\n",
       "      <td>...</td>\n",
       "      <td>...</td>\n",
       "      <td>...</td>\n",
       "      <td>...</td>\n",
       "      <td>...</td>\n",
       "      <td>...</td>\n",
       "      <td>...</td>\n",
       "      <td>...</td>\n",
       "      <td>...</td>\n",
       "      <td>...</td>\n",
       "      <td>...</td>\n",
       "      <td>...</td>\n",
       "      <td>...</td>\n",
       "      <td>...</td>\n",
       "      <td>...</td>\n",
       "    </tr>\n",
       "    <tr>\n",
       "      <th>8119</th>\n",
       "      <td>e</td>\n",
       "      <td>k</td>\n",
       "      <td>s</td>\n",
       "      <td>n</td>\n",
       "      <td>f</td>\n",
       "      <td>n</td>\n",
       "      <td>a</td>\n",
       "      <td>c</td>\n",
       "      <td>b</td>\n",
       "      <td>y</td>\n",
       "      <td>...</td>\n",
       "      <td>s</td>\n",
       "      <td>o</td>\n",
       "      <td>o</td>\n",
       "      <td>p</td>\n",
       "      <td>o</td>\n",
       "      <td>o</td>\n",
       "      <td>p</td>\n",
       "      <td>b</td>\n",
       "      <td>c</td>\n",
       "      <td>l</td>\n",
       "    </tr>\n",
       "    <tr>\n",
       "      <th>8120</th>\n",
       "      <td>e</td>\n",
       "      <td>x</td>\n",
       "      <td>s</td>\n",
       "      <td>n</td>\n",
       "      <td>f</td>\n",
       "      <td>n</td>\n",
       "      <td>a</td>\n",
       "      <td>c</td>\n",
       "      <td>b</td>\n",
       "      <td>y</td>\n",
       "      <td>...</td>\n",
       "      <td>s</td>\n",
       "      <td>o</td>\n",
       "      <td>o</td>\n",
       "      <td>p</td>\n",
       "      <td>n</td>\n",
       "      <td>o</td>\n",
       "      <td>p</td>\n",
       "      <td>b</td>\n",
       "      <td>v</td>\n",
       "      <td>l</td>\n",
       "    </tr>\n",
       "    <tr>\n",
       "      <th>8121</th>\n",
       "      <td>e</td>\n",
       "      <td>f</td>\n",
       "      <td>s</td>\n",
       "      <td>n</td>\n",
       "      <td>f</td>\n",
       "      <td>n</td>\n",
       "      <td>a</td>\n",
       "      <td>c</td>\n",
       "      <td>b</td>\n",
       "      <td>n</td>\n",
       "      <td>...</td>\n",
       "      <td>s</td>\n",
       "      <td>o</td>\n",
       "      <td>o</td>\n",
       "      <td>p</td>\n",
       "      <td>o</td>\n",
       "      <td>o</td>\n",
       "      <td>p</td>\n",
       "      <td>b</td>\n",
       "      <td>c</td>\n",
       "      <td>l</td>\n",
       "    </tr>\n",
       "    <tr>\n",
       "      <th>8122</th>\n",
       "      <td>p</td>\n",
       "      <td>k</td>\n",
       "      <td>y</td>\n",
       "      <td>n</td>\n",
       "      <td>f</td>\n",
       "      <td>y</td>\n",
       "      <td>f</td>\n",
       "      <td>c</td>\n",
       "      <td>n</td>\n",
       "      <td>b</td>\n",
       "      <td>...</td>\n",
       "      <td>k</td>\n",
       "      <td>w</td>\n",
       "      <td>w</td>\n",
       "      <td>p</td>\n",
       "      <td>w</td>\n",
       "      <td>o</td>\n",
       "      <td>e</td>\n",
       "      <td>w</td>\n",
       "      <td>v</td>\n",
       "      <td>l</td>\n",
       "    </tr>\n",
       "    <tr>\n",
       "      <th>8123</th>\n",
       "      <td>e</td>\n",
       "      <td>x</td>\n",
       "      <td>s</td>\n",
       "      <td>n</td>\n",
       "      <td>f</td>\n",
       "      <td>n</td>\n",
       "      <td>a</td>\n",
       "      <td>c</td>\n",
       "      <td>b</td>\n",
       "      <td>y</td>\n",
       "      <td>...</td>\n",
       "      <td>s</td>\n",
       "      <td>o</td>\n",
       "      <td>o</td>\n",
       "      <td>p</td>\n",
       "      <td>o</td>\n",
       "      <td>o</td>\n",
       "      <td>p</td>\n",
       "      <td>o</td>\n",
       "      <td>c</td>\n",
       "      <td>l</td>\n",
       "    </tr>\n",
       "  </tbody>\n",
       "</table>\n",
       "<p>8124 rows × 23 columns</p>\n",
       "</div>"
      ],
      "text/plain": [
       "     class cap-shape cap-surface cap-color bruises odor gill-attachment  \\\n",
       "0        p         x           s         n       t    p               f   \n",
       "1        e         x           s         y       t    a               f   \n",
       "2        e         b           s         w       t    l               f   \n",
       "3        p         x           y         w       t    p               f   \n",
       "4        e         x           s         g       f    n               f   \n",
       "...    ...       ...         ...       ...     ...  ...             ...   \n",
       "8119     e         k           s         n       f    n               a   \n",
       "8120     e         x           s         n       f    n               a   \n",
       "8121     e         f           s         n       f    n               a   \n",
       "8122     p         k           y         n       f    y               f   \n",
       "8123     e         x           s         n       f    n               a   \n",
       "\n",
       "     gill-spacing gill-size gill-color  ... stalk-surface-below-ring  \\\n",
       "0               c         n          k  ...                        s   \n",
       "1               c         b          k  ...                        s   \n",
       "2               c         b          n  ...                        s   \n",
       "3               c         n          n  ...                        s   \n",
       "4               w         b          k  ...                        s   \n",
       "...           ...       ...        ...  ...                      ...   \n",
       "8119            c         b          y  ...                        s   \n",
       "8120            c         b          y  ...                        s   \n",
       "8121            c         b          n  ...                        s   \n",
       "8122            c         n          b  ...                        k   \n",
       "8123            c         b          y  ...                        s   \n",
       "\n",
       "     stalk-color-above-ring stalk-color-below-ring veil-type veil-color  \\\n",
       "0                         w                      w         p          w   \n",
       "1                         w                      w         p          w   \n",
       "2                         w                      w         p          w   \n",
       "3                         w                      w         p          w   \n",
       "4                         w                      w         p          w   \n",
       "...                     ...                    ...       ...        ...   \n",
       "8119                      o                      o         p          o   \n",
       "8120                      o                      o         p          n   \n",
       "8121                      o                      o         p          o   \n",
       "8122                      w                      w         p          w   \n",
       "8123                      o                      o         p          o   \n",
       "\n",
       "     ring-number ring-type spore-print-color population habitat  \n",
       "0              o         p                 k          s       u  \n",
       "1              o         p                 n          n       g  \n",
       "2              o         p                 n          n       m  \n",
       "3              o         p                 k          s       u  \n",
       "4              o         e                 n          a       g  \n",
       "...          ...       ...               ...        ...     ...  \n",
       "8119           o         p                 b          c       l  \n",
       "8120           o         p                 b          v       l  \n",
       "8121           o         p                 b          c       l  \n",
       "8122           o         e                 w          v       l  \n",
       "8123           o         p                 o          c       l  \n",
       "\n",
       "[8124 rows x 23 columns]"
      ]
     },
     "execution_count": 3,
     "metadata": {},
     "output_type": "execute_result"
    }
   ],
   "source": [
    "df"
   ]
  },
  {
   "cell_type": "markdown",
   "id": "3b750ef1",
   "metadata": {
    "papermill": {
     "duration": 0.011655,
     "end_time": "2022-07-10T13:01:35.360607",
     "exception": false,
     "start_time": "2022-07-10T13:01:35.348952",
     "status": "completed"
    },
    "tags": []
   },
   "source": [
    "okay it seems that all the data are objects there is no numerical data ,let's check that"
   ]
  },
  {
   "cell_type": "code",
   "execution_count": 4,
   "id": "db45d06f",
   "metadata": {
    "execution": {
     "iopub.execute_input": "2022-07-10T13:01:35.386674Z",
     "iopub.status.busy": "2022-07-10T13:01:35.386018Z",
     "iopub.status.idle": "2022-07-10T13:01:35.425686Z",
     "shell.execute_reply": "2022-07-10T13:01:35.424436Z"
    },
    "papermill": {
     "duration": 0.057885,
     "end_time": "2022-07-10T13:01:35.430366",
     "exception": false,
     "start_time": "2022-07-10T13:01:35.372481",
     "status": "completed"
    },
    "tags": []
   },
   "outputs": [
    {
     "name": "stdout",
     "output_type": "stream",
     "text": [
      "<class 'pandas.core.frame.DataFrame'>\n",
      "RangeIndex: 8124 entries, 0 to 8123\n",
      "Data columns (total 23 columns):\n",
      " #   Column                    Non-Null Count  Dtype \n",
      "---  ------                    --------------  ----- \n",
      " 0   class                     8124 non-null   object\n",
      " 1   cap-shape                 8124 non-null   object\n",
      " 2   cap-surface               8124 non-null   object\n",
      " 3   cap-color                 8124 non-null   object\n",
      " 4   bruises                   8124 non-null   object\n",
      " 5   odor                      8124 non-null   object\n",
      " 6   gill-attachment           8124 non-null   object\n",
      " 7   gill-spacing              8124 non-null   object\n",
      " 8   gill-size                 8124 non-null   object\n",
      " 9   gill-color                8124 non-null   object\n",
      " 10  stalk-shape               8124 non-null   object\n",
      " 11  stalk-root                8124 non-null   object\n",
      " 12  stalk-surface-above-ring  8124 non-null   object\n",
      " 13  stalk-surface-below-ring  8124 non-null   object\n",
      " 14  stalk-color-above-ring    8124 non-null   object\n",
      " 15  stalk-color-below-ring    8124 non-null   object\n",
      " 16  veil-type                 8124 non-null   object\n",
      " 17  veil-color                8124 non-null   object\n",
      " 18  ring-number               8124 non-null   object\n",
      " 19  ring-type                 8124 non-null   object\n",
      " 20  spore-print-color         8124 non-null   object\n",
      " 21  population                8124 non-null   object\n",
      " 22  habitat                   8124 non-null   object\n",
      "dtypes: object(23)\n",
      "memory usage: 1.4+ MB\n"
     ]
    }
   ],
   "source": [
    "df.info()"
   ]
  },
  {
   "cell_type": "code",
   "execution_count": 5,
   "id": "90b3aeb3",
   "metadata": {
    "execution": {
     "iopub.execute_input": "2022-07-10T13:01:35.456269Z",
     "iopub.status.busy": "2022-07-10T13:01:35.455482Z",
     "iopub.status.idle": "2022-07-10T13:01:35.480706Z",
     "shell.execute_reply": "2022-07-10T13:01:35.479589Z"
    },
    "papermill": {
     "duration": 0.040468,
     "end_time": "2022-07-10T13:01:35.482980",
     "exception": false,
     "start_time": "2022-07-10T13:01:35.442512",
     "status": "completed"
    },
    "tags": []
   },
   "outputs": [
    {
     "data": {
      "text/plain": [
       "class                       0\n",
       "cap-shape                   0\n",
       "cap-surface                 0\n",
       "cap-color                   0\n",
       "bruises                     0\n",
       "odor                        0\n",
       "gill-attachment             0\n",
       "gill-spacing                0\n",
       "gill-size                   0\n",
       "gill-color                  0\n",
       "stalk-shape                 0\n",
       "stalk-root                  0\n",
       "stalk-surface-above-ring    0\n",
       "stalk-surface-below-ring    0\n",
       "stalk-color-above-ring      0\n",
       "stalk-color-below-ring      0\n",
       "veil-type                   0\n",
       "veil-color                  0\n",
       "ring-number                 0\n",
       "ring-type                   0\n",
       "spore-print-color           0\n",
       "population                  0\n",
       "habitat                     0\n",
       "dtype: int64"
      ]
     },
     "execution_count": 5,
     "metadata": {},
     "output_type": "execute_result"
    }
   ],
   "source": [
    "df.isna().sum()"
   ]
  },
  {
   "cell_type": "code",
   "execution_count": 6,
   "id": "ca178a49",
   "metadata": {
    "execution": {
     "iopub.execute_input": "2022-07-10T13:01:35.509076Z",
     "iopub.status.busy": "2022-07-10T13:01:35.507740Z",
     "iopub.status.idle": "2022-07-10T13:01:35.533101Z",
     "shell.execute_reply": "2022-07-10T13:01:35.532073Z"
    },
    "papermill": {
     "duration": 0.040538,
     "end_time": "2022-07-10T13:01:35.535142",
     "exception": false,
     "start_time": "2022-07-10T13:01:35.494604",
     "status": "completed"
    },
    "tags": []
   },
   "outputs": [
    {
     "data": {
      "text/plain": [
       "(8124, 23)"
      ]
     },
     "execution_count": 6,
     "metadata": {},
     "output_type": "execute_result"
    }
   ],
   "source": [
    "df.drop_duplicates(inplace=True)\n",
    "df.shape"
   ]
  },
  {
   "cell_type": "markdown",
   "id": "418ace9b",
   "metadata": {
    "papermill": {
     "duration": 0.01202,
     "end_time": "2022-07-10T13:01:35.558918",
     "exception": false,
     "start_time": "2022-07-10T13:01:35.546898",
     "status": "completed"
    },
    "tags": []
   },
   "source": [
    "No missing data or duplicated row , what a bad day !"
   ]
  },
  {
   "cell_type": "markdown",
   "id": "cb50a5d2",
   "metadata": {
    "papermill": {
     "duration": 0.011669,
     "end_time": "2022-07-10T13:01:35.582786",
     "exception": false,
     "start_time": "2022-07-10T13:01:35.571117",
     "status": "completed"
    },
    "tags": []
   },
   "source": [
    "i am here to apply my ANN skills so i will skip the EDA if you want https://www.kaggle.com/code/mahmoudftolba/a-detailed-regression-eda-for-beginners#6-|--Feature-Engineering that is my notebook explaining EDA"
   ]
  },
  {
   "cell_type": "code",
   "execution_count": 7,
   "id": "3ea7a2e7",
   "metadata": {
    "execution": {
     "iopub.execute_input": "2022-07-10T13:01:35.608826Z",
     "iopub.status.busy": "2022-07-10T13:01:35.607874Z",
     "iopub.status.idle": "2022-07-10T13:01:35.615369Z",
     "shell.execute_reply": "2022-07-10T13:01:35.614468Z"
    },
    "papermill": {
     "duration": 0.022687,
     "end_time": "2022-07-10T13:01:35.617407",
     "exception": false,
     "start_time": "2022-07-10T13:01:35.594720",
     "status": "completed"
    },
    "tags": []
   },
   "outputs": [],
   "source": [
    "y = df.pop('class')\n",
    "y = y.map( {'e': 1, 'p': 0} ).astype(int)"
   ]
  },
  {
   "cell_type": "code",
   "execution_count": 8,
   "id": "cb041ca4",
   "metadata": {
    "execution": {
     "iopub.execute_input": "2022-07-10T13:01:35.642905Z",
     "iopub.status.busy": "2022-07-10T13:01:35.642541Z",
     "iopub.status.idle": "2022-07-10T13:01:35.691507Z",
     "shell.execute_reply": "2022-07-10T13:01:35.690650Z"
    },
    "papermill": {
     "duration": 0.063955,
     "end_time": "2022-07-10T13:01:35.693630",
     "exception": false,
     "start_time": "2022-07-10T13:01:35.629675",
     "status": "completed"
    },
    "tags": []
   },
   "outputs": [],
   "source": [
    "cat_col = df.select_dtypes(include = 'object').columns\n",
    "df = pd.get_dummies(df , cat_col ,drop_first=True)\n",
    "X_train, X_test, y_train, y_test = train_test_split( df , y \n",
    "                                                    , test_size=0.2 , random_state=True)"
   ]
  },
  {
   "cell_type": "code",
   "execution_count": 9,
   "id": "391550a4",
   "metadata": {
    "execution": {
     "iopub.execute_input": "2022-07-10T13:01:35.719867Z",
     "iopub.status.busy": "2022-07-10T13:01:35.719557Z",
     "iopub.status.idle": "2022-07-10T13:01:35.725354Z",
     "shell.execute_reply": "2022-07-10T13:01:35.724394Z"
    },
    "papermill": {
     "duration": 0.021197,
     "end_time": "2022-07-10T13:01:35.727284",
     "exception": false,
     "start_time": "2022-07-10T13:01:35.706087",
     "status": "completed"
    },
    "tags": []
   },
   "outputs": [
    {
     "data": {
      "text/plain": [
       "(6499, 95)"
      ]
     },
     "execution_count": 9,
     "metadata": {},
     "output_type": "execute_result"
    }
   ],
   "source": [
    "X_train.shape"
   ]
  },
  {
   "cell_type": "code",
   "execution_count": 10,
   "id": "c18f89a1",
   "metadata": {
    "execution": {
     "iopub.execute_input": "2022-07-10T13:01:35.752355Z",
     "iopub.status.busy": "2022-07-10T13:01:35.751845Z",
     "iopub.status.idle": "2022-07-10T13:01:35.759506Z",
     "shell.execute_reply": "2022-07-10T13:01:35.758719Z"
    },
    "papermill": {
     "duration": 0.02229,
     "end_time": "2022-07-10T13:01:35.761345",
     "exception": false,
     "start_time": "2022-07-10T13:01:35.739055",
     "status": "completed"
    },
    "tags": []
   },
   "outputs": [
    {
     "data": {
      "text/plain": [
       "array([1, 0])"
      ]
     },
     "execution_count": 10,
     "metadata": {},
     "output_type": "execute_result"
    }
   ],
   "source": [
    "y_train.unique()"
   ]
  },
  {
   "cell_type": "markdown",
   "id": "860459b6",
   "metadata": {
    "papermill": {
     "duration": 0.011843,
     "end_time": "2022-07-10T13:01:35.785528",
     "exception": false,
     "start_time": "2022-07-10T13:01:35.773685",
     "status": "completed"
    },
    "tags": []
   },
   "source": [
    "# Classifier Using the Sequential API"
   ]
  },
  {
   "cell_type": "code",
   "execution_count": 11,
   "id": "69ee4803",
   "metadata": {
    "execution": {
     "iopub.execute_input": "2022-07-10T13:01:35.811841Z",
     "iopub.status.busy": "2022-07-10T13:01:35.810330Z",
     "iopub.status.idle": "2022-07-10T13:01:39.497198Z",
     "shell.execute_reply": "2022-07-10T13:01:39.496131Z"
    },
    "papermill": {
     "duration": 3.702766,
     "end_time": "2022-07-10T13:01:39.500178",
     "exception": false,
     "start_time": "2022-07-10T13:01:35.797412",
     "status": "completed"
    },
    "tags": []
   },
   "outputs": [],
   "source": [
    "model_Seq = keras.models.Sequential([\n",
    "    keras.layers.InputLayer(input_shape=[95]),\n",
    "    keras.layers.Dense(300, activation=\"relu\"),\n",
    "    keras.layers.Dense(100, activation=\"relu\"),\n",
    "    keras.layers.Dense(1 , activation = 'sigmoid')\n",
    "])"
   ]
  },
  {
   "cell_type": "code",
   "execution_count": 12,
   "id": "3172ed5a",
   "metadata": {
    "execution": {
     "iopub.execute_input": "2022-07-10T13:01:39.528165Z",
     "iopub.status.busy": "2022-07-10T13:01:39.527464Z",
     "iopub.status.idle": "2022-07-10T13:01:39.540822Z",
     "shell.execute_reply": "2022-07-10T13:01:39.539960Z"
    },
    "papermill": {
     "duration": 0.029533,
     "end_time": "2022-07-10T13:01:39.543042",
     "exception": false,
     "start_time": "2022-07-10T13:01:39.513509",
     "status": "completed"
    },
    "tags": []
   },
   "outputs": [],
   "source": [
    "optimizer = keras.optimizers.SGD(learning_rate=0.001)\n",
    "model_Seq.compile(loss = 'binary_crossentropy' , optimizer = optimizer,metrics=[\"accuracy\"])\n",
    "checkpoint_cb = keras.callbacks.ModelCheckpoint('model_Seq.h5' , save_best_only=True)"
   ]
  },
  {
   "cell_type": "code",
   "execution_count": 13,
   "id": "ea149a6f",
   "metadata": {
    "execution": {
     "iopub.execute_input": "2022-07-10T13:01:39.569784Z",
     "iopub.status.busy": "2022-07-10T13:01:39.569149Z",
     "iopub.status.idle": "2022-07-10T13:03:02.196000Z",
     "shell.execute_reply": "2022-07-10T13:03:02.195038Z"
    },
    "papermill": {
     "duration": 82.642543,
     "end_time": "2022-07-10T13:03:02.197986",
     "exception": false,
     "start_time": "2022-07-10T13:01:39.555443",
     "status": "completed"
    },
    "tags": []
   },
   "outputs": [
    {
     "data": {
      "text/plain": [
       "<AxesSubplot:>"
      ]
     },
     "execution_count": 13,
     "metadata": {},
     "output_type": "execute_result"
    },
    {
     "data": {
      "image/png": "[encoded data removed]",
      "text/plain": [
       "<Figure size 432x288 with 1 Axes>"
      ]
     },
     "metadata": {
      "needs_background": "light"
     },
     "output_type": "display_data"
    }
   ],
   "source": [
    "history = model_Seq.fit(X_train, y_train, epochs=100 ,validation_split=0.1 ,verbose= 0 ,callbacks=[checkpoint_cb])\n",
    "pd.DataFrame(history.history).plot()"
   ]
  },
  {
   "cell_type": "markdown",
   "id": "7b447630",
   "metadata": {
    "papermill": {
     "duration": 0.012297,
     "end_time": "2022-07-10T13:03:02.223477",
     "exception": false,
     "start_time": "2022-07-10T13:03:02.211180",
     "status": "completed"
    },
    "tags": []
   },
   "source": [
    "i am not satisfied with that loss we get so we could do hyperparamter tunning , i will gives you some hints about priority of tuning ANN"
   ]
  },
  {
   "cell_type": "code",
   "execution_count": 14,
   "id": "91d0dabd",
   "metadata": {
    "execution": {
     "iopub.execute_input": "2022-07-10T13:03:02.250755Z",
     "iopub.status.busy": "2022-07-10T13:03:02.250131Z",
     "iopub.status.idle": "2022-07-10T13:03:02.399197Z",
     "shell.execute_reply": "2022-07-10T13:03:02.398130Z"
    },
    "papermill": {
     "duration": 0.165238,
     "end_time": "2022-07-10T13:03:02.401269",
     "exception": false,
     "start_time": "2022-07-10T13:03:02.236031",
     "status": "completed"
    },
    "tags": []
   },
   "outputs": [
    {
     "name": "stdout",
     "output_type": "stream",
     "text": [
      "51/51 [==============================] - 0s 2ms/step - loss: 0.0375 - accuracy: 0.9920\n"
     ]
    },
    {
     "data": {
      "text/plain": [
       "[0.037460215389728546, 0.9919999837875366]"
      ]
     },
     "execution_count": 14,
     "metadata": {},
     "output_type": "execute_result"
    }
   ],
   "source": [
    "model_Seq.evaluate(X_test , y_test)"
   ]
  },
  {
   "cell_type": "markdown",
   "id": "8fd08ac2",
   "metadata": {
    "papermill": {
     "duration": 0.012414,
     "end_time": "2022-07-10T13:03:02.426994",
     "exception": false,
     "start_time": "2022-07-10T13:03:02.414580",
     "status": "completed"
    },
    "tags": []
   },
   "source": [
    "what i have use is called Sequential  model it's simple and easy to use and extremely common , but let's try more complex one called Functional model"
   ]
  },
  {
   "cell_type": "markdown",
   "id": "9f15b827",
   "metadata": {
    "papermill": {
     "duration": 0.012752,
     "end_time": "2022-07-10T13:03:02.453351",
     "exception": false,
     "start_time": "2022-07-10T13:03:02.440599",
     "status": "completed"
    },
    "tags": []
   },
   "source": [
    "# Classifier Using the Functional API"
   ]
  },
  {
   "attachments": {
    "490ca185-ee6e-44ff-9622-9f411949c54b.png": {
     "image/png": "[encoded data removed]"
    }
   },
   "cell_type": "markdown",
   "id": "175e7ff5",
   "metadata": {
    "papermill": {
     "duration": 0.012776,
     "end_time": "2022-07-10T13:03:02.479107",
     "exception": false,
     "start_time": "2022-07-10T13:03:02.466331",
     "status": "completed"
    },
    "tags": []
   },
   "source": [
    "but why we sometimes want to use Functional API?\n",
    "-  This architecture makes it possible for the neural network to learn both deep patterns (using the deep path) and simple rules (through the short path) thus, save simple patterns in the data may end up being distorted by this sequence of transformations\n",
    "![image.png](attachment:490ca185-ee6e-44ff-9622-9f411949c54b.png)"
   ]
  },
  {
   "cell_type": "code",
   "execution_count": 15,
   "id": "02ca154c",
   "metadata": {
    "execution": {
     "iopub.execute_input": "2022-07-10T13:03:02.507134Z",
     "iopub.status.busy": "2022-07-10T13:03:02.506367Z",
     "iopub.status.idle": "2022-07-10T13:03:02.541332Z",
     "shell.execute_reply": "2022-07-10T13:03:02.540405Z"
    },
    "papermill": {
     "duration": 0.051737,
     "end_time": "2022-07-10T13:03:02.543893",
     "exception": false,
     "start_time": "2022-07-10T13:03:02.492156",
     "status": "completed"
    },
    "tags": []
   },
   "outputs": [],
   "source": [
    "input_ = keras.layers.Input(shape=[95] )\n",
    "hidden1 = keras.layers.Dense(300 , activation = 'relu')(input_)\n",
    "hidden2 = keras.layers.Dense(100 , activation = 'relu')(hidden1)\n",
    "\n",
    "concat = keras.layers.Concatenate()([input_ , hidden2])\n",
    "output = keras.layers.Dense(1,activation = 'sigmoid')(concat) \n",
    "model_Fun = keras.Model(inputs =[input_] , outputs = [output])"
   ]
  },
  {
   "cell_type": "code",
   "execution_count": 16,
   "id": "54dd7c13",
   "metadata": {
    "execution": {
     "iopub.execute_input": "2022-07-10T13:03:02.572751Z",
     "iopub.status.busy": "2022-07-10T13:03:02.571950Z",
     "iopub.status.idle": "2022-07-10T13:03:02.581785Z",
     "shell.execute_reply": "2022-07-10T13:03:02.580906Z"
    },
    "papermill": {
     "duration": 0.026359,
     "end_time": "2022-07-10T13:03:02.583876",
     "exception": false,
     "start_time": "2022-07-10T13:03:02.557517",
     "status": "completed"
    },
    "tags": []
   },
   "outputs": [],
   "source": [
    "optimizer = keras.optimizers.SGD(learning_rate=0.001)\n",
    "model_Fun.compile(loss = 'binary_crossentropy' , optimizer = optimizer,metrics=[\"accuracy\"])\n",
    "checkpoint_cb = keras.callbacks.ModelCheckpoint('model_Fun.h5' , save_best_only=True)"
   ]
  },
  {
   "cell_type": "code",
   "execution_count": 17,
   "id": "a51b9d17",
   "metadata": {
    "execution": {
     "iopub.execute_input": "2022-07-10T13:03:02.611599Z",
     "iopub.status.busy": "2022-07-10T13:03:02.611010Z",
     "iopub.status.idle": "2022-07-10T13:04:25.059766Z",
     "shell.execute_reply": "2022-07-10T13:04:25.058741Z"
    },
    "papermill": {
     "duration": 82.46508,
     "end_time": "2022-07-10T13:04:25.061904",
     "exception": false,
     "start_time": "2022-07-10T13:03:02.596824",
     "status": "completed"
    },
    "tags": []
   },
   "outputs": [
    {
     "data": {
      "text/plain": [
       "<AxesSubplot:>"
      ]
     },
     "execution_count": 17,
     "metadata": {},
     "output_type": "execute_result"
    },
    {
     "data": {
      "image/png": "[encoded data removed]",
      "text/plain": [
       "<Figure size 432x288 with 1 Axes>"
      ]
     },
     "metadata": {
      "needs_background": "light"
     },
     "output_type": "display_data"
    }
   ],
   "source": [
    "history = model_Fun.fit(X_train, y_train, epochs=100 ,validation_split=0.1 ,verbose= 0 ,callbacks=[checkpoint_cb])\n",
    "pd.DataFrame(history.history).plot()"
   ]
  },
  {
   "cell_type": "code",
   "execution_count": 18,
   "id": "688b484c",
   "metadata": {
    "execution": {
     "iopub.execute_input": "2022-07-10T13:04:25.090752Z",
     "iopub.status.busy": "2022-07-10T13:04:25.090063Z",
     "iopub.status.idle": "2022-07-10T13:04:25.282580Z",
     "shell.execute_reply": "2022-07-10T13:04:25.281652Z"
    },
    "papermill": {
     "duration": 0.208962,
     "end_time": "2022-07-10T13:04:25.284588",
     "exception": false,
     "start_time": "2022-07-10T13:04:25.075626",
     "status": "completed"
    },
    "tags": []
   },
   "outputs": [
    {
     "name": "stdout",
     "output_type": "stream",
     "text": [
      "51/51 [==============================] - 0s 2ms/step - loss: 0.0514 - accuracy: 0.9865\n"
     ]
    },
    {
     "data": {
      "text/plain": [
       "[0.051398418843746185, 0.9864615201950073]"
      ]
     },
     "execution_count": 18,
     "metadata": {},
     "output_type": "execute_result"
    }
   ],
   "source": [
    "model_Fun.evaluate(X_test , y_test)"
   ]
  },
  {
   "attachments": {
    "656f47ab-f4fa-454b-bbd1-06acedf78c35.png": {
     "image/png": "[encoded data removed]"
    }
   },
   "cell_type": "markdown",
   "id": "902dbe7b",
   "metadata": {
    "papermill": {
     "duration": 0.013261,
     "end_time": "2022-07-10T13:04:25.311672",
     "exception": false,
     "start_time": "2022-07-10T13:04:25.298411",
     "status": "completed"
    },
    "tags": []
   },
   "source": [
    "so as you can see that for the same settings the seq dose better that Fun , so let's not give up on the Fun and tring a little bit complicated one with the same settings\n",
    "![image.png](attachment:656f47ab-f4fa-454b-bbd1-06acedf78c35.png)"
   ]
  },
  {
   "cell_type": "code",
   "execution_count": 19,
   "id": "a19323c9",
   "metadata": {
    "execution": {
     "iopub.execute_input": "2022-07-10T13:04:25.340831Z",
     "iopub.status.busy": "2022-07-10T13:04:25.340500Z",
     "iopub.status.idle": "2022-07-10T13:04:25.373611Z",
     "shell.execute_reply": "2022-07-10T13:04:25.372785Z"
    },
    "papermill": {
     "duration": 0.050246,
     "end_time": "2022-07-10T13:04:25.375702",
     "exception": false,
     "start_time": "2022-07-10T13:04:25.325456",
     "status": "completed"
    },
    "tags": []
   },
   "outputs": [],
   "source": [
    "input_A = keras.layers.Input(shape=[46], name=\"wide_input\")\n",
    "input_B = keras.layers.Input(shape=[55], name=\"deep_input\")\n",
    "\n",
    "hidden1 = keras.layers.Dense(300, activation=\"relu\")(input_B)\n",
    "hidden2 = keras.layers.Dense(100, activation=\"relu\")(hidden1)\n",
    "\n",
    "concat = keras.layers.concatenate([input_A, hidden2])\n",
    "output = keras.layers.Dense(1,activation = 'sigmoid' ,name=\"output\")(concat)\n",
    "model_Fun_mod = keras.Model(inputs=[input_A, input_B], outputs=[output])"
   ]
  },
  {
   "cell_type": "code",
   "execution_count": 20,
   "id": "2f86d912",
   "metadata": {
    "execution": {
     "iopub.execute_input": "2022-07-10T13:04:25.404920Z",
     "iopub.status.busy": "2022-07-10T13:04:25.403448Z",
     "iopub.status.idle": "2022-07-10T13:04:25.410229Z",
     "shell.execute_reply": "2022-07-10T13:04:25.409372Z"
    },
    "papermill": {
     "duration": 0.02291,
     "end_time": "2022-07-10T13:04:25.412094",
     "exception": false,
     "start_time": "2022-07-10T13:04:25.389184",
     "status": "completed"
    },
    "tags": []
   },
   "outputs": [],
   "source": [
    "X_train_A  , X_train_B = X_train.iloc[:,:46] , X_train.iloc[:,40:]\n",
    "X_test_A  , X_test_B = X_test.iloc[:,:46] , X_test.iloc[:,40:]"
   ]
  },
  {
   "cell_type": "code",
   "execution_count": 21,
   "id": "a4c43a2a",
   "metadata": {
    "execution": {
     "iopub.execute_input": "2022-07-10T13:04:25.441556Z",
     "iopub.status.busy": "2022-07-10T13:04:25.439965Z",
     "iopub.status.idle": "2022-07-10T13:04:25.450630Z",
     "shell.execute_reply": "2022-07-10T13:04:25.449840Z"
    },
    "papermill": {
     "duration": 0.027043,
     "end_time": "2022-07-10T13:04:25.452501",
     "exception": false,
     "start_time": "2022-07-10T13:04:25.425458",
     "status": "completed"
    },
    "tags": []
   },
   "outputs": [],
   "source": [
    "optimizer = keras.optimizers.SGD(learning_rate=0.001)\n",
    "model_Fun_mod.compile(loss = 'binary_crossentropy' , optimizer = optimizer,metrics=[\"accuracy\"])\n",
    "checkpoint_cb = keras.callbacks.ModelCheckpoint('model_Fun_mod.h5' , save_best_only=True)"
   ]
  },
  {
   "cell_type": "code",
   "execution_count": 22,
   "id": "726c7153",
   "metadata": {
    "execution": {
     "iopub.execute_input": "2022-07-10T13:04:25.480373Z",
     "iopub.status.busy": "2022-07-10T13:04:25.480121Z",
     "iopub.status.idle": "2022-07-10T13:05:47.943854Z",
     "shell.execute_reply": "2022-07-10T13:05:47.942932Z"
    },
    "papermill": {
     "duration": 82.480399,
     "end_time": "2022-07-10T13:05:47.946084",
     "exception": false,
     "start_time": "2022-07-10T13:04:25.465685",
     "status": "completed"
    },
    "tags": []
   },
   "outputs": [
    {
     "data": {
      "text/plain": [
       "<AxesSubplot:>"
      ]
     },
     "execution_count": 22,
     "metadata": {},
     "output_type": "execute_result"
    },
    {
     "data": {
      "image/png": "[encoded data removed]",
      "text/plain": [
       "<Figure size 432x288 with 1 Axes>"
      ]
     },
     "metadata": {
      "needs_background": "light"
     },
     "output_type": "display_data"
    }
   ],
   "source": [
    "history = model_Fun_mod.fit((X_train_A , X_train_B), y_train, epochs=100 ,validation_split=0.1 ,verbose= 0 ,callbacks=[checkpoint_cb])\n",
    "pd.DataFrame(history.history).plot()"
   ]
  },
  {
   "cell_type": "code",
   "execution_count": 23,
   "id": "3fdd80f2",
   "metadata": {
    "execution": {
     "iopub.execute_input": "2022-07-10T13:05:47.978138Z",
     "iopub.status.busy": "2022-07-10T13:05:47.977125Z",
     "iopub.status.idle": "2022-07-10T13:05:48.135774Z",
     "shell.execute_reply": "2022-07-10T13:05:48.134736Z"
    },
    "papermill": {
     "duration": 0.177399,
     "end_time": "2022-07-10T13:05:48.137972",
     "exception": false,
     "start_time": "2022-07-10T13:05:47.960573",
     "status": "completed"
    },
    "tags": []
   },
   "outputs": [
    {
     "name": "stdout",
     "output_type": "stream",
     "text": [
      "51/51 [==============================] - 0s 2ms/step - loss: 0.0859 - accuracy: 0.9772\n"
     ]
    },
    {
     "data": {
      "text/plain": [
       "[0.0859353318810463, 0.9772307872772217]"
      ]
     },
     "execution_count": 23,
     "metadata": {},
     "output_type": "execute_result"
    }
   ],
   "source": [
    "model_Fun_mod.evaluate((X_test_A , X_test_B) , y_test)"
   ]
  },
  {
   "cell_type": "markdown",
   "id": "8d4778a5",
   "metadata": {
    "papermill": {
     "duration": 0.01428,
     "end_time": "2022-07-10T13:05:48.167211",
     "exception": false,
     "start_time": "2022-07-10T13:05:48.152931",
     "status": "completed"
    },
    "tags": []
   },
   "source": [
    "till now the Seq model is the one , so let's fine-tuning it"
   ]
  },
  {
   "cell_type": "markdown",
   "id": "08034af9",
   "metadata": {
    "papermill": {
     "duration": 0.014474,
     "end_time": "2022-07-10T13:05:48.196076",
     "exception": false,
     "start_time": "2022-07-10T13:05:48.181602",
     "status": "completed"
    },
    "tags": []
   },
   "source": [
    "# Fine-Tuning Neural Network Hyperparameters"
   ]
  },
  {
   "attachments": {
    "8ec8a435-0cfe-41d0-8ee4-ecbd1bf2259a.png": {
     "image/png": "[encoded data removed]"
    }
   },
   "cell_type": "markdown",
   "id": "b86d4d03",
   "metadata": {
    "papermill": {
     "duration": 0.014203,
     "end_time": "2022-07-10T13:05:48.225082",
     "exception": false,
     "start_time": "2022-07-10T13:05:48.210879",
     "status": "completed"
    },
    "tags": []
   },
   "source": [
    "The flexibility of neural networks is also one of their main drawbacks: there are many\n",
    "hyperparameters to tweak. Not only can you use any imaginable network architec‐\n",
    "ture, but even in a simple MLP you can change the number of layers, the number of\n",
    "neurons per layer, the type of activation function to use in each layer, the weight initi‐\n",
    "alization logic, and much more. How do you know what combination of hyperpara‐\n",
    "meters is the best for your task?\n",
    "-  so i will try to give a systemic way of thinking\n",
    "![image.png](attachment:8ec8a435-0cfe-41d0-8ee4-ecbd1bf2259a.png)"
   ]
  },
  {
   "cell_type": "markdown",
   "id": "c9b0b80c",
   "metadata": {
    "papermill": {
     "duration": 0.014478,
     "end_time": "2022-07-10T13:05:48.254759",
     "exception": false,
     "start_time": "2022-07-10T13:05:48.240281",
     "status": "completed"
    },
    "tags": []
   },
   "source": [
    "#### let's start with learning rate"
   ]
  },
  {
   "cell_type": "code",
   "execution_count": 24,
   "id": "e77488dc",
   "metadata": {
    "execution": {
     "iopub.execute_input": "2022-07-10T13:05:48.285571Z",
     "iopub.status.busy": "2022-07-10T13:05:48.285229Z",
     "iopub.status.idle": "2022-07-10T13:05:48.292903Z",
     "shell.execute_reply": "2022-07-10T13:05:48.291848Z"
    },
    "papermill": {
     "duration": 0.025178,
     "end_time": "2022-07-10T13:05:48.294660",
     "exception": false,
     "start_time": "2022-07-10T13:05:48.269482",
     "status": "completed"
    },
    "tags": []
   },
   "outputs": [],
   "source": [
    "def build_model(learning_rate=3e-3, input_shape=[95]):\n",
    "    model = keras.models.Sequential()\n",
    "    model.add(keras.layers.InputLayer(input_shape=input_shape))\n",
    "    model.add(keras.layers.Dense(300, activation=\"relu\"))\n",
    "    model.add(keras.layers.Dense(100, activation=\"relu\"))\n",
    "    model.add(keras.layers.Dense(1 , activation ='sigmoid'))\n",
    "    optimizer = keras.optimizers.SGD(learning_rate=learning_rate)\n",
    "    model.compile(loss = 'binary_crossentropy' , optimizer = optimizer\n",
    "                  ,metrics=[\"accuracy\"])\n",
    "    return model"
   ]
  },
  {
   "cell_type": "code",
   "execution_count": 25,
   "id": "f63fc496",
   "metadata": {
    "execution": {
     "iopub.execute_input": "2022-07-10T13:05:48.325902Z",
     "iopub.status.busy": "2022-07-10T13:05:48.325384Z",
     "iopub.status.idle": "2022-07-10T13:05:48.330300Z",
     "shell.execute_reply": "2022-07-10T13:05:48.328967Z"
    },
    "papermill": {
     "duration": 0.023079,
     "end_time": "2022-07-10T13:05:48.332412",
     "exception": false,
     "start_time": "2022-07-10T13:05:48.309333",
     "status": "completed"
    },
    "tags": []
   },
   "outputs": [],
   "source": [
    "keras_cla = keras.wrappers.scikit_learn.KerasClassifier(build_model)"
   ]
  },
  {
   "cell_type": "markdown",
   "id": "ef3111ed",
   "metadata": {
    "papermill": {
     "duration": 0.014189,
     "end_time": "2022-07-10T13:05:48.360533",
     "exception": false,
     "start_time": "2022-07-10T13:05:48.346344",
     "status": "completed"
    },
    "tags": []
   },
   "source": [
    "#### Learning rate\n",
    "The learning rate is arguably the most important hyperparameter.In general ,train the model for a few hundred iter‐\n",
    "ations, starting with a very low learning rate (e.g., 10-5) and gradually increasing\n",
    "it up to a very large value (e.g., 10)"
   ]
  },
  {
   "cell_type": "code",
   "execution_count": 26,
   "id": "7d4a087f",
   "metadata": {
    "execution": {
     "iopub.execute_input": "2022-07-10T13:05:48.391332Z",
     "iopub.status.busy": "2022-07-10T13:05:48.390675Z",
     "iopub.status.idle": "2022-07-10T13:23:27.404756Z",
     "shell.execute_reply": "2022-07-10T13:23:27.403840Z"
    },
    "papermill": {
     "duration": 1059.053107,
     "end_time": "2022-07-10T13:23:27.427968",
     "exception": false,
     "start_time": "2022-07-10T13:05:48.374861",
     "status": "completed"
    },
    "tags": []
   },
   "outputs": [
    {
     "name": "stdout",
     "output_type": "stream",
     "text": [
      "68/68 [==============================] - 0s 2ms/step - loss: 0.0238 - accuracy: 0.9991\n",
      "68/68 [==============================] - 0s 2ms/step - loss: 0.0282 - accuracy: 0.9968\n",
      "68/68 [==============================] - 0s 2ms/step - loss: 0.0293 - accuracy: 0.9926\n",
      "68/68 [==============================] - 0s 2ms/step - loss: 9.5870e-04 - accuracy: 0.9995\n",
      "68/68 [==============================] - 0s 2ms/step - loss: 0.0021 - accuracy: 0.9991\n",
      "68/68 [==============================] - 0s 2ms/step - loss: 4.3135e-04 - accuracy: 1.0000\n",
      "68/68 [==============================] - 0s 2ms/step - loss: 0.0279 - accuracy: 0.9982\n",
      "68/68 [==============================] - 0s 2ms/step - loss: 0.0297 - accuracy: 0.9968\n",
      "68/68 [==============================] - 0s 2ms/step - loss: 0.0341 - accuracy: 0.9894\n",
      "68/68 [==============================] - 0s 2ms/step - loss: 0.0016 - accuracy: 0.9995\n",
      "68/68 [==============================] - 0s 2ms/step - loss: 0.0022 - accuracy: 0.9991\n",
      "68/68 [==============================] - 0s 2ms/step - loss: 0.0011 - accuracy: 1.0000\n",
      "68/68 [==============================] - 0s 4ms/step - loss: 0.0015 - accuracy: 1.0000\n",
      "68/68 [==============================] - 0s 2ms/step - loss: 0.0033 - accuracy: 0.9991\n",
      "68/68 [==============================] - 0s 2ms/step - loss: 0.0011 - accuracy: 1.0000\n",
      "68/68 [==============================] - 0s 2ms/step - loss: 7.5573e-04 - accuracy: 1.0000\n",
      "68/68 [==============================] - 0s 2ms/step - loss: 0.0026 - accuracy: 0.9991\n",
      "68/68 [==============================] - 0s 2ms/step - loss: 4.5941e-04 - accuracy: 1.0000\n",
      "68/68 [==============================] - 0s 2ms/step - loss: 0.0564 - accuracy: 0.9866\n",
      "68/68 [==============================] - 0s 2ms/step - loss: 0.0540 - accuracy: 0.9894\n",
      "68/68 [==============================] - 0s 2ms/step - loss: 0.0613 - accuracy: 0.9848\n",
      "68/68 [==============================] - 0s 2ms/step - loss: 0.0777 - accuracy: 0.9838\n",
      "68/68 [==============================] - 0s 2ms/step - loss: 0.0673 - accuracy: 0.9898\n",
      "68/68 [==============================] - 0s 2ms/step - loss: 0.0870 - accuracy: 0.9825\n",
      "68/68 [==============================] - 0s 2ms/step - loss: 0.0085 - accuracy: 0.9995\n",
      "68/68 [==============================] - 0s 2ms/step - loss: 0.0128 - accuracy: 0.9977\n",
      "68/68 [==============================] - 0s 2ms/step - loss: 0.0085 - accuracy: 1.0000\n",
      "68/68 [==============================] - 0s 2ms/step - loss: 0.1511 - accuracy: 0.9603\n",
      "68/68 [==============================] - 0s 3ms/step - loss: 0.1262 - accuracy: 0.9825\n",
      "68/68 [==============================] - 0s 2ms/step - loss: 0.1645 - accuracy: 0.9580\n"
     ]
    },
    {
     "data": {
      "text/plain": [
       "RandomizedSearchCV(cv=3,\n",
       "                   estimator=<keras.wrappers.scikit_learn.KerasClassifier object at 0x7f4786647d50>,\n",
       "                   param_distributions={'learning_rate': <scipy.stats._distn_infrastructure.rv_frozen object at 0x7f47734ed7d0>})"
      ]
     },
     "execution_count": 26,
     "metadata": {},
     "output_type": "execute_result"
    }
   ],
   "source": [
    "learning_rate_distribs={\n",
    "    'learning_rate' :reciprocal(3e-4 , 3e-2)\n",
    "}\n",
    "rnd_search_cv = RandomizedSearchCV(keras_cla , learning_rate_distribs , n_iter= 10 , cv=3)\n",
    "rnd_search_cv.fit(X_train, y_train, epochs=100,validation_split=0.1,callbacks=[keras.callbacks.EarlyStopping(patience=10)] , verbose = 0)"
   ]
  },
  {
   "cell_type": "code",
   "execution_count": 27,
   "id": "bc787505",
   "metadata": {
    "execution": {
     "iopub.execute_input": "2022-07-10T13:23:27.471581Z",
     "iopub.status.busy": "2022-07-10T13:23:27.471262Z",
     "iopub.status.idle": "2022-07-10T13:23:27.477266Z",
     "shell.execute_reply": "2022-07-10T13:23:27.476246Z"
    },
    "papermill": {
     "duration": 0.030269,
     "end_time": "2022-07-10T13:23:27.479240",
     "exception": false,
     "start_time": "2022-07-10T13:23:27.448971",
     "status": "completed"
    },
    "tags": []
   },
   "outputs": [
    {
     "data": {
      "text/plain": [
       "{'learning_rate': 0.013069418045404447}"
      ]
     },
     "execution_count": 27,
     "metadata": {},
     "output_type": "execute_result"
    }
   ],
   "source": [
    "rnd_search_cv.best_params_"
   ]
  },
  {
   "cell_type": "code",
   "execution_count": 28,
   "id": "aa2a3385",
   "metadata": {
    "execution": {
     "iopub.execute_input": "2022-07-10T13:23:27.528099Z",
     "iopub.status.busy": "2022-07-10T13:23:27.526576Z",
     "iopub.status.idle": "2022-07-10T13:23:27.533923Z",
     "shell.execute_reply": "2022-07-10T13:23:27.532871Z"
    },
    "papermill": {
     "duration": 0.034307,
     "end_time": "2022-07-10T13:23:27.536317",
     "exception": false,
     "start_time": "2022-07-10T13:23:27.502010",
     "status": "completed"
    },
    "tags": []
   },
   "outputs": [
    {
     "data": {
      "text/plain": [
       "0.9996922214825948"
      ]
     },
     "execution_count": 28,
     "metadata": {},
     "output_type": "execute_result"
    }
   ],
   "source": [
    "rnd_search_cv.best_score_"
   ]
  },
  {
   "cell_type": "code",
   "execution_count": 29,
   "id": "8abf4b79",
   "metadata": {
    "execution": {
     "iopub.execute_input": "2022-07-10T13:23:27.584356Z",
     "iopub.status.busy": "2022-07-10T13:23:27.582970Z",
     "iopub.status.idle": "2022-07-10T13:23:27.588244Z",
     "shell.execute_reply": "2022-07-10T13:23:27.587438Z"
    },
    "papermill": {
     "duration": 0.029211,
     "end_time": "2022-07-10T13:23:27.590128",
     "exception": false,
     "start_time": "2022-07-10T13:23:27.560917",
     "status": "completed"
    },
    "tags": []
   },
   "outputs": [],
   "source": [
    "model = rnd_search_cv.best_estimator_.model"
   ]
  },
  {
   "cell_type": "code",
   "execution_count": 30,
   "id": "cbce55ae",
   "metadata": {
    "execution": {
     "iopub.execute_input": "2022-07-10T13:23:27.634169Z",
     "iopub.status.busy": "2022-07-10T13:23:27.633910Z",
     "iopub.status.idle": "2022-07-10T13:23:27.773171Z",
     "shell.execute_reply": "2022-07-10T13:23:27.772222Z"
    },
    "papermill": {
     "duration": 0.163913,
     "end_time": "2022-07-10T13:23:27.775238",
     "exception": false,
     "start_time": "2022-07-10T13:23:27.611325",
     "status": "completed"
    },
    "tags": []
   },
   "outputs": [
    {
     "name": "stdout",
     "output_type": "stream",
     "text": [
      "51/51 [==============================] - 0s 2ms/step - loss: 0.0016 - accuracy: 0.9994\n"
     ]
    },
    {
     "data": {
      "text/plain": [
       "[0.0015593619318678975, 0.9993846416473389]"
      ]
     },
     "execution_count": 30,
     "metadata": {},
     "output_type": "execute_result"
    }
   ],
   "source": [
    "model.evaluate(X_test , y_test)"
   ]
  },
  {
   "cell_type": "markdown",
   "id": "567ca1ce",
   "metadata": {
    "papermill": {
     "duration": 0.021928,
     "end_time": "2022-07-10T13:23:27.819873",
     "exception": false,
     "start_time": "2022-07-10T13:23:27.797945",
     "status": "completed"
    },
    "tags": []
   },
   "source": [
    "so as i got 100% accuracy i am satisfied , but i will give you some tips in case your projects require more tunning\n",
    "-  Choosing a better optimizer than plain old Mini-batch Gradient Descent\n",
    "-  for many problems you can start with just one or two hidden layers and the neural network will work just fine\n",
    "-  for number of Neurons it used to be common to size them to form a pyramid, with fewer and fewer neurons at each layer, \n",
    "-  But in practice, it’s often simpler and more efficient to pick a model with more layers and neurons than you actually need, then use early stopping and other regularization techniques to prevent it from overfitting.\n",
    "-  the ReLU activation function will be a good default for all hidden layers\n",
    "-  one strategy is to try to use a large batch size, using learning rate warmup, and if training is unstable or the final performance is disappointing, then try using a small batch size instead."
   ]
  }
 ],
 "metadata": {
  "kernelspec": {
   "display_name": "Python 3",
   "language": "python",
   "name": "python3"
  },
  "language_info": {
   "codemirror_mode": {
    "name": "ipython",
    "version": 3
   },
   "file_extension": ".py",
   "mimetype": "text/x-python",
   "name": "python",
   "nbconvert_exporter": "python",
   "pygments_lexer": "ipython3",
   "version": "3.7.12"
  },
  "papermill": {
   "default_parameters": {},
   "duration": 1329.128311,
   "end_time": "2022-07-10T13:23:30.798555",
   "environment_variables": {},
   "exception": null,
   "input_path": "__notebook__.ipynb",
   "output_path": "__notebook__.ipynb",
   "parameters": {},
   "start_time": "2022-07-10T13:01:21.670244",
   "version": "2.3.4"
  }
 },
 "nbformat": 4,
 "nbformat_minor": 5
}
